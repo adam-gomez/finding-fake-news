{
 "cells": [
  {
   "cell_type": "code",
   "execution_count": 1,
   "metadata": {},
   "outputs": [],
   "source": [
    "# ACQUIRE\n",
    "import numpy as np\n",
    "import pandas as pd\n",
    "from acquire import acquire_headlines\n",
    "\n",
    "# PREPARE\n",
    "from prepare import get_prepped_data\n",
    "from sklearn.model_selection import train_test_split\n",
    "\n",
    "# VISUALIZATION\n",
    "import matplotlib.pyplot as plt\n",
    "import seaborn as sns\n",
    "from wordcloud import WordCloud\n",
    "\n",
    "# EXPLORE\n",
    "from explore import h_bar_proportions\n",
    "from explore import idf\n",
    "from scipy import stats\n",
    "import nltk"
   ]
  },
  {
   "cell_type": "markdown",
   "metadata": {},
   "source": [
    "# Acquire\n",
    "\n",
    "Acquiring the data is accomplished through interaction with Reddit's API. Documentation about the API used for this project can be found at: https://github.com/pushshift/api\n",
    "\n",
    "The r/TheOnion subreddit was created on March 23, 2008, but the first post didn't occur until October 28, 2008. The r/NotTheOnion subreddit was created on October 25, 2008. Our data consists of the top 100 posts (by score) for every day starting on Oct 1, 2008 through December 3, 2020. \n",
    "\n",
    "Our requests to Reddit's API returned json pages that have been collated and stored in 'onion.json' for r/TheOnion and 'not_onion.json' for r/NotTheOnion. Our acquire_headlines function retrieves the 'title' information from our json files and puts them into a dataframe with a label column distinguishing headlines from r/TheOnion (1) and r/NotTheOnion (0). "
   ]
  },
  {
   "cell_type": "code",
   "execution_count": 2,
   "metadata": {},
   "outputs": [
    {
     "data": {
      "text/html": [
       "<div>\n",
       "<style scoped>\n",
       "    .dataframe tbody tr th:only-of-type {\n",
       "        vertical-align: middle;\n",
       "    }\n",
       "\n",
       "    .dataframe tbody tr th {\n",
       "        vertical-align: top;\n",
       "    }\n",
       "\n",
       "    .dataframe thead th {\n",
       "        text-align: right;\n",
       "    }\n",
       "</style>\n",
       "<table border=\"1\" class=\"dataframe\">\n",
       "  <thead>\n",
       "    <tr style=\"text-align: right;\">\n",
       "      <th></th>\n",
       "      <th>label</th>\n",
       "      <th>headline</th>\n",
       "    </tr>\n",
       "  </thead>\n",
       "  <tbody>\n",
       "    <tr>\n",
       "      <th>0</th>\n",
       "      <td>1</td>\n",
       "      <td>Friendly Cashier Persona Briefly Dropped To Ad...</td>\n",
       "    </tr>\n",
       "    <tr>\n",
       "      <th>1</th>\n",
       "      <td>1</td>\n",
       "      <td>Tucker Carlson Angrily Explains Difference Bet...</td>\n",
       "    </tr>\n",
       "    <tr>\n",
       "      <th>2</th>\n",
       "      <td>1</td>\n",
       "      <td>Emotional Bill Belichick Wipes Away Tar Stream...</td>\n",
       "    </tr>\n",
       "    <tr>\n",
       "      <th>3</th>\n",
       "      <td>1</td>\n",
       "      <td>The Week In Pictures – Week Of May 14, 2018</td>\n",
       "    </tr>\n",
       "    <tr>\n",
       "      <th>4</th>\n",
       "      <td>1</td>\n",
       "      <td>Man Always Carries Gun In Case He Needs To Esc...</td>\n",
       "    </tr>\n",
       "    <tr>\n",
       "      <th>...</th>\n",
       "      <td>...</td>\n",
       "      <td>...</td>\n",
       "    </tr>\n",
       "    <tr>\n",
       "      <th>260302</th>\n",
       "      <td>0</td>\n",
       "      <td>Wildlife officials telling people not to paint...</td>\n",
       "    </tr>\n",
       "    <tr>\n",
       "      <th>260303</th>\n",
       "      <td>0</td>\n",
       "      <td>Mark Hamill chimes in on wanted man named Luke...</td>\n",
       "    </tr>\n",
       "    <tr>\n",
       "      <th>260304</th>\n",
       "      <td>0</td>\n",
       "      <td>Condom machine explosion ends fatally in Germany</td>\n",
       "    </tr>\n",
       "    <tr>\n",
       "      <th>260305</th>\n",
       "      <td>0</td>\n",
       "      <td>China delegates told to leave selfie sticks at...</td>\n",
       "    </tr>\n",
       "    <tr>\n",
       "      <th>260306</th>\n",
       "      <td>0</td>\n",
       "      <td>What is with this hellish airplane seat arrang...</td>\n",
       "    </tr>\n",
       "  </tbody>\n",
       "</table>\n",
       "<p>260307 rows × 2 columns</p>\n",
       "</div>"
      ],
      "text/plain": [
       "        label                                           headline\n",
       "0           1  Friendly Cashier Persona Briefly Dropped To Ad...\n",
       "1           1  Tucker Carlson Angrily Explains Difference Bet...\n",
       "2           1  Emotional Bill Belichick Wipes Away Tar Stream...\n",
       "3           1        The Week In Pictures – Week Of May 14, 2018\n",
       "4           1  Man Always Carries Gun In Case He Needs To Esc...\n",
       "...       ...                                                ...\n",
       "260302      0  Wildlife officials telling people not to paint...\n",
       "260303      0  Mark Hamill chimes in on wanted man named Luke...\n",
       "260304      0   Condom machine explosion ends fatally in Germany\n",
       "260305      0  China delegates told to leave selfie sticks at...\n",
       "260306      0  What is with this hellish airplane seat arrang...\n",
       "\n",
       "[260307 rows x 2 columns]"
      ]
     },
     "execution_count": 2,
     "metadata": {},
     "output_type": "execute_result"
    }
   ],
   "source": [
    "df = acquire_headlines()\n",
    "df"
   ]
  },
  {
   "cell_type": "code",
   "execution_count": 3,
   "metadata": {},
   "outputs": [
    {
     "name": "stdout",
     "output_type": "stream",
     "text": [
      "<class 'pandas.core.frame.DataFrame'>\n",
      "RangeIndex: 260307 entries, 0 to 260306\n",
      "Data columns (total 2 columns):\n",
      " #   Column    Non-Null Count   Dtype \n",
      "---  ------    --------------   ----- \n",
      " 0   label     260307 non-null  int64 \n",
      " 1   headline  260307 non-null  object\n",
      "dtypes: int64(1), object(1)\n",
      "memory usage: 4.0+ MB\n"
     ]
    }
   ],
   "source": [
    "df.info()"
   ]
  },
  {
   "cell_type": "markdown",
   "metadata": {},
   "source": [
    "# Prepare\n",
    "\n",
    "Utilizing the `get_prepped_data()` function from our prepare.py file, we modify the dataframe by:\n",
    "1. Cleaning the raw strings in the readme_contents column by eliminating non-alphanumeric characters and single character words from the raw strings.  \n",
    "1. Tokenizing the words using TokTokTokenizer.  \n",
    "1. Adding a stemmed column made from the use of PorterStemmer() from the nltk library.  \n",
    "1. Adding a lemmatized column made from the use of WordNetLemmatizer from the nltk library.  \n",
    "1. Removing stopwords from the lemmatized results to create the clean column.  \n",
    "1. Adding the stopwords_removed column. This provides a count of the number of stopwords removed from the lemmatized string.  \n",
    "1. Adding the doc_length column. This provides the total number of words in the contents of the clean column.  \n",
    "1. Adding the words column. This contains a list of the words found in each cleaned string.  \n",
    "1. Dropping any observations with missing data  \n",
    "1. Dropping observations that have a doc length of 0 (these are generally titles that were created from languages that do not use the modern English alphabet)\n",
    "\n",
    "The get_prepped_data function will save this prepped dataframe as `'headlines.csv'`. If `'headlines.csv'` already exists, it will instead read from the saved file. This can cause the order of the headlines to differ from the result of the `acquire_headlines()` output, but the data is identical. "
   ]
  },
  {
   "cell_type": "code",
   "execution_count": 4,
   "metadata": {},
   "outputs": [
    {
     "data": {
      "text/html": [
       "<div>\n",
       "<style scoped>\n",
       "    .dataframe tbody tr th:only-of-type {\n",
       "        vertical-align: middle;\n",
       "    }\n",
       "\n",
       "    .dataframe tbody tr th {\n",
       "        vertical-align: top;\n",
       "    }\n",
       "\n",
       "    .dataframe thead th {\n",
       "        text-align: right;\n",
       "    }\n",
       "</style>\n",
       "<table border=\"1\" class=\"dataframe\">\n",
       "  <thead>\n",
       "    <tr style=\"text-align: right;\">\n",
       "      <th></th>\n",
       "      <th>label</th>\n",
       "      <th>headline</th>\n",
       "      <th>stemmed</th>\n",
       "      <th>lemmatized</th>\n",
       "      <th>clean</th>\n",
       "      <th>stopwords_removed</th>\n",
       "      <th>doc_length</th>\n",
       "      <th>words</th>\n",
       "    </tr>\n",
       "  </thead>\n",
       "  <tbody>\n",
       "    <tr>\n",
       "      <th>0</th>\n",
       "      <td>1</td>\n",
       "      <td>Friendly Cashier Persona Briefly Dropped To Ad...</td>\n",
       "      <td>friendli cashier persona briefli drop to addre...</td>\n",
       "      <td>friendly cashier persona briefly dropped to ad...</td>\n",
       "      <td>friendly cashier persona briefly dropped addre...</td>\n",
       "      <td>1</td>\n",
       "      <td>7</td>\n",
       "      <td>[friendly, cashier, persona, briefly, dropped,...</td>\n",
       "    </tr>\n",
       "    <tr>\n",
       "      <th>1</th>\n",
       "      <td>1</td>\n",
       "      <td>Tucker Carlson Angrily Explains Difference Bet...</td>\n",
       "      <td>tucker carlson angrili explain differ between ...</td>\n",
       "      <td>tucker carlson angrily explains difference bet...</td>\n",
       "      <td>tucker carlson angrily explains difference goo...</td>\n",
       "      <td>2</td>\n",
       "      <td>9</td>\n",
       "      <td>[tucker, carlson, angrily, explains, differenc...</td>\n",
       "    </tr>\n",
       "    <tr>\n",
       "      <th>2</th>\n",
       "      <td>1</td>\n",
       "      <td>Emotional Bill Belichick Wipes Away Tar Stream...</td>\n",
       "      <td>emot bill belichick wipe away tar stream from ...</td>\n",
       "      <td>emotional bill belichick wipe away tar streami...</td>\n",
       "      <td>emotional bill belichick wipe away tar streami...</td>\n",
       "      <td>4</td>\n",
       "      <td>15</td>\n",
       "      <td>[emotional, bill, belichick, wipe, away, tar, ...</td>\n",
       "    </tr>\n",
       "    <tr>\n",
       "      <th>3</th>\n",
       "      <td>1</td>\n",
       "      <td>The Week In Pictures – Week Of May 14, 2018</td>\n",
       "      <td>the week in pictur week of may 14 2018</td>\n",
       "      <td>the week in picture week of may 14 2018</td>\n",
       "      <td>week picture week may 14 2018</td>\n",
       "      <td>3</td>\n",
       "      <td>6</td>\n",
       "      <td>[week, picture, week, may, 14, 2018]</td>\n",
       "    </tr>\n",
       "    <tr>\n",
       "      <th>4</th>\n",
       "      <td>1</td>\n",
       "      <td>Man Always Carries Gun In Case He Needs To Esc...</td>\n",
       "      <td>man alway carri gun in case he need to escal s...</td>\n",
       "      <td>man always carry gun in case he need to escala...</td>\n",
       "      <td>man always carry gun case need escalate situation</td>\n",
       "      <td>3</td>\n",
       "      <td>8</td>\n",
       "      <td>[man, always, carry, gun, case, need, escalate...</td>\n",
       "    </tr>\n",
       "    <tr>\n",
       "      <th>...</th>\n",
       "      <td>...</td>\n",
       "      <td>...</td>\n",
       "      <td>...</td>\n",
       "      <td>...</td>\n",
       "      <td>...</td>\n",
       "      <td>...</td>\n",
       "      <td>...</td>\n",
       "      <td>...</td>\n",
       "    </tr>\n",
       "    <tr>\n",
       "      <th>260119</th>\n",
       "      <td>0</td>\n",
       "      <td>Wildlife officials telling people not to paint...</td>\n",
       "      <td>wildlif offici tell peopl not to paint bird</td>\n",
       "      <td>wildlife official telling people not to paint ...</td>\n",
       "      <td>wildlife official telling people paint bird</td>\n",
       "      <td>2</td>\n",
       "      <td>6</td>\n",
       "      <td>[wildlife, official, telling, people, paint, b...</td>\n",
       "    </tr>\n",
       "    <tr>\n",
       "      <th>260120</th>\n",
       "      <td>0</td>\n",
       "      <td>Mark Hamill chimes in on wanted man named Luke...</td>\n",
       "      <td>mark hamil chime in on want man name luke sky ...</td>\n",
       "      <td>mark hamill chime in on wanted man named luke ...</td>\n",
       "      <td>mark hamill chime wanted man named luke sky wa...</td>\n",
       "      <td>2</td>\n",
       "      <td>9</td>\n",
       "      <td>[mark, hamill, chime, wanted, man, named, luke...</td>\n",
       "    </tr>\n",
       "    <tr>\n",
       "      <th>260121</th>\n",
       "      <td>0</td>\n",
       "      <td>Condom machine explosion ends fatally in Germany</td>\n",
       "      <td>condom machin explos end fatal in germani</td>\n",
       "      <td>condom machine explosion end fatally in germany</td>\n",
       "      <td>condom machine explosion end fatally germany</td>\n",
       "      <td>1</td>\n",
       "      <td>6</td>\n",
       "      <td>[condom, machine, explosion, end, fatally, ger...</td>\n",
       "    </tr>\n",
       "    <tr>\n",
       "      <th>260122</th>\n",
       "      <td>0</td>\n",
       "      <td>China delegates told to leave selfie sticks at...</td>\n",
       "      <td>china deleg told to leav selfi stick at home</td>\n",
       "      <td>china delegate told to leave selfie stick at home</td>\n",
       "      <td>china delegate told leave selfie stick home</td>\n",
       "      <td>2</td>\n",
       "      <td>7</td>\n",
       "      <td>[china, delegate, told, leave, selfie, stick, ...</td>\n",
       "    </tr>\n",
       "    <tr>\n",
       "      <th>260123</th>\n",
       "      <td>0</td>\n",
       "      <td>What is with this hellish airplane seat arrang...</td>\n",
       "      <td>what is with thi hellish airplan seat arrang f...</td>\n",
       "      <td>what is with this hellish airplane seat arrang...</td>\n",
       "      <td>hellish airplane seat arrangement airbus</td>\n",
       "      <td>5</td>\n",
       "      <td>5</td>\n",
       "      <td>[hellish, airplane, seat, arrangement, airbus]</td>\n",
       "    </tr>\n",
       "  </tbody>\n",
       "</table>\n",
       "<p>260124 rows × 8 columns</p>\n",
       "</div>"
      ],
      "text/plain": [
       "        label                                           headline  \\\n",
       "0           1  Friendly Cashier Persona Briefly Dropped To Ad...   \n",
       "1           1  Tucker Carlson Angrily Explains Difference Bet...   \n",
       "2           1  Emotional Bill Belichick Wipes Away Tar Stream...   \n",
       "3           1        The Week In Pictures – Week Of May 14, 2018   \n",
       "4           1  Man Always Carries Gun In Case He Needs To Esc...   \n",
       "...       ...                                                ...   \n",
       "260119      0  Wildlife officials telling people not to paint...   \n",
       "260120      0  Mark Hamill chimes in on wanted man named Luke...   \n",
       "260121      0   Condom machine explosion ends fatally in Germany   \n",
       "260122      0  China delegates told to leave selfie sticks at...   \n",
       "260123      0  What is with this hellish airplane seat arrang...   \n",
       "\n",
       "                                                  stemmed  \\\n",
       "0       friendli cashier persona briefli drop to addre...   \n",
       "1       tucker carlson angrili explain differ between ...   \n",
       "2       emot bill belichick wipe away tar stream from ...   \n",
       "3                  the week in pictur week of may 14 2018   \n",
       "4       man alway carri gun in case he need to escal s...   \n",
       "...                                                   ...   \n",
       "260119        wildlif offici tell peopl not to paint bird   \n",
       "260120  mark hamil chime in on want man name luke sky ...   \n",
       "260121          condom machin explos end fatal in germani   \n",
       "260122       china deleg told to leav selfi stick at home   \n",
       "260123  what is with thi hellish airplan seat arrang f...   \n",
       "\n",
       "                                               lemmatized  \\\n",
       "0       friendly cashier persona briefly dropped to ad...   \n",
       "1       tucker carlson angrily explains difference bet...   \n",
       "2       emotional bill belichick wipe away tar streami...   \n",
       "3                 the week in picture week of may 14 2018   \n",
       "4       man always carry gun in case he need to escala...   \n",
       "...                                                   ...   \n",
       "260119  wildlife official telling people not to paint ...   \n",
       "260120  mark hamill chime in on wanted man named luke ...   \n",
       "260121    condom machine explosion end fatally in germany   \n",
       "260122  china delegate told to leave selfie stick at home   \n",
       "260123  what is with this hellish airplane seat arrang...   \n",
       "\n",
       "                                                    clean  stopwords_removed  \\\n",
       "0       friendly cashier persona briefly dropped addre...                  1   \n",
       "1       tucker carlson angrily explains difference goo...                  2   \n",
       "2       emotional bill belichick wipe away tar streami...                  4   \n",
       "3                           week picture week may 14 2018                  3   \n",
       "4       man always carry gun case need escalate situation                  3   \n",
       "...                                                   ...                ...   \n",
       "260119        wildlife official telling people paint bird                  2   \n",
       "260120  mark hamill chime wanted man named luke sky wa...                  2   \n",
       "260121       condom machine explosion end fatally germany                  1   \n",
       "260122        china delegate told leave selfie stick home                  2   \n",
       "260123           hellish airplane seat arrangement airbus                  5   \n",
       "\n",
       "        doc_length                                              words  \n",
       "0                7  [friendly, cashier, persona, briefly, dropped,...  \n",
       "1                9  [tucker, carlson, angrily, explains, differenc...  \n",
       "2               15  [emotional, bill, belichick, wipe, away, tar, ...  \n",
       "3                6               [week, picture, week, may, 14, 2018]  \n",
       "4                8  [man, always, carry, gun, case, need, escalate...  \n",
       "...            ...                                                ...  \n",
       "260119           6  [wildlife, official, telling, people, paint, b...  \n",
       "260120           9  [mark, hamill, chime, wanted, man, named, luke...  \n",
       "260121           6  [condom, machine, explosion, end, fatally, ger...  \n",
       "260122           7  [china, delegate, told, leave, selfie, stick, ...  \n",
       "260123           5     [hellish, airplane, seat, arrangement, airbus]  \n",
       "\n",
       "[260124 rows x 8 columns]"
      ]
     },
     "execution_count": 4,
     "metadata": {},
     "output_type": "execute_result"
    }
   ],
   "source": [
    "df = get_prepped_data(df, 'headline')\n",
    "df"
   ]
  },
  {
   "cell_type": "code",
   "execution_count": 5,
   "metadata": {
    "scrolled": true
   },
   "outputs": [
    {
     "name": "stdout",
     "output_type": "stream",
     "text": [
      "<class 'pandas.core.frame.DataFrame'>\n",
      "RangeIndex: 260124 entries, 0 to 260123\n",
      "Data columns (total 8 columns):\n",
      " #   Column             Non-Null Count   Dtype \n",
      "---  ------             --------------   ----- \n",
      " 0   label              260124 non-null  int64 \n",
      " 1   headline           260124 non-null  object\n",
      " 2   stemmed            260124 non-null  object\n",
      " 3   lemmatized         260124 non-null  object\n",
      " 4   clean              260124 non-null  object\n",
      " 5   stopwords_removed  260124 non-null  int64 \n",
      " 6   doc_length         260124 non-null  int64 \n",
      " 7   words              260124 non-null  object\n",
      "dtypes: int64(3), object(5)\n",
      "memory usage: 15.9+ MB\n"
     ]
    }
   ],
   "source": [
    "df.info()"
   ]
  },
  {
   "cell_type": "code",
   "execution_count": 6,
   "metadata": {
    "scrolled": true
   },
   "outputs": [
    {
     "data": {
      "text/html": [
       "<div>\n",
       "<style scoped>\n",
       "    .dataframe tbody tr th:only-of-type {\n",
       "        vertical-align: middle;\n",
       "    }\n",
       "\n",
       "    .dataframe tbody tr th {\n",
       "        vertical-align: top;\n",
       "    }\n",
       "\n",
       "    .dataframe thead th {\n",
       "        text-align: right;\n",
       "    }\n",
       "</style>\n",
       "<table border=\"1\" class=\"dataframe\">\n",
       "  <thead>\n",
       "    <tr style=\"text-align: right;\">\n",
       "      <th></th>\n",
       "      <th>n</th>\n",
       "      <th>percent</th>\n",
       "    </tr>\n",
       "  </thead>\n",
       "  <tbody>\n",
       "    <tr>\n",
       "      <th>0</th>\n",
       "      <td>243954</td>\n",
       "      <td>0.937837</td>\n",
       "    </tr>\n",
       "    <tr>\n",
       "      <th>1</th>\n",
       "      <td>16170</td>\n",
       "      <td>0.062163</td>\n",
       "    </tr>\n",
       "  </tbody>\n",
       "</table>\n",
       "</div>"
      ],
      "text/plain": [
       "        n   percent\n",
       "0  243954  0.937837\n",
       "1   16170  0.062163"
      ]
     },
     "execution_count": 6,
     "metadata": {},
     "output_type": "execute_result"
    }
   ],
   "source": [
    "df_labels = pd.concat([df.label.value_counts(),\n",
    "                    df.label.value_counts(normalize=True)], axis=1)\n",
    "df_labels.columns = ['n', 'percent']\n",
    "df_labels"
   ]
  },
  {
   "cell_type": "markdown",
   "metadata": {},
   "source": [
    "This dataset is imbalanced. This leads to a heavy bias towards the larger class (not the onion) and onion data may be treated as noise and ignored. We could achieve a 94% accuracy simply by predicting not the onion every time. A properly calibrated method may achieve a lower accuracy, but would have a substantially higher recall. As the goal of our model is to find fake news, we need to ensure that we are adequately capturing true instances of fictional headlines. \n",
    "\n",
    "The class imbalance present in this dataset will need to be addressed in order to maximize the performance of any models that we build. There are four primary options:\n",
    "\n",
    "1. Undersampling the non-onion headlines. This is the simplest method, but with all of this valid data, we are intentionally causing information loss which might lead to poorer model performance on unseen data.  \n",
    "1. Oversampling through replication. We can randomly duplicate onion entries. This can work when a dataset is only somewhat imbalanced, as the number of duplicates will not substantially outnumber the number of original observations. In this case, we would need to create 14 duplicate onion observations for every original. This puts us at great risk of overfitting the data, and subsequently lead to poorer model performance on unseen data.  \n",
    "1. Synthetic Minority Over-sampling Technique (SMOTE). Synthetic examples can be created that fit to line segments joining any/all of the k minority class nearest neighbors. This forced the decision region of the minority class to become more general. Unfortunately, text vectorization creates values that have a limited dimensional range.  \n",
    "1. Data augmentation through shuffling or synonymous word replacement. As I intend on using bag-of-words and TF-IDF feature engineering to vectorize the text, shuffling the location of the word in the sentence will have no effect. If we expand to utilizing other vectorization methods (like word2vec or Fasttext), shuffling might provide some value. We can however make use of synonymous word replacement or try converting the text to a different language, and then converting it back to english. \n",
    "\n",
    "For now, we will explore the data, and will investigate class imbalance during modeling."
   ]
  },
  {
   "cell_type": "markdown",
   "metadata": {},
   "source": [
    "### Splitting the Data"
   ]
  },
  {
   "cell_type": "code",
   "execution_count": 7,
   "metadata": {},
   "outputs": [],
   "source": [
    "train_validate, test = train_test_split(df, stratify = df['label'], test_size = .15, random_state = 123)\n",
    "train, validate = train_test_split(train_validate, stratify = train_validate['label'], test_size = .20, random_state = 123)"
   ]
  },
  {
   "cell_type": "code",
   "execution_count": 8,
   "metadata": {},
   "outputs": [
    {
     "data": {
      "text/plain": [
       "((176884, 8), (44221, 8), (39019, 8))"
      ]
     },
     "execution_count": 8,
     "metadata": {},
     "output_type": "execute_result"
    }
   ],
   "source": [
    "train.shape, validate.shape, test.shape"
   ]
  },
  {
   "cell_type": "markdown",
   "metadata": {},
   "source": [
    "# Exploratory Data Analysis"
   ]
  },
  {
   "cell_type": "code",
   "execution_count": 9,
   "metadata": {},
   "outputs": [
    {
     "data": {
      "text/html": [
       "<div>\n",
       "<style scoped>\n",
       "    .dataframe tbody tr th:only-of-type {\n",
       "        vertical-align: middle;\n",
       "    }\n",
       "\n",
       "    .dataframe tbody tr th {\n",
       "        vertical-align: top;\n",
       "    }\n",
       "\n",
       "    .dataframe thead th {\n",
       "        text-align: right;\n",
       "    }\n",
       "</style>\n",
       "<table border=\"1\" class=\"dataframe\">\n",
       "  <thead>\n",
       "    <tr style=\"text-align: right;\">\n",
       "      <th></th>\n",
       "      <th>label</th>\n",
       "      <th>headline</th>\n",
       "      <th>stemmed</th>\n",
       "      <th>lemmatized</th>\n",
       "      <th>clean</th>\n",
       "      <th>stopwords_removed</th>\n",
       "      <th>doc_length</th>\n",
       "      <th>words</th>\n",
       "    </tr>\n",
       "  </thead>\n",
       "  <tbody>\n",
       "    <tr>\n",
       "      <th>155599</th>\n",
       "      <td>0</td>\n",
       "      <td>Passenger Claiming Government Experimented On ...</td>\n",
       "      <td>passeng claim govern experi on her tri to open...</td>\n",
       "      <td>passenger claiming government experimented on ...</td>\n",
       "      <td>passenger claiming government experimented try...</td>\n",
       "      <td>3</td>\n",
       "      <td>11</td>\n",
       "      <td>[passenger, claiming, government, experimented...</td>\n",
       "    </tr>\n",
       "    <tr>\n",
       "      <th>123843</th>\n",
       "      <td>0</td>\n",
       "      <td>Mumbai: 'Rat Ate My Ketamine', Say Sewri Police</td>\n",
       "      <td>mumbai rat ate my ketamin say sewri polic</td>\n",
       "      <td>mumbai rat ate my ketamine say sewri police</td>\n",
       "      <td>mumbai rat ate ketamine say sewri police</td>\n",
       "      <td>1</td>\n",
       "      <td>7</td>\n",
       "      <td>[mumbai, rat, ate, ketamine, say, sewri, police]</td>\n",
       "    </tr>\n",
       "    <tr>\n",
       "      <th>136828</th>\n",
       "      <td>0</td>\n",
       "      <td>Novelist who wrote ‘How To Murder Your Husband...</td>\n",
       "      <td>novelist who wrote how to murder your husband ...</td>\n",
       "      <td>novelist who wrote how to murder your husband ...</td>\n",
       "      <td>novelist wrote murder husband charged murderin...</td>\n",
       "      <td>5</td>\n",
       "      <td>7</td>\n",
       "      <td>[novelist, wrote, murder, husband, charged, mu...</td>\n",
       "    </tr>\n",
       "    <tr>\n",
       "      <th>203791</th>\n",
       "      <td>0</td>\n",
       "      <td>El Hadji Diouf: I am not a bad guy, says contr...</td>\n",
       "      <td>el hadji diouf i am not a bad guy say controve...</td>\n",
       "      <td>el hadji diouf i am not a bad guy say controve...</td>\n",
       "      <td>el hadji diouf bad guy say controversial seneg...</td>\n",
       "      <td>4</td>\n",
       "      <td>9</td>\n",
       "      <td>[el, hadji, diouf, bad, guy, say, controversia...</td>\n",
       "    </tr>\n",
       "    <tr>\n",
       "      <th>38167</th>\n",
       "      <td>0</td>\n",
       "      <td>American Robots Lose Jobs To Asian Robots as A...</td>\n",
       "      <td>american robot lose job to asian robot as adid...</td>\n",
       "      <td>american robot lose job to asian robot a adida...</td>\n",
       "      <td>american robot lose job asian robot adidas shi...</td>\n",
       "      <td>2</td>\n",
       "      <td>9</td>\n",
       "      <td>[american, robot, lose, job, asian, robot, adi...</td>\n",
       "    </tr>\n",
       "  </tbody>\n",
       "</table>\n",
       "</div>"
      ],
      "text/plain": [
       "        label                                           headline  \\\n",
       "155599      0  Passenger Claiming Government Experimented On ...   \n",
       "123843      0    Mumbai: 'Rat Ate My Ketamine', Say Sewri Police   \n",
       "136828      0  Novelist who wrote ‘How To Murder Your Husband...   \n",
       "203791      0  El Hadji Diouf: I am not a bad guy, says contr...   \n",
       "38167       0  American Robots Lose Jobs To Asian Robots as A...   \n",
       "\n",
       "                                                  stemmed  \\\n",
       "155599  passeng claim govern experi on her tri to open...   \n",
       "123843          mumbai rat ate my ketamin say sewri polic   \n",
       "136828  novelist who wrote how to murder your husband ...   \n",
       "203791  el hadji diouf i am not a bad guy say controve...   \n",
       "38167   american robot lose job to asian robot as adid...   \n",
       "\n",
       "                                               lemmatized  \\\n",
       "155599  passenger claiming government experimented on ...   \n",
       "123843        mumbai rat ate my ketamine say sewri police   \n",
       "136828  novelist who wrote how to murder your husband ...   \n",
       "203791  el hadji diouf i am not a bad guy say controve...   \n",
       "38167   american robot lose job to asian robot a adida...   \n",
       "\n",
       "                                                    clean  stopwords_removed  \\\n",
       "155599  passenger claiming government experimented try...                  3   \n",
       "123843           mumbai rat ate ketamine say sewri police                  1   \n",
       "136828  novelist wrote murder husband charged murderin...                  5   \n",
       "203791  el hadji diouf bad guy say controversial seneg...                  4   \n",
       "38167   american robot lose job asian robot adidas shi...                  2   \n",
       "\n",
       "        doc_length                                              words  \n",
       "155599          11  [passenger, claiming, government, experimented...  \n",
       "123843           7   [mumbai, rat, ate, ketamine, say, sewri, police]  \n",
       "136828           7  [novelist, wrote, murder, husband, charged, mu...  \n",
       "203791           9  [el, hadji, diouf, bad, guy, say, controversia...  \n",
       "38167            9  [american, robot, lose, job, asian, robot, adi...  "
      ]
     },
     "execution_count": 9,
     "metadata": {},
     "output_type": "execute_result"
    }
   ],
   "source": [
    "train.head()"
   ]
  },
  {
   "cell_type": "markdown",
   "metadata": {},
   "source": [
    "### How is the data divided between \"Onion\"(1) and \"Not Onion\"(0) headlines? "
   ]
  },
  {
   "cell_type": "code",
   "execution_count": 10,
   "metadata": {
    "scrolled": true
   },
   "outputs": [
    {
     "data": {
      "text/html": [
       "<div>\n",
       "<style scoped>\n",
       "    .dataframe tbody tr th:only-of-type {\n",
       "        vertical-align: middle;\n",
       "    }\n",
       "\n",
       "    .dataframe tbody tr th {\n",
       "        vertical-align: top;\n",
       "    }\n",
       "\n",
       "    .dataframe thead th {\n",
       "        text-align: right;\n",
       "    }\n",
       "</style>\n",
       "<table border=\"1\" class=\"dataframe\">\n",
       "  <thead>\n",
       "    <tr style=\"text-align: right;\">\n",
       "      <th></th>\n",
       "      <th>n</th>\n",
       "      <th>percent</th>\n",
       "    </tr>\n",
       "  </thead>\n",
       "  <tbody>\n",
       "    <tr>\n",
       "      <th>0</th>\n",
       "      <td>165889</td>\n",
       "      <td>0.937841</td>\n",
       "    </tr>\n",
       "    <tr>\n",
       "      <th>1</th>\n",
       "      <td>10995</td>\n",
       "      <td>0.062159</td>\n",
       "    </tr>\n",
       "  </tbody>\n",
       "</table>\n",
       "</div>"
      ],
      "text/plain": [
       "        n   percent\n",
       "0  165889  0.937841\n",
       "1   10995  0.062159"
      ]
     },
     "execution_count": 10,
     "metadata": {},
     "output_type": "execute_result"
    }
   ],
   "source": [
    "labels = pd.concat([train.label.value_counts(),\n",
    "                    train.label.value_counts(normalize=True)], axis=1)\n",
    "labels.columns = ['n', 'percent']\n",
    "labels"
   ]
  },
  {
   "cell_type": "markdown",
   "metadata": {},
   "source": [
    "### What are the most common words in these headlines?"
   ]
  },
  {
   "cell_type": "code",
   "execution_count": 11,
   "metadata": {},
   "outputs": [
    {
     "data": {
      "text/plain": [
       "man       18609\n",
       "say       10712\n",
       "woman     10615\n",
       "police     8918\n",
       "trump      7491\n",
       "year       6452\n",
       "new        6285\n",
       "get        5171\n",
       "u          4555\n",
       "sex        3904\n",
       "dtype: int64"
      ]
     },
     "execution_count": 11,
     "metadata": {},
     "output_type": "execute_result"
    }
   ],
   "source": [
    "all_words = ' '.join(train.clean)\n",
    "all_words_df = pd.DataFrame(all_words.split())\n",
    "all_freq = all_words_df.value_counts()\n",
    "all_freq.head(10)"
   ]
  },
  {
   "cell_type": "code",
   "execution_count": 12,
   "metadata": {},
   "outputs": [
    {
     "data": {
      "text/plain": [
       "life     784\n",
       "man      668\n",
       "new      668\n",
       "trump    617\n",
       "say      548\n",
       "find     531\n",
       "news     528\n",
       "year     403\n",
       "said     395\n",
       "woman    390\n",
       "dtype: int64"
      ]
     },
     "execution_count": 12,
     "metadata": {},
     "output_type": "execute_result"
    }
   ],
   "source": [
    "onion_words = ' '.join(train[train.label == 1].clean)\n",
    "onion_words_df = pd.DataFrame(onion_words.split())\n",
    "onion_freq = onion_words_df.value_counts()\n",
    "onion_freq.head(10)"
   ]
  },
  {
   "cell_type": "code",
   "execution_count": 13,
   "metadata": {
    "scrolled": true
   },
   "outputs": [
    {
     "data": {
      "text/plain": [
       "man         17941\n",
       "woman       10225\n",
       "say         10164\n",
       "police       8849\n",
       "trump        6874\n",
       "year         6049\n",
       "new          5617\n",
       "get          4830\n",
       "u            4311\n",
       "arrested     3822\n",
       "dtype: int64"
      ]
     },
     "execution_count": 13,
     "metadata": {},
     "output_type": "execute_result"
    }
   ],
   "source": [
    "not_onion_words = ' '.join(train[train.label == 0].clean)\n",
    "not_onion_words_df = pd.DataFrame(not_onion_words.split())\n",
    "not_onion_freq = not_onion_words_df.value_counts()\n",
    "not_onion_freq.head(10)"
   ]
  },
  {
   "cell_type": "markdown",
   "metadata": {},
   "source": [
    "Notice that the not_onion_words are dominating the all_words frequency count simply because they are the most prominent."
   ]
  },
  {
   "cell_type": "code",
   "execution_count": 14,
   "metadata": {},
   "outputs": [],
   "source": [
    "word_counts = (pd.concat([all_freq, onion_freq, not_onion_freq], axis = 1, sort = True)\n",
    "                .set_axis(['all', 'onion', 'not_onion'], axis = 1, inplace=False)\n",
    "                .fillna(0)\n",
    "                .apply(lambda s: s.astype(int)))"
   ]
  },
  {
   "cell_type": "code",
   "execution_count": 15,
   "metadata": {},
   "outputs": [
    {
     "data": {
      "text/html": [
       "<div>\n",
       "<style scoped>\n",
       "    .dataframe tbody tr th:only-of-type {\n",
       "        vertical-align: middle;\n",
       "    }\n",
       "\n",
       "    .dataframe tbody tr th {\n",
       "        vertical-align: top;\n",
       "    }\n",
       "\n",
       "    .dataframe thead th {\n",
       "        text-align: right;\n",
       "    }\n",
       "</style>\n",
       "<table border=\"1\" class=\"dataframe\">\n",
       "  <thead>\n",
       "    <tr style=\"text-align: right;\">\n",
       "      <th></th>\n",
       "      <th>all</th>\n",
       "      <th>onion</th>\n",
       "      <th>not_onion</th>\n",
       "    </tr>\n",
       "    <tr>\n",
       "      <th>0</th>\n",
       "      <th></th>\n",
       "      <th></th>\n",
       "      <th></th>\n",
       "    </tr>\n",
       "  </thead>\n",
       "  <tbody>\n",
       "    <tr>\n",
       "      <th>man</th>\n",
       "      <td>18609</td>\n",
       "      <td>668</td>\n",
       "      <td>17941</td>\n",
       "    </tr>\n",
       "    <tr>\n",
       "      <th>say</th>\n",
       "      <td>10712</td>\n",
       "      <td>548</td>\n",
       "      <td>10164</td>\n",
       "    </tr>\n",
       "    <tr>\n",
       "      <th>woman</th>\n",
       "      <td>10615</td>\n",
       "      <td>390</td>\n",
       "      <td>10225</td>\n",
       "    </tr>\n",
       "    <tr>\n",
       "      <th>police</th>\n",
       "      <td>8918</td>\n",
       "      <td>69</td>\n",
       "      <td>8849</td>\n",
       "    </tr>\n",
       "    <tr>\n",
       "      <th>trump</th>\n",
       "      <td>7491</td>\n",
       "      <td>617</td>\n",
       "      <td>6874</td>\n",
       "    </tr>\n",
       "    <tr>\n",
       "      <th>year</th>\n",
       "      <td>6452</td>\n",
       "      <td>403</td>\n",
       "      <td>6049</td>\n",
       "    </tr>\n",
       "    <tr>\n",
       "      <th>new</th>\n",
       "      <td>6285</td>\n",
       "      <td>668</td>\n",
       "      <td>5617</td>\n",
       "    </tr>\n",
       "    <tr>\n",
       "      <th>get</th>\n",
       "      <td>5171</td>\n",
       "      <td>341</td>\n",
       "      <td>4830</td>\n",
       "    </tr>\n",
       "    <tr>\n",
       "      <th>u</th>\n",
       "      <td>4555</td>\n",
       "      <td>244</td>\n",
       "      <td>4311</td>\n",
       "    </tr>\n",
       "    <tr>\n",
       "      <th>sex</th>\n",
       "      <td>3904</td>\n",
       "      <td>93</td>\n",
       "      <td>3811</td>\n",
       "    </tr>\n",
       "    <tr>\n",
       "      <th>arrested</th>\n",
       "      <td>3831</td>\n",
       "      <td>9</td>\n",
       "      <td>3822</td>\n",
       "    </tr>\n",
       "    <tr>\n",
       "      <th>school</th>\n",
       "      <td>3820</td>\n",
       "      <td>156</td>\n",
       "      <td>3664</td>\n",
       "    </tr>\n",
       "    <tr>\n",
       "      <th>old</th>\n",
       "      <td>3801</td>\n",
       "      <td>214</td>\n",
       "      <td>3587</td>\n",
       "    </tr>\n",
       "    <tr>\n",
       "      <th>people</th>\n",
       "      <td>3784</td>\n",
       "      <td>238</td>\n",
       "      <td>3546</td>\n",
       "    </tr>\n",
       "    <tr>\n",
       "      <th>student</th>\n",
       "      <td>3010</td>\n",
       "      <td>84</td>\n",
       "      <td>2926</td>\n",
       "    </tr>\n",
       "    <tr>\n",
       "      <th>car</th>\n",
       "      <td>2991</td>\n",
       "      <td>107</td>\n",
       "      <td>2884</td>\n",
       "    </tr>\n",
       "    <tr>\n",
       "      <th>news</th>\n",
       "      <td>2798</td>\n",
       "      <td>528</td>\n",
       "      <td>2270</td>\n",
       "    </tr>\n",
       "    <tr>\n",
       "      <th>day</th>\n",
       "      <td>2791</td>\n",
       "      <td>330</td>\n",
       "      <td>2461</td>\n",
       "    </tr>\n",
       "    <tr>\n",
       "      <th>find</th>\n",
       "      <td>2718</td>\n",
       "      <td>531</td>\n",
       "      <td>2187</td>\n",
       "    </tr>\n",
       "    <tr>\n",
       "      <th>child</th>\n",
       "      <td>2682</td>\n",
       "      <td>202</td>\n",
       "      <td>2480</td>\n",
       "    </tr>\n",
       "  </tbody>\n",
       "</table>\n",
       "</div>"
      ],
      "text/plain": [
       "            all  onion  not_onion\n",
       "0                                \n",
       "man       18609    668      17941\n",
       "say       10712    548      10164\n",
       "woman     10615    390      10225\n",
       "police     8918     69       8849\n",
       "trump      7491    617       6874\n",
       "year       6452    403       6049\n",
       "new        6285    668       5617\n",
       "get        5171    341       4830\n",
       "u          4555    244       4311\n",
       "sex        3904     93       3811\n",
       "arrested   3831      9       3822\n",
       "school     3820    156       3664\n",
       "old        3801    214       3587\n",
       "people     3784    238       3546\n",
       "student    3010     84       2926\n",
       "car        2991    107       2884\n",
       "news       2798    528       2270\n",
       "day        2791    330       2461\n",
       "find       2718    531       2187\n",
       "child      2682    202       2480"
      ]
     },
     "execution_count": 15,
     "metadata": {},
     "output_type": "execute_result"
    }
   ],
   "source": [
    "word_counts.sort_values(by='all', ascending = False).head(20)"
   ]
  },
  {
   "cell_type": "markdown",
   "metadata": {},
   "source": [
    "The words \"u\" tends to come up frequently from the words \"us\", \"U.S.\", \"U.K.\" or other specific nouns (\"U-Haul\") for example. "
   ]
  },
  {
   "cell_type": "code",
   "execution_count": 16,
   "metadata": {
    "scrolled": false
   },
   "outputs": [
    {
     "data": {
      "image/png": "[encoded data removed]",
      "text/plain": [
       "<Figure size 864x576 with 1 Axes>"
      ]
     },
     "metadata": {
      "needs_background": "light"
     },
     "output_type": "display_data"
    }
   ],
   "source": [
    "h_bar_proportions(word_counts, onion_words_df, all_words_df)"
   ]
  },
  {
   "cell_type": "markdown",
   "metadata": {},
   "source": [
    "### Are there any words that uniquely identify an onion headline or a non-onion headline?"
   ]
  },
  {
   "cell_type": "code",
   "execution_count": 17,
   "metadata": {},
   "outputs": [
    {
     "data": {
      "text/html": [
       "<div>\n",
       "<style scoped>\n",
       "    .dataframe tbody tr th:only-of-type {\n",
       "        vertical-align: middle;\n",
       "    }\n",
       "\n",
       "    .dataframe tbody tr th {\n",
       "        vertical-align: top;\n",
       "    }\n",
       "\n",
       "    .dataframe thead th {\n",
       "        text-align: right;\n",
       "    }\n",
       "</style>\n",
       "<table border=\"1\" class=\"dataframe\">\n",
       "  <thead>\n",
       "    <tr style=\"text-align: right;\">\n",
       "      <th></th>\n",
       "      <th>all</th>\n",
       "      <th>onion</th>\n",
       "      <th>not_onion</th>\n",
       "    </tr>\n",
       "    <tr>\n",
       "      <th>0</th>\n",
       "      <th></th>\n",
       "      <th></th>\n",
       "      <th></th>\n",
       "    </tr>\n",
       "  </thead>\n",
       "  <tbody>\n",
       "    <tr>\n",
       "      <th>patriothole</th>\n",
       "      <td>29</td>\n",
       "      <td>29</td>\n",
       "      <td>0</td>\n",
       "    </tr>\n",
       "    <tr>\n",
       "      <th>clickventure</th>\n",
       "      <td>23</td>\n",
       "      <td>23</td>\n",
       "      <td>0</td>\n",
       "    </tr>\n",
       "    <tr>\n",
       "      <th>populace</th>\n",
       "      <td>6</td>\n",
       "      <td>6</td>\n",
       "      <td>0</td>\n",
       "    </tr>\n",
       "    <tr>\n",
       "      <th>dipshit</th>\n",
       "      <td>6</td>\n",
       "      <td>6</td>\n",
       "      <td>0</td>\n",
       "    </tr>\n",
       "    <tr>\n",
       "      <th>allocates</th>\n",
       "      <td>6</td>\n",
       "      <td>6</td>\n",
       "      <td>0</td>\n",
       "    </tr>\n",
       "    <tr>\n",
       "      <th>entirety</th>\n",
       "      <td>6</td>\n",
       "      <td>6</td>\n",
       "      <td>0</td>\n",
       "    </tr>\n",
       "    <tr>\n",
       "      <th>kotex</th>\n",
       "      <td>6</td>\n",
       "      <td>6</td>\n",
       "      <td>0</td>\n",
       "    </tr>\n",
       "    <tr>\n",
       "      <th>debase</th>\n",
       "      <td>5</td>\n",
       "      <td>5</td>\n",
       "      <td>0</td>\n",
       "    </tr>\n",
       "    <tr>\n",
       "      <th>giada</th>\n",
       "      <td>5</td>\n",
       "      <td>5</td>\n",
       "      <td>0</td>\n",
       "    </tr>\n",
       "    <tr>\n",
       "      <th>chronotaur</th>\n",
       "      <td>5</td>\n",
       "      <td>5</td>\n",
       "      <td>0</td>\n",
       "    </tr>\n",
       "  </tbody>\n",
       "</table>\n",
       "</div>"
      ],
      "text/plain": [
       "              all  onion  not_onion\n",
       "0                                  \n",
       "patriothole    29     29          0\n",
       "clickventure   23     23          0\n",
       "populace        6      6          0\n",
       "dipshit         6      6          0\n",
       "allocates       6      6          0\n",
       "entirety        6      6          0\n",
       "kotex           6      6          0\n",
       "debase          5      5          0\n",
       "giada           5      5          0\n",
       "chronotaur      5      5          0"
      ]
     },
     "execution_count": 17,
     "metadata": {},
     "output_type": "execute_result"
    }
   ],
   "source": [
    "# Words that are unique to onion\n",
    "word_counts[word_counts.not_onion == 0].sort_values(by='onion', ascending = False).head(10)"
   ]
  },
  {
   "cell_type": "code",
   "execution_count": 18,
   "metadata": {
    "scrolled": true
   },
   "outputs": [
    {
     "data": {
      "text/html": [
       "<div>\n",
       "<style scoped>\n",
       "    .dataframe tbody tr th:only-of-type {\n",
       "        vertical-align: middle;\n",
       "    }\n",
       "\n",
       "    .dataframe tbody tr th {\n",
       "        vertical-align: top;\n",
       "    }\n",
       "\n",
       "    .dataframe thead th {\n",
       "        text-align: right;\n",
       "    }\n",
       "</style>\n",
       "<table border=\"1\" class=\"dataframe\">\n",
       "  <thead>\n",
       "    <tr style=\"text-align: right;\">\n",
       "      <th></th>\n",
       "      <th>all</th>\n",
       "      <th>onion</th>\n",
       "      <th>not_onion</th>\n",
       "    </tr>\n",
       "    <tr>\n",
       "      <th>0</th>\n",
       "      <th></th>\n",
       "      <th></th>\n",
       "      <th></th>\n",
       "    </tr>\n",
       "  </thead>\n",
       "  <tbody>\n",
       "    <tr>\n",
       "      <th>jailed</th>\n",
       "      <td>569</td>\n",
       "      <td>0</td>\n",
       "      <td>569</td>\n",
       "    </tr>\n",
       "    <tr>\n",
       "      <th>utah</th>\n",
       "      <td>428</td>\n",
       "      <td>0</td>\n",
       "      <td>428</td>\n",
       "    </tr>\n",
       "    <tr>\n",
       "      <th>cannabis</th>\n",
       "      <td>312</td>\n",
       "      <td>0</td>\n",
       "      <td>312</td>\n",
       "    </tr>\n",
       "    <tr>\n",
       "      <th>stabbed</th>\n",
       "      <td>308</td>\n",
       "      <td>0</td>\n",
       "      <td>308</td>\n",
       "    </tr>\n",
       "    <tr>\n",
       "      <th>mp</th>\n",
       "      <td>304</td>\n",
       "      <td>0</td>\n",
       "      <td>304</td>\n",
       "    </tr>\n",
       "    <tr>\n",
       "      <th>stabbing</th>\n",
       "      <td>248</td>\n",
       "      <td>0</td>\n",
       "      <td>248</td>\n",
       "    </tr>\n",
       "    <tr>\n",
       "      <th>according</th>\n",
       "      <td>219</td>\n",
       "      <td>0</td>\n",
       "      <td>219</td>\n",
       "    </tr>\n",
       "    <tr>\n",
       "      <th>gov</th>\n",
       "      <td>217</td>\n",
       "      <td>0</td>\n",
       "      <td>217</td>\n",
       "    </tr>\n",
       "    <tr>\n",
       "      <th>brawl</th>\n",
       "      <td>216</td>\n",
       "      <td>0</td>\n",
       "      <td>216</td>\n",
       "    </tr>\n",
       "    <tr>\n",
       "      <th>apologises</th>\n",
       "      <td>209</td>\n",
       "      <td>0</td>\n",
       "      <td>209</td>\n",
       "    </tr>\n",
       "  </tbody>\n",
       "</table>\n",
       "</div>"
      ],
      "text/plain": [
       "            all  onion  not_onion\n",
       "0                                \n",
       "jailed      569      0        569\n",
       "utah        428      0        428\n",
       "cannabis    312      0        312\n",
       "stabbed     308      0        308\n",
       "mp          304      0        304\n",
       "stabbing    248      0        248\n",
       "according   219      0        219\n",
       "gov         217      0        217\n",
       "brawl       216      0        216\n",
       "apologises  209      0        209"
      ]
     },
     "execution_count": 18,
     "metadata": {},
     "output_type": "execute_result"
    }
   ],
   "source": [
    "# Words that are unique to non-onion articles\n",
    "word_counts[word_counts.onion == 0].sort_values(by='not_onion', ascending = False).head(10)"
   ]
  },
  {
   "cell_type": "code",
   "execution_count": 19,
   "metadata": {
    "scrolled": true
   },
   "outputs": [
    {
     "data": {
      "text/html": [
       "<div>\n",
       "<style scoped>\n",
       "    .dataframe tbody tr th:only-of-type {\n",
       "        vertical-align: middle;\n",
       "    }\n",
       "\n",
       "    .dataframe tbody tr th {\n",
       "        vertical-align: top;\n",
       "    }\n",
       "\n",
       "    .dataframe thead th {\n",
       "        text-align: right;\n",
       "    }\n",
       "</style>\n",
       "<table border=\"1\" class=\"dataframe\">\n",
       "  <thead>\n",
       "    <tr style=\"text-align: right;\">\n",
       "      <th></th>\n",
       "      <th>all</th>\n",
       "      <th>onion</th>\n",
       "      <th>not_onion</th>\n",
       "      <th>ratio</th>\n",
       "    </tr>\n",
       "    <tr>\n",
       "      <th>0</th>\n",
       "      <th></th>\n",
       "      <th></th>\n",
       "      <th></th>\n",
       "      <th></th>\n",
       "    </tr>\n",
       "  </thead>\n",
       "  <tbody>\n",
       "    <tr>\n",
       "      <th>police</th>\n",
       "      <td>8918</td>\n",
       "      <td>69</td>\n",
       "      <td>8849</td>\n",
       "      <td>0.007797</td>\n",
       "    </tr>\n",
       "    <tr>\n",
       "      <th>texas</th>\n",
       "      <td>1378</td>\n",
       "      <td>11</td>\n",
       "      <td>1367</td>\n",
       "      <td>0.008047</td>\n",
       "    </tr>\n",
       "    <tr>\n",
       "      <th>florida</th>\n",
       "      <td>2147</td>\n",
       "      <td>20</td>\n",
       "      <td>2127</td>\n",
       "      <td>0.009403</td>\n",
       "    </tr>\n",
       "    <tr>\n",
       "      <th>fucking</th>\n",
       "      <td>146</td>\n",
       "      <td>99</td>\n",
       "      <td>47</td>\n",
       "      <td>2.105935</td>\n",
       "    </tr>\n",
       "    <tr>\n",
       "      <th>quiz</th>\n",
       "      <td>153</td>\n",
       "      <td>119</td>\n",
       "      <td>34</td>\n",
       "      <td>3.498971</td>\n",
       "    </tr>\n",
       "    <tr>\n",
       "      <th>finest</th>\n",
       "      <td>83</td>\n",
       "      <td>71</td>\n",
       "      <td>12</td>\n",
       "      <td>5.911740</td>\n",
       "    </tr>\n",
       "  </tbody>\n",
       "</table>\n",
       "</div>"
      ],
      "text/plain": [
       "          all  onion  not_onion     ratio\n",
       "0                                        \n",
       "police   8918     69       8849  0.007797\n",
       "texas    1378     11       1367  0.008047\n",
       "florida  2147     20       2127  0.009403\n",
       "fucking   146     99         47  2.105935\n",
       "quiz      153    119         34  3.498971\n",
       "finest     83     71         12  5.911740"
      ]
     },
     "execution_count": 19,
     "metadata": {},
     "output_type": "execute_result"
    }
   ],
   "source": [
    "(word_counts\n",
    " [(word_counts.onion > 10) & (word_counts.not_onion > 10)]\n",
    " .assign(ratio=lambda df: df.onion / (df.not_onion + .01))\n",
    " .sort_values(by='ratio')\n",
    " .pipe(lambda df: pd.concat([df.head(3), df.tail(3)])))"
   ]
  },
  {
   "cell_type": "markdown",
   "metadata": {},
   "source": [
    "Based on some of the most distinctly represented words in onion/not-onion headlines, onion headlines more commonly use the word quiz, likely because, as a site that relies solely on digital media, interactive pages are more commonly linked to onion related headlines than non-onion related headlines. \n",
    "\n",
    "The non-onion headlines often refer to 'florida'. I suspect that this is because of the meme nature of the bigram 'florida man'. "
   ]
  },
  {
   "cell_type": "markdown",
   "metadata": {},
   "source": [
    "### What does the distribution of IDFs look like for the most common words?"
   ]
  },
  {
   "cell_type": "code",
   "execution_count": 20,
   "metadata": {},
   "outputs": [
    {
     "data": {
      "text/html": [
       "<div>\n",
       "<style scoped>\n",
       "    .dataframe tbody tr th:only-of-type {\n",
       "        vertical-align: middle;\n",
       "    }\n",
       "\n",
       "    .dataframe tbody tr th {\n",
       "        vertical-align: top;\n",
       "    }\n",
       "\n",
       "    .dataframe thead th {\n",
       "        text-align: right;\n",
       "    }\n",
       "</style>\n",
       "<table border=\"1\" class=\"dataframe\">\n",
       "  <thead>\n",
       "    <tr style=\"text-align: right;\">\n",
       "      <th></th>\n",
       "      <th>word</th>\n",
       "      <th>total_count</th>\n",
       "      <th>num_of_documents</th>\n",
       "      <th>idf_value</th>\n",
       "    </tr>\n",
       "  </thead>\n",
       "  <tbody>\n",
       "    <tr>\n",
       "      <th>0</th>\n",
       "      <td>man</td>\n",
       "      <td>18609</td>\n",
       "      <td>18306</td>\n",
       "      <td>2.268265</td>\n",
       "    </tr>\n",
       "    <tr>\n",
       "      <th>1</th>\n",
       "      <td>say</td>\n",
       "      <td>10712</td>\n",
       "      <td>10631</td>\n",
       "      <td>2.811720</td>\n",
       "    </tr>\n",
       "    <tr>\n",
       "      <th>2</th>\n",
       "      <td>woman</td>\n",
       "      <td>10615</td>\n",
       "      <td>10416</td>\n",
       "      <td>2.832151</td>\n",
       "    </tr>\n",
       "    <tr>\n",
       "      <th>3</th>\n",
       "      <td>police</td>\n",
       "      <td>8918</td>\n",
       "      <td>8731</td>\n",
       "      <td>3.008614</td>\n",
       "    </tr>\n",
       "    <tr>\n",
       "      <th>4</th>\n",
       "      <td>trump</td>\n",
       "      <td>7491</td>\n",
       "      <td>7278</td>\n",
       "      <td>3.190638</td>\n",
       "    </tr>\n",
       "    <tr>\n",
       "      <th>5</th>\n",
       "      <td>year</td>\n",
       "      <td>6452</td>\n",
       "      <td>6247</td>\n",
       "      <td>3.343393</td>\n",
       "    </tr>\n",
       "    <tr>\n",
       "      <th>6</th>\n",
       "      <td>new</td>\n",
       "      <td>6285</td>\n",
       "      <td>6188</td>\n",
       "      <td>3.352882</td>\n",
       "    </tr>\n",
       "    <tr>\n",
       "      <th>7</th>\n",
       "      <td>get</td>\n",
       "      <td>5171</td>\n",
       "      <td>5100</td>\n",
       "      <td>3.546254</td>\n",
       "    </tr>\n",
       "    <tr>\n",
       "      <th>8</th>\n",
       "      <td>u</td>\n",
       "      <td>4555</td>\n",
       "      <td>4450</td>\n",
       "      <td>3.682590</td>\n",
       "    </tr>\n",
       "    <tr>\n",
       "      <th>9</th>\n",
       "      <td>sex</td>\n",
       "      <td>3904</td>\n",
       "      <td>3831</td>\n",
       "      <td>3.832368</td>\n",
       "    </tr>\n",
       "  </tbody>\n",
       "</table>\n",
       "</div>"
      ],
      "text/plain": [
       "     word  total_count  num_of_documents  idf_value\n",
       "0     man        18609             18306   2.268265\n",
       "1     say        10712             10631   2.811720\n",
       "2   woman        10615             10416   2.832151\n",
       "3  police         8918              8731   3.008614\n",
       "4   trump         7491              7278   3.190638\n",
       "5    year         6452              6247   3.343393\n",
       "6     new         6285              6188   3.352882\n",
       "7     get         5171              5100   3.546254\n",
       "8       u         4555              4450   3.682590\n",
       "9     sex         3904              3831   3.832368"
      ]
     },
     "execution_count": 20,
     "metadata": {},
     "output_type": "execute_result"
    }
   ],
   "source": [
    "idf(all_words_df, train)"
   ]
  },
  {
   "cell_type": "markdown",
   "metadata": {},
   "source": [
    "Because of the nature of headlines, it is unlikely for the total_count to be substantially different from the num_of_documents, as generally a headline will be made of mostly unique words. The IDF values for the top words supports this idea. The high IDF values still represent that the presence of these words are useful however. There are 176,886 documents in the train dataset, and the most common word shows up in less than 11% of them. A model that utilizes IDF or perhaps TF-IDF will likely have a strong predictive ability. "
   ]
  },
  {
   "cell_type": "markdown",
   "metadata": {},
   "source": [
    "### Does the length of the headline vary by source?"
   ]
  },
  {
   "cell_type": "code",
   "execution_count": 21,
   "metadata": {},
   "outputs": [
    {
     "data": {
      "text/plain": [
       "count    10995.000000\n",
       "mean         9.149341\n",
       "std          3.680416\n",
       "min          1.000000\n",
       "25%          7.000000\n",
       "50%          9.000000\n",
       "75%         11.000000\n",
       "max         38.000000\n",
       "Name: doc_length, dtype: float64"
      ]
     },
     "execution_count": 21,
     "metadata": {},
     "output_type": "execute_result"
    }
   ],
   "source": [
    "# Descriptive statistics of Onion headline document lengths\n",
    "train[train.label == 1].doc_length.describe()"
   ]
  },
  {
   "cell_type": "code",
   "execution_count": 22,
   "metadata": {},
   "outputs": [
    {
     "data": {
      "text/plain": [
       "count    165889.000000\n",
       "mean          8.362887\n",
       "std           2.857322\n",
       "min           1.000000\n",
       "25%           7.000000\n",
       "50%           8.000000\n",
       "75%          10.000000\n",
       "max          42.000000\n",
       "Name: doc_length, dtype: float64"
      ]
     },
     "execution_count": 22,
     "metadata": {},
     "output_type": "execute_result"
    }
   ],
   "source": [
    "# Descriptive statistics of Non-onion headline document lengths\n",
    "train[train.label == 0].doc_length.describe()"
   ]
  },
  {
   "cell_type": "code",
   "execution_count": 23,
   "metadata": {},
   "outputs": [
    {
     "data": {
      "text/plain": [
       "label\n",
       "0    8.362887\n",
       "1    9.149341\n",
       "Name: doc_length, dtype: float64"
      ]
     },
     "execution_count": 23,
     "metadata": {},
     "output_type": "execute_result"
    }
   ],
   "source": [
    "train.groupby('label').doc_length.mean()"
   ]
  },
  {
   "cell_type": "markdown",
   "metadata": {},
   "source": [
    "Onion headlines do appear to be slightly longer than non-onion headlines. We can validate this with a t-test.\n",
    "\n",
    "$H_0$: There is no difference between the length of Onion and Non-onion headlines.  \n",
    "$H_a$: Onion headlines are longer than Non-onion headlines."
   ]
  },
  {
   "cell_type": "code",
   "execution_count": 25,
   "metadata": {},
   "outputs": [
    {
     "data": {
      "text/plain": [
       "(27.394130973839914, 3.569985460867351e-165)"
      ]
     },
     "execution_count": 25,
     "metadata": {},
     "output_type": "execute_result"
    }
   ],
   "source": [
    "alpha = 0.05\n",
    "stat, p = stats.ttest_ind(train[train.label == 1]['doc_length'], train[train.label == 0]['doc_length'])\n",
    "stat, p/2"
   ]
  },
  {
   "cell_type": "code",
   "execution_count": 54,
   "metadata": {},
   "outputs": [
    {
     "name": "stdout",
     "output_type": "stream",
     "text": [
      "We reject the null hypothesis. Based on the t-statistic, Onion headlines are longer than non-onion headlines.\n"
     ]
    }
   ],
   "source": [
    "if p/2 < alpha:\n",
    "    print('We reject the null hypothesis. Based on the t-statistic, Onion headlines are longer than non-onion headlines.')\n",
    "else:\n",
    "    print('We fail to reject the null hypothesis.')"
   ]
  },
  {
   "cell_type": "markdown",
   "metadata": {},
   "source": [
    "As we predicted, the length of Onion headlines are longer. Precisely why this is the case may be difficult to ascertain without extensive investigation of many journalists, but a simple possible explanation is that a number of Onion headlines are written in a conversational manner. As an example:\n",
    "\n",
    "        \"Wow: When Someone Graffitied Hateful Messages On This Mosque, A Group Of House Painters Came Together To Cover It Up For Free. But Then The Next Night The Hateful Guy Came Back And Wrote Even Worse Stuff, And The Painters Are Booked Through The End Of The Year. So Now Some Well-Intentioned [cont.]\"\n",
    "        \n",
    "Best practices in journalism suggest avoiding an extended headline like the example above."
   ]
  },
  {
   "cell_type": "markdown",
   "metadata": {},
   "source": [
    "### Is there a difference in the number of stopwords removed?"
   ]
  },
  {
   "cell_type": "code",
   "execution_count": 52,
   "metadata": {},
   "outputs": [
    {
     "data": {
      "text/plain": [
       "count    10995.000000\n",
       "mean         4.475307\n",
       "std          3.270282\n",
       "min          0.000000\n",
       "25%          2.000000\n",
       "50%          4.000000\n",
       "75%          6.000000\n",
       "max         28.000000\n",
       "Name: stopwords_removed, dtype: float64"
      ]
     },
     "execution_count": 52,
     "metadata": {},
     "output_type": "execute_result"
    }
   ],
   "source": [
    "# Descriptive statistics of Onion headline stopwords removed\n",
    "train[train.label == 1].stopwords_removed.describe()"
   ]
  },
  {
   "cell_type": "code",
   "execution_count": 53,
   "metadata": {},
   "outputs": [
    {
     "data": {
      "text/plain": [
       "count    165889.000000\n",
       "mean          3.283226\n",
       "std           2.405572\n",
       "min           0.000000\n",
       "25%           2.000000\n",
       "50%           3.000000\n",
       "75%           4.000000\n",
       "max          33.000000\n",
       "Name: stopwords_removed, dtype: float64"
      ]
     },
     "execution_count": 53,
     "metadata": {},
     "output_type": "execute_result"
    }
   ],
   "source": [
    "# Descriptive statistics of Not-Onion headlines stopwords removed\n",
    "train[train.label == 0].stopwords_removed.describe()"
   ]
  },
  {
   "cell_type": "markdown",
   "metadata": {},
   "source": [
    "Onion headlines appear to have more stopwords than non-onion headlines. We can validate this with a t-test.\n",
    "\n",
    "$H_0$: There is no difference between the number of stopwords in Onion and Non-onion headlines.  \n",
    "$H_a$: Onion headlines contain more stopwords than Non-onion headlines."
   ]
  },
  {
   "cell_type": "code",
   "execution_count": 56,
   "metadata": {},
   "outputs": [
    {
     "data": {
      "text/plain": [
       "(49.0449379728409, 0.0)"
      ]
     },
     "execution_count": 56,
     "metadata": {},
     "output_type": "execute_result"
    }
   ],
   "source": [
    "alpha = 0.05\n",
    "stat, p = stats.ttest_ind(train[train.label == 1]['stopwords_removed'], train[train.label == 0]['stopwords_removed'])\n",
    "stat, p"
   ]
  },
  {
   "cell_type": "code",
   "execution_count": 57,
   "metadata": {},
   "outputs": [
    {
     "name": "stdout",
     "output_type": "stream",
     "text": [
      "We reject the null hypothesis. Onion headlines have more stopwords than non-onion headlines.\n"
     ]
    }
   ],
   "source": [
    "if p < alpha:\n",
    "    print('We reject the null hypothesis. Onion headlines have more stopwords than non-onion headlines.')\n",
    "else:\n",
    "    print('We fail to reject the null hypothesis.')"
   ]
  },
  {
   "cell_type": "markdown",
   "metadata": {},
   "source": [
    "Not surprisingly, Onion headlines contain more stopwords. The conversational manner of many Onion headlines may be contributing to the increased use of stopwords. "
   ]
  },
  {
   "cell_type": "markdown",
   "metadata": {},
   "source": [
    "### How are the bigrams within the dataset distributed?"
   ]
  },
  {
   "cell_type": "code",
   "execution_count": 27,
   "metadata": {},
   "outputs": [
    {
     "data": {
      "text/plain": [
       "(said, find)          270\n",
       "(year, old)           134\n",
       "(white, house)        108\n",
       "(donald, trump)        76\n",
       "(study, find)          73\n",
       "(news, source)         73\n",
       "(america, finest)      71\n",
       "(finest, news)         71\n",
       "(onion, america)       70\n",
       "(need, know)           66\n",
       "(5, thing)             59\n",
       "(everything, need)     59\n",
       "(thing, know)          58\n",
       "(culture, shock)       55\n",
       "(must, see)            54\n",
       "(pope, francis)        46\n",
       "(area, man)            45\n",
       "(high, school)         44\n",
       "(new, york)            44\n",
       "(horoscope, week)      41\n",
       "dtype: int64"
      ]
     },
     "execution_count": 27,
     "metadata": {},
     "output_type": "execute_result"
    }
   ],
   "source": [
    "top_20_onion_bigrams = (pd.Series(nltk.ngrams(onion_words.split(), 2))\n",
    "                       .value_counts()\n",
    "                       .head(20))\n",
    "\n",
    "top_20_onion_bigrams"
   ]
  },
  {
   "cell_type": "code",
   "execution_count": 28,
   "metadata": {},
   "outputs": [
    {
     "data": {
      "image/png": "[encoded data removed]",
      "text/plain": [
       "<Figure size 720x432 with 1 Axes>"
      ]
     },
     "metadata": {
      "needs_background": "light"
     },
     "output_type": "display_data"
    }
   ],
   "source": [
    "top_20_onion_bigrams.sort_values().plot.barh(color='dodgerblue', width=.9, figsize=(10, 6))\n",
    "\n",
    "plt.title('20 Most frequently occuring Onion bigrams')\n",
    "plt.ylabel('Bigram')\n",
    "plt.xlabel('# Occurances')\n",
    "\n",
    "# make the labels pretty\n",
    "ticks, _ = plt.yticks()\n",
    "labels = top_20_onion_bigrams.reset_index()['index'].apply(lambda t: t[0] + ' ' + t[1])\n",
    "labels = list(labels.values)\n",
    "labels.reverse()\n",
    "_ = plt.yticks(ticks, labels)"
   ]
  },
  {
   "cell_type": "code",
   "execution_count": 30,
   "metadata": {},
   "outputs": [
    {
     "data": {
      "text/plain": [
       "(year, old)          3030\n",
       "(donald, trump)      1415\n",
       "(man, arrested)       933\n",
       "(police, say)         906\n",
       "(white, house)        759\n",
       "(north, korea)        750\n",
       "(covid, 19)           725\n",
       "(new, york)           683\n",
       "(high, school)        623\n",
       "(police, officer)     592\n",
       "(florida, man)        576\n",
       "(x, post)             544\n",
       "(post, r)             486\n",
       "(fox, news)           475\n",
       "(kim, jong)           463\n",
       "(man, accused)        453\n",
       "(jong, un)            450\n",
       "(kanye, west)         377\n",
       "(climate, change)     366\n",
       "(trump, say)          360\n",
       "dtype: int64"
      ]
     },
     "execution_count": 30,
     "metadata": {},
     "output_type": "execute_result"
    }
   ],
   "source": [
    "top_20_not_onion_bigrams = (pd.Series(nltk.ngrams(not_onion_words.split(), 2))\n",
    "                           .value_counts()\n",
    "                           .head(20))\n",
    "\n",
    "top_20_not_onion_bigrams"
   ]
  },
  {
   "cell_type": "code",
   "execution_count": 32,
   "metadata": {},
   "outputs": [
    {
     "data": {
      "image/png": "[encoded data removed]",
      "text/plain": [
       "<Figure size 720x432 with 1 Axes>"
      ]
     },
     "metadata": {
      "needs_background": "light"
     },
     "output_type": "display_data"
    }
   ],
   "source": [
    "top_20_not_onion_bigrams.sort_values().plot.barh(color='darkgray', width=.9, figsize=(10, 6))\n",
    "\n",
    "plt.title('20 Most frequently occuring Non-Onion bigrams')\n",
    "plt.ylabel('Bigram')\n",
    "plt.xlabel('# Occurances')\n",
    "\n",
    "# make the labels pretty\n",
    "ticks, _ = plt.yticks()\n",
    "labels = top_20_not_onion_bigrams.reset_index()['index'].apply(lambda t: t[0] + ' ' + t[1])\n",
    "labels = list(labels.values)\n",
    "labels.reverse()\n",
    "_ = plt.yticks(ticks, labels)"
   ]
  },
  {
   "cell_type": "markdown",
   "metadata": {},
   "source": [
    "### Visualizing Bigrams in a Word Cloud"
   ]
  },
  {
   "cell_type": "code",
   "execution_count": 45,
   "metadata": {},
   "outputs": [
    {
     "data": {
      "image/png": "[encoded data removed]",
      "text/plain": [
       "<Figure size 576x288 with 1 Axes>"
      ]
     },
     "metadata": {
      "needs_background": "light"
     },
     "output_type": "display_data"
    }
   ],
   "source": [
    "# Onion Bigram Word Cloud\n",
    "data = {k[0] + ' ' + k[1]: v for k, v in top_20_onion_bigrams.to_dict().items()}\n",
    "img = WordCloud(background_color='white', colormap='ocean', width=800, height=400).generate_from_frequencies(data)\n",
    "plt.figure(figsize=(8, 4))\n",
    "plt.imshow(img)\n",
    "plt.axis('off')\n",
    "plt.show()"
   ]
  },
  {
   "cell_type": "code",
   "execution_count": 51,
   "metadata": {},
   "outputs": [
    {
     "data": {
      "image/png": "[encoded data removed]",
      "text/plain": [
       "<Figure size 576x288 with 1 Axes>"
      ]
     },
     "metadata": {
      "needs_background": "light"
     },
     "output_type": "display_data"
    }
   ],
   "source": [
    "# Not-Onion Bigram Word Cloud\n",
    "data = {k[0] + ' ' + k[1]: v for k, v in top_20_not_onion_bigrams.to_dict().items()}\n",
    "img = WordCloud(background_color='white', colormap='twilight', width=800, height=400).generate_from_frequencies(data)\n",
    "plt.figure(figsize=(8, 4))\n",
    "plt.imshow(img)\n",
    "plt.axis('off')\n",
    "plt.show()"
   ]
  },
  {
   "cell_type": "markdown",
   "metadata": {},
   "source": [
    "### How are the trigrams within the dataset distributed?"
   ]
  },
  {
   "cell_type": "code",
   "execution_count": 33,
   "metadata": {},
   "outputs": [
    {
     "data": {
      "text/plain": [
       "(finest, news, source)          71\n",
       "(america, finest, news)         71\n",
       "(onion, america, finest)        70\n",
       "(everything, need, know)        59\n",
       "(5, thing, know)                56\n",
       "(week, picture, week)           38\n",
       "(shock, everything, need)       31\n",
       "(culture, shock, everything)    31\n",
       "(change, way, watch)            22\n",
       "(j, k, rowling)                 18\n",
       "(new, york, time)               17\n",
       "(shock, culture, shock)         17\n",
       "(culture, shock, culture)       17\n",
       "(onion, look, back)             15\n",
       "(onion, present, topical)       15\n",
       "(kim, jong, un)                 14\n",
       "(plan, perfect, day)            13\n",
       "(new, study, find)              13\n",
       "(video, change, way)            12\n",
       "(life, culture, shock)          12\n",
       "dtype: int64"
      ]
     },
     "execution_count": 33,
     "metadata": {},
     "output_type": "execute_result"
    }
   ],
   "source": [
    "top_20_onion_trigrams = (pd.Series(nltk.ngrams(onion_words.split(), 3))\n",
    "                        .value_counts()\n",
    "                        .head(20))\n",
    "\n",
    "top_20_onion_trigrams"
   ]
  },
  {
   "cell_type": "code",
   "execution_count": 34,
   "metadata": {},
   "outputs": [
    {
     "data": {
      "text/plain": [
       "(x, post, r)               474\n",
       "(kim, jong, un)            448\n",
       "(year, old, girl)          286\n",
       "(year, old, boy)           253\n",
       "(year, old, man)           157\n",
       "(12, year, old)            151\n",
       "(year, old, woman)         138\n",
       "(11, year, old)            138\n",
       "(13, year, old)            118\n",
       "(10, year, old)            115\n",
       "(new, york, city)          114\n",
       "(year, old, son)           112\n",
       "(14, year, old)            102\n",
       "(high, school, student)     98\n",
       "(black, life, matter)       96\n",
       "(read, http, www)           80\n",
       "(osama, bin, laden)         80\n",
       "(george, w, bush)           78\n",
       "(nobel, peace, prize)       76\n",
       "(daily, flash, ad)          76\n",
       "dtype: int64"
      ]
     },
     "execution_count": 34,
     "metadata": {},
     "output_type": "execute_result"
    }
   ],
   "source": [
    "top_20_not_onion_trigrams = (pd.Series(nltk.ngrams(not_onion_words.split(), 3))\n",
    "                        .value_counts()\n",
    "                        .head(20))\n",
    "\n",
    "top_20_not_onion_trigrams"
   ]
  },
  {
   "cell_type": "markdown",
   "metadata": {},
   "source": [
    "# Modeling\n",
    "\n",
    "### Vectorization\n",
    "To begin, we will need to generate numerical representations of the text data. There are a number of methods:\n",
    "\n",
    "1. Bag of Words - This generates a number of features equal to the total number of unique words in the corpus (all of our headlines combined). The features for each document (headline) are given values equal to the number of occurences for those words in the document. This relatively simple approach may be limited because:\n",
    "    - The headlines are relatively short (around 8 words long)\n",
    "    - The headlines tend to be composed of almost entirely unique words\n",
    "    \n",
    "    \n",
    "2. Term Frequency Inverse Document Frequency (TF-IDF) - This measures how important a word is to a document. We compute the term frequency (how often a word is used overall) and the inverse document frequency (how many documents that word is used in) and combine them to create a score that increases the relative value given to a rarer and more specific word. \n",
    "    - Looking at the IDF scores from earlier, it appears that many of the words have a high IDF score. \n",
    "    - This is likely to outperform a bag of words model\n",
    "    \n",
    "    \n",
    "3. Global Vectors for Word Representation (GloVe) - This is an unsupervised learning algorithm for obtaining vector representations for words. Each word in the corpus is transformed into a position in high dimensional space so that similar words are placed together. There are pretrained GloVe values available for download, and for the purposes of this project, the Wikipedia 2014 + Gigaword 5 vectors available from https://nlp.stanford.edu/projects/glove/ will be used.\n",
    "\n",
    "\n",
    "4. word2vec - This vectorizes words through use of a neural network to evaluate the context of a given word in a document by two methods: CBoW (continuous bag of words), which tries to predict the context of the word by looking at its surrounding words, and Skipgram, which tries to predict the context of the surrounding words by looking at the current word. There is also an extension of word2vec called doc2vec that adds another layer which corresponds to paragraph representation, but given the short length of the documents in this dataset, adding the doc2vec sophistication will not likely yield much improvement over word2vec.\n",
    "\n",
    "\n",
    "5. Fasttext - This is a library developed by the Facebook Research Team that utilizes word2vec methodology but introduces char n-grams that improve the ability to learn and adequately vectorize rare words. \n",
    "\n",
    "For now, we will focus on Bag of Words and Term Frequency Inverse Document Frequency for our text vectorization methods and will return to GloVe, word2vec, and Fasttext if there is time.\n",
    "\n",
    "### Resampling\n",
    "\n",
    "Given the class imbalance of the dataset, we can likely improve the recall of our models by achieving greater parity between the number of onion headlines and not-onion headlines. There are several methods to accomplish this:\n",
    "\n",
    "1. Random undersampling. We reduce the size of the train dataset by randomly eliminating rows that contain not-onion headlines until the number of onion headlines and not-onion headlines are equal. This is destructive, but we will evaluate it as an option for the purposes of this project. Generally, this technique should not be used in a production environment. \n",
    "\n",
    "1. Random oversampling. We take samples at random from the smaller class (onion headlines) and duplicate them until it reaches a size comparable with the majority class. This can also run into some overfitting issues, as we will be exaggerating small details within the onion headlines by a factor of 14-fold. \n",
    "\n",
    "1. SMOTE. We create synthetic samples along the line joining the current instance and some of its k nearest neighbors from the same class. This creates denser decision regions, and can help classifiers learn more from the dense regions of the minority class rather than defaulting to the large classes surrounding those regions. \n",
    "\n",
    "1. Shuffling or synonymous word replacement. A simple method is to create synthetic samples by shuffling the words around or by replacing the words with similar words. We will evaluate the use of translators to translate a word from english into another random language and then translate it back to english. This should create a slightly different headline, but one which has a context similar to the original headline. \n",
    "\n",
    "For now, we will focus on developing models without resampling and then return to resampling."
   ]
  },
  {
   "cell_type": "code",
   "execution_count": null,
   "metadata": {},
   "outputs": [],
   "source": []
  }
 ],
 "metadata": {
  "kernelspec": {
   "display_name": "Python 3",
   "language": "python",
   "name": "python3"
  },
  "language_info": {
   "codemirror_mode": {
    "name": "ipython",
    "version": 3
   },
   "file_extension": ".py",
   "mimetype": "text/x-python",
   "name": "python",
   "nbconvert_exporter": "python",
   "pygments_lexer": "ipython3",
   "version": "3.7.9"
  }
 },
 "nbformat": 4,
 "nbformat_minor": 4
}
