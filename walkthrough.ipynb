{
 "cells": [
  {
   "cell_type": "markdown",
   "metadata": {},
   "source": [
    "# Predicting Fake News From Real (But Similar) News\n",
    "\n",
    "Using natural language processing and classification, the aim of this project is to predict whether a given headline is from a legitimate news source or if it was produce by the satire team at theonion.com."
   ]
  },
  {
   "cell_type": "code",
   "execution_count": 1,
   "metadata": {},
   "outputs": [],
   "source": [
    "# ACQUIRE\n",
    "import numpy as np\n",
    "import pandas as pd\n",
    "from acquire import acquire_headlines\n",
    "\n",
    "# PREPARE\n",
    "from prepare import get_prepped_data\n",
    "from sklearn.model_selection import train_test_split\n",
    "\n",
    "# VISUALIZATION\n",
    "import matplotlib.pyplot as plt\n",
    "import seaborn as sns\n",
    "from wordcloud import WordCloud\n",
    "\n",
    "# EXPLORE\n",
    "from explore import h_bar_proportions\n",
    "from explore import idf\n",
    "from scipy import stats\n",
    "import nltk\n",
    "\n",
    "# MODELING\n",
    "from sklearn.model_selection import GridSearchCV\n",
    "from sklearn.feature_extraction.text import CountVectorizer\n",
    "from sklearn.feature_extraction.text import TfidfVectorizer\n",
    "from sklearn.utils import class_weight\n",
    "from sklearn.linear_model import LogisticRegression\n",
    "from sklearn.tree import DecisionTreeClassifier\n",
    "from sklearn.ensemble import RandomForestClassifier\n",
    "from sklearn.neighbors import KNeighborsClassifier\n",
    "from gensim.models.doc2vec import Doc2Vec, TaggedDocument\n",
    "from imblearn.over_sampling import SMOTE\n",
    "from imblearn.pipeline import make_pipeline\n",
    "\n",
    "# EVALUATION\n",
    "from sklearn.metrics import classification_report, accuracy_score, f1_score\n",
    "from sklearn.metrics import precision_score, recall_score, roc_auc_score, roc_curve\n",
    "from explore import generate_auc_roc_curve"
   ]
  },
  {
   "cell_type": "markdown",
   "metadata": {},
   "source": [
    "# Acquire\n",
    "\n",
    "Acquiring the data is accomplished through interaction with Reddit's API. Documentation about the API used for this project can be found at: https://github.com/pushshift/api\n",
    "\n",
    "The r/TheOnion subreddit was created on March 23, 2008, but the first post didn't occur until October 28, 2008. The r/NotTheOnion subreddit was created on October 25, 2008. Our data consists of the top 100 posts (by score) for every day starting on Oct 1, 2008 through December 3, 2020. \n",
    "\n",
    "Our requests to Reddit's API returned json pages that have been collated and stored in 'onion.json' for r/TheOnion and 'not_onion.json' for r/NotTheOnion. Our acquire_headlines function retrieves the 'title' information from our json files and puts them into a dataframe with a label column distinguishing headlines from r/TheOnion (1) and r/NotTheOnion (0). "
   ]
  },
  {
   "cell_type": "code",
   "execution_count": 2,
   "metadata": {},
   "outputs": [
    {
     "data": {
      "text/html": [
       "<div>\n",
       "<style scoped>\n",
       "    .dataframe tbody tr th:only-of-type {\n",
       "        vertical-align: middle;\n",
       "    }\n",
       "\n",
       "    .dataframe tbody tr th {\n",
       "        vertical-align: top;\n",
       "    }\n",
       "\n",
       "    .dataframe thead th {\n",
       "        text-align: right;\n",
       "    }\n",
       "</style>\n",
       "<table border=\"1\" class=\"dataframe\">\n",
       "  <thead>\n",
       "    <tr style=\"text-align: right;\">\n",
       "      <th></th>\n",
       "      <th>label</th>\n",
       "      <th>headline</th>\n",
       "    </tr>\n",
       "  </thead>\n",
       "  <tbody>\n",
       "    <tr>\n",
       "      <th>0</th>\n",
       "      <td>1</td>\n",
       "      <td>White House Counsel To Step Down In Fall</td>\n",
       "    </tr>\n",
       "    <tr>\n",
       "      <th>1</th>\n",
       "      <td>1</td>\n",
       "      <td>‘That’s It, I’m Voting For Him,’ Says Undecide...</td>\n",
       "    </tr>\n",
       "    <tr>\n",
       "      <th>2</th>\n",
       "      <td>1</td>\n",
       "      <td>Neil deGrasse Tyson Debunks Stadium’s Home Run...</td>\n",
       "    </tr>\n",
       "    <tr>\n",
       "      <th>3</th>\n",
       "      <td>1</td>\n",
       "      <td>Judge Rules White Girl Will Be Tried As Black ...</td>\n",
       "    </tr>\n",
       "    <tr>\n",
       "      <th>4</th>\n",
       "      <td>1</td>\n",
       "      <td>Clickventure: Come Watch The First-Ever Online...</td>\n",
       "    </tr>\n",
       "    <tr>\n",
       "      <th>...</th>\n",
       "      <td>...</td>\n",
       "      <td>...</td>\n",
       "    </tr>\n",
       "    <tr>\n",
       "      <th>260302</th>\n",
       "      <td>0</td>\n",
       "      <td>At Least One Victim ‘Tickled’ in Overnight Hom...</td>\n",
       "    </tr>\n",
       "    <tr>\n",
       "      <th>260303</th>\n",
       "      <td>0</td>\n",
       "      <td>Brazil’s anti-corruption minister quits - amid...</td>\n",
       "    </tr>\n",
       "    <tr>\n",
       "      <th>260304</th>\n",
       "      <td>0</td>\n",
       "      <td>Brooklyn Woman Sues Hospital After Pulling Plu...</td>\n",
       "    </tr>\n",
       "    <tr>\n",
       "      <th>260305</th>\n",
       "      <td>0</td>\n",
       "      <td>Taco Bell Employee Slams Boss With Hot, Cheesy...</td>\n",
       "    </tr>\n",
       "    <tr>\n",
       "      <th>260306</th>\n",
       "      <td>0</td>\n",
       "      <td>Teenage Gamers Better At Simulated Surgery Tha...</td>\n",
       "    </tr>\n",
       "  </tbody>\n",
       "</table>\n",
       "<p>260307 rows × 2 columns</p>\n",
       "</div>"
      ],
      "text/plain": [
       "        label                                           headline\n",
       "0           1           White House Counsel To Step Down In Fall\n",
       "1           1  ‘That’s It, I’m Voting For Him,’ Says Undecide...\n",
       "2           1  Neil deGrasse Tyson Debunks Stadium’s Home Run...\n",
       "3           1  Judge Rules White Girl Will Be Tried As Black ...\n",
       "4           1  Clickventure: Come Watch The First-Ever Online...\n",
       "...       ...                                                ...\n",
       "260302      0  At Least One Victim ‘Tickled’ in Overnight Hom...\n",
       "260303      0  Brazil’s anti-corruption minister quits - amid...\n",
       "260304      0  Brooklyn Woman Sues Hospital After Pulling Plu...\n",
       "260305      0  Taco Bell Employee Slams Boss With Hot, Cheesy...\n",
       "260306      0  Teenage Gamers Better At Simulated Surgery Tha...\n",
       "\n",
       "[260307 rows x 2 columns]"
      ]
     },
     "execution_count": 2,
     "metadata": {},
     "output_type": "execute_result"
    }
   ],
   "source": [
    "df = acquire_headlines()\n",
    "df"
   ]
  },
  {
   "cell_type": "code",
   "execution_count": 3,
   "metadata": {},
   "outputs": [
    {
     "name": "stdout",
     "output_type": "stream",
     "text": [
      "<class 'pandas.core.frame.DataFrame'>\n",
      "RangeIndex: 260307 entries, 0 to 260306\n",
      "Data columns (total 2 columns):\n",
      " #   Column    Non-Null Count   Dtype \n",
      "---  ------    --------------   ----- \n",
      " 0   label     260307 non-null  int64 \n",
      " 1   headline  260307 non-null  object\n",
      "dtypes: int64(1), object(1)\n",
      "memory usage: 4.0+ MB\n"
     ]
    }
   ],
   "source": [
    "df.info()"
   ]
  },
  {
   "cell_type": "markdown",
   "metadata": {},
   "source": [
    "# Prepare\n",
    "\n",
    "Utilizing the `get_prepped_data()` function from our prepare.py file, we modify the dataframe by:\n",
    "1. Cleaning the raw strings in the readme_contents column by eliminating non-alphanumeric characters and single character words from the raw strings.  \n",
    "1. Tokenizing the words using TokTokTokenizer.  \n",
    "1. Adding a stemmed column made from the use of PorterStemmer() from the nltk library.  \n",
    "1. Adding a lemmatized column made from the use of WordNetLemmatizer from the nltk library.  \n",
    "1. Removing stopwords from the lemmatized results to create the clean column.  \n",
    "1. Adding the stopwords_removed column. This provides a count of the number of stopwords removed from the lemmatized string.  \n",
    "1. Adding the doc_length column. This provides the total number of words in the contents of the clean column.  \n",
    "1. Adding the words column. This contains a list of the words found in each cleaned string.  \n",
    "1. Dropping any observations with missing data  \n",
    "1. Dropping observations that have a doc length of 0 (these are generally titles that were created from languages that do not use the modern English alphabet)\n",
    "\n",
    "The get_prepped_data function will save this prepped dataframe as `'headlines.csv'`. If `'headlines.csv'` already exists, it will instead read from the saved file. This can cause the order of the headlines to differ from the result of the `acquire_headlines()` output, but the data is identical. "
   ]
  },
  {
   "cell_type": "code",
   "execution_count": 4,
   "metadata": {},
   "outputs": [
    {
     "data": {
      "text/html": [
       "<div>\n",
       "<style scoped>\n",
       "    .dataframe tbody tr th:only-of-type {\n",
       "        vertical-align: middle;\n",
       "    }\n",
       "\n",
       "    .dataframe tbody tr th {\n",
       "        vertical-align: top;\n",
       "    }\n",
       "\n",
       "    .dataframe thead th {\n",
       "        text-align: right;\n",
       "    }\n",
       "</style>\n",
       "<table border=\"1\" class=\"dataframe\">\n",
       "  <thead>\n",
       "    <tr style=\"text-align: right;\">\n",
       "      <th></th>\n",
       "      <th>label</th>\n",
       "      <th>headline</th>\n",
       "      <th>clean</th>\n",
       "      <th>stemmed</th>\n",
       "      <th>lemmatized</th>\n",
       "      <th>words</th>\n",
       "      <th>doc_length</th>\n",
       "      <th>stopwords_removed</th>\n",
       "    </tr>\n",
       "  </thead>\n",
       "  <tbody>\n",
       "    <tr>\n",
       "      <th>0</th>\n",
       "      <td>1</td>\n",
       "      <td>Friendly Cashier Persona Briefly Dropped To Ad...</td>\n",
       "      <td>friendly cashier persona briefly dropped addre...</td>\n",
       "      <td>friendli cashier persona briefli drop to addre...</td>\n",
       "      <td>friendly cashier persona briefly dropped to ad...</td>\n",
       "      <td>['friendly', 'cashier', 'persona', 'briefly', ...</td>\n",
       "      <td>7</td>\n",
       "      <td>1</td>\n",
       "    </tr>\n",
       "    <tr>\n",
       "      <th>1</th>\n",
       "      <td>1</td>\n",
       "      <td>Tucker Carlson Angrily Explains Difference Bet...</td>\n",
       "      <td>tucker carlson angrily explains difference goo...</td>\n",
       "      <td>tucker carlson angrili explain differ between ...</td>\n",
       "      <td>tucker carlson angrily explains difference bet...</td>\n",
       "      <td>['tucker', 'carlson', 'angrily', 'explains', '...</td>\n",
       "      <td>9</td>\n",
       "      <td>2</td>\n",
       "    </tr>\n",
       "    <tr>\n",
       "      <th>2</th>\n",
       "      <td>1</td>\n",
       "      <td>Emotional Bill Belichick Wipes Away Tar Stream...</td>\n",
       "      <td>emotional bill belichick wipe away tar streami...</td>\n",
       "      <td>emot bill belichick wipe away tar stream from ...</td>\n",
       "      <td>emotional bill belichick wipe away tar streami...</td>\n",
       "      <td>['emotional', 'bill', 'belichick', 'wipe', 'aw...</td>\n",
       "      <td>15</td>\n",
       "      <td>4</td>\n",
       "    </tr>\n",
       "    <tr>\n",
       "      <th>3</th>\n",
       "      <td>1</td>\n",
       "      <td>The Week In Pictures – Week Of May 14, 2018</td>\n",
       "      <td>week picture week may 14 2018</td>\n",
       "      <td>the week in pictur week of may 14 2018</td>\n",
       "      <td>the week in picture week of may 14 2018</td>\n",
       "      <td>['week', 'picture', 'week', 'may', '14', '2018']</td>\n",
       "      <td>6</td>\n",
       "      <td>3</td>\n",
       "    </tr>\n",
       "    <tr>\n",
       "      <th>4</th>\n",
       "      <td>1</td>\n",
       "      <td>Man Always Carries Gun In Case He Needs To Esc...</td>\n",
       "      <td>man always carry gun case need escalate situation</td>\n",
       "      <td>man alway carri gun in case he need to escal s...</td>\n",
       "      <td>man always carry gun in case he need to escala...</td>\n",
       "      <td>['man', 'always', 'carry', 'gun', 'case', 'nee...</td>\n",
       "      <td>8</td>\n",
       "      <td>3</td>\n",
       "    </tr>\n",
       "    <tr>\n",
       "      <th>...</th>\n",
       "      <td>...</td>\n",
       "      <td>...</td>\n",
       "      <td>...</td>\n",
       "      <td>...</td>\n",
       "      <td>...</td>\n",
       "      <td>...</td>\n",
       "      <td>...</td>\n",
       "      <td>...</td>\n",
       "    </tr>\n",
       "    <tr>\n",
       "      <th>260119</th>\n",
       "      <td>0</td>\n",
       "      <td>Wildlife officials telling people not to paint...</td>\n",
       "      <td>wildlife official telling people paint bird</td>\n",
       "      <td>wildlif offici tell peopl not to paint bird</td>\n",
       "      <td>wildlife official telling people not to paint ...</td>\n",
       "      <td>['wildlife', 'official', 'telling', 'people', ...</td>\n",
       "      <td>6</td>\n",
       "      <td>2</td>\n",
       "    </tr>\n",
       "    <tr>\n",
       "      <th>260120</th>\n",
       "      <td>0</td>\n",
       "      <td>Mark Hamill chimes in on wanted man named Luke...</td>\n",
       "      <td>mark hamill chime wanted man named luke sky wa...</td>\n",
       "      <td>mark hamil chime in on want man name luke sky ...</td>\n",
       "      <td>mark hamill chime in on wanted man named luke ...</td>\n",
       "      <td>['mark', 'hamill', 'chime', 'wanted', 'man', '...</td>\n",
       "      <td>9</td>\n",
       "      <td>2</td>\n",
       "    </tr>\n",
       "    <tr>\n",
       "      <th>260121</th>\n",
       "      <td>0</td>\n",
       "      <td>Condom machine explosion ends fatally in Germany</td>\n",
       "      <td>condom machine explosion end fatally germany</td>\n",
       "      <td>condom machin explos end fatal in germani</td>\n",
       "      <td>condom machine explosion end fatally in germany</td>\n",
       "      <td>['condom', 'machine', 'explosion', 'end', 'fat...</td>\n",
       "      <td>6</td>\n",
       "      <td>1</td>\n",
       "    </tr>\n",
       "    <tr>\n",
       "      <th>260122</th>\n",
       "      <td>0</td>\n",
       "      <td>China delegates told to leave selfie sticks at...</td>\n",
       "      <td>china delegate told leave selfie stick home</td>\n",
       "      <td>china deleg told to leav selfi stick at home</td>\n",
       "      <td>china delegate told to leave selfie stick at home</td>\n",
       "      <td>['china', 'delegate', 'told', 'leave', 'selfie...</td>\n",
       "      <td>7</td>\n",
       "      <td>2</td>\n",
       "    </tr>\n",
       "    <tr>\n",
       "      <th>260123</th>\n",
       "      <td>0</td>\n",
       "      <td>What is with this hellish airplane seat arrang...</td>\n",
       "      <td>hellish airplane seat arrangement airbus</td>\n",
       "      <td>what is with thi hellish airplan seat arrang f...</td>\n",
       "      <td>what is with this hellish airplane seat arrang...</td>\n",
       "      <td>['hellish', 'airplane', 'seat', 'arrangement',...</td>\n",
       "      <td>5</td>\n",
       "      <td>5</td>\n",
       "    </tr>\n",
       "  </tbody>\n",
       "</table>\n",
       "<p>260124 rows × 8 columns</p>\n",
       "</div>"
      ],
      "text/plain": [
       "        label                                           headline  \\\n",
       "0           1  Friendly Cashier Persona Briefly Dropped To Ad...   \n",
       "1           1  Tucker Carlson Angrily Explains Difference Bet...   \n",
       "2           1  Emotional Bill Belichick Wipes Away Tar Stream...   \n",
       "3           1        The Week In Pictures – Week Of May 14, 2018   \n",
       "4           1  Man Always Carries Gun In Case He Needs To Esc...   \n",
       "...       ...                                                ...   \n",
       "260119      0  Wildlife officials telling people not to paint...   \n",
       "260120      0  Mark Hamill chimes in on wanted man named Luke...   \n",
       "260121      0   Condom machine explosion ends fatally in Germany   \n",
       "260122      0  China delegates told to leave selfie sticks at...   \n",
       "260123      0  What is with this hellish airplane seat arrang...   \n",
       "\n",
       "                                                    clean  \\\n",
       "0       friendly cashier persona briefly dropped addre...   \n",
       "1       tucker carlson angrily explains difference goo...   \n",
       "2       emotional bill belichick wipe away tar streami...   \n",
       "3                           week picture week may 14 2018   \n",
       "4       man always carry gun case need escalate situation   \n",
       "...                                                   ...   \n",
       "260119        wildlife official telling people paint bird   \n",
       "260120  mark hamill chime wanted man named luke sky wa...   \n",
       "260121       condom machine explosion end fatally germany   \n",
       "260122        china delegate told leave selfie stick home   \n",
       "260123           hellish airplane seat arrangement airbus   \n",
       "\n",
       "                                                  stemmed  \\\n",
       "0       friendli cashier persona briefli drop to addre...   \n",
       "1       tucker carlson angrili explain differ between ...   \n",
       "2       emot bill belichick wipe away tar stream from ...   \n",
       "3                  the week in pictur week of may 14 2018   \n",
       "4       man alway carri gun in case he need to escal s...   \n",
       "...                                                   ...   \n",
       "260119        wildlif offici tell peopl not to paint bird   \n",
       "260120  mark hamil chime in on want man name luke sky ...   \n",
       "260121          condom machin explos end fatal in germani   \n",
       "260122       china deleg told to leav selfi stick at home   \n",
       "260123  what is with thi hellish airplan seat arrang f...   \n",
       "\n",
       "                                               lemmatized  \\\n",
       "0       friendly cashier persona briefly dropped to ad...   \n",
       "1       tucker carlson angrily explains difference bet...   \n",
       "2       emotional bill belichick wipe away tar streami...   \n",
       "3                 the week in picture week of may 14 2018   \n",
       "4       man always carry gun in case he need to escala...   \n",
       "...                                                   ...   \n",
       "260119  wildlife official telling people not to paint ...   \n",
       "260120  mark hamill chime in on wanted man named luke ...   \n",
       "260121    condom machine explosion end fatally in germany   \n",
       "260122  china delegate told to leave selfie stick at home   \n",
       "260123  what is with this hellish airplane seat arrang...   \n",
       "\n",
       "                                                    words  doc_length  \\\n",
       "0       ['friendly', 'cashier', 'persona', 'briefly', ...           7   \n",
       "1       ['tucker', 'carlson', 'angrily', 'explains', '...           9   \n",
       "2       ['emotional', 'bill', 'belichick', 'wipe', 'aw...          15   \n",
       "3        ['week', 'picture', 'week', 'may', '14', '2018']           6   \n",
       "4       ['man', 'always', 'carry', 'gun', 'case', 'nee...           8   \n",
       "...                                                   ...         ...   \n",
       "260119  ['wildlife', 'official', 'telling', 'people', ...           6   \n",
       "260120  ['mark', 'hamill', 'chime', 'wanted', 'man', '...           9   \n",
       "260121  ['condom', 'machine', 'explosion', 'end', 'fat...           6   \n",
       "260122  ['china', 'delegate', 'told', 'leave', 'selfie...           7   \n",
       "260123  ['hellish', 'airplane', 'seat', 'arrangement',...           5   \n",
       "\n",
       "        stopwords_removed  \n",
       "0                       1  \n",
       "1                       2  \n",
       "2                       4  \n",
       "3                       3  \n",
       "4                       3  \n",
       "...                   ...  \n",
       "260119                  2  \n",
       "260120                  2  \n",
       "260121                  1  \n",
       "260122                  2  \n",
       "260123                  5  \n",
       "\n",
       "[260124 rows x 8 columns]"
      ]
     },
     "execution_count": 4,
     "metadata": {},
     "output_type": "execute_result"
    }
   ],
   "source": [
    "df = get_prepped_data(df, 'headline')\n",
    "df"
   ]
  },
  {
   "cell_type": "code",
   "execution_count": 5,
   "metadata": {
    "scrolled": true
   },
   "outputs": [
    {
     "name": "stdout",
     "output_type": "stream",
     "text": [
      "<class 'pandas.core.frame.DataFrame'>\n",
      "RangeIndex: 260124 entries, 0 to 260123\n",
      "Data columns (total 8 columns):\n",
      " #   Column             Non-Null Count   Dtype \n",
      "---  ------             --------------   ----- \n",
      " 0   label              260124 non-null  int64 \n",
      " 1   headline           260124 non-null  object\n",
      " 2   clean              260124 non-null  object\n",
      " 3   stemmed            260124 non-null  object\n",
      " 4   lemmatized         260124 non-null  object\n",
      " 5   words              260124 non-null  object\n",
      " 6   doc_length         260124 non-null  int64 \n",
      " 7   stopwords_removed  260124 non-null  int64 \n",
      "dtypes: int64(3), object(5)\n",
      "memory usage: 15.9+ MB\n"
     ]
    }
   ],
   "source": [
    "df.info()"
   ]
  },
  {
   "cell_type": "code",
   "execution_count": 6,
   "metadata": {
    "scrolled": true
   },
   "outputs": [
    {
     "data": {
      "text/html": [
       "<div>\n",
       "<style scoped>\n",
       "    .dataframe tbody tr th:only-of-type {\n",
       "        vertical-align: middle;\n",
       "    }\n",
       "\n",
       "    .dataframe tbody tr th {\n",
       "        vertical-align: top;\n",
       "    }\n",
       "\n",
       "    .dataframe thead th {\n",
       "        text-align: right;\n",
       "    }\n",
       "</style>\n",
       "<table border=\"1\" class=\"dataframe\">\n",
       "  <thead>\n",
       "    <tr style=\"text-align: right;\">\n",
       "      <th></th>\n",
       "      <th>n</th>\n",
       "      <th>percent</th>\n",
       "    </tr>\n",
       "  </thead>\n",
       "  <tbody>\n",
       "    <tr>\n",
       "      <th>0</th>\n",
       "      <td>243954</td>\n",
       "      <td>0.937837</td>\n",
       "    </tr>\n",
       "    <tr>\n",
       "      <th>1</th>\n",
       "      <td>16170</td>\n",
       "      <td>0.062163</td>\n",
       "    </tr>\n",
       "  </tbody>\n",
       "</table>\n",
       "</div>"
      ],
      "text/plain": [
       "        n   percent\n",
       "0  243954  0.937837\n",
       "1   16170  0.062163"
      ]
     },
     "execution_count": 6,
     "metadata": {},
     "output_type": "execute_result"
    }
   ],
   "source": [
    "df_labels = pd.concat([df.label.value_counts(),\n",
    "                    df.label.value_counts(normalize=True)], axis=1)\n",
    "df_labels.columns = ['n', 'percent']\n",
    "df_labels"
   ]
  },
  {
   "cell_type": "markdown",
   "metadata": {},
   "source": [
    "This dataset is imbalanced. This leads to a heavy bias towards the larger class (not the onion) and onion data may be treated as noise and ignored. We could achieve a 94% accuracy simply by predicting not the onion every time. A properly calibrated method may achieve a lower accuracy, but would have a substantially higher recall. As the goal of our model is to find fake news, we need to ensure that we are adequately capturing true instances of fictional headlines. \n",
    "\n",
    "The class imbalance present in this dataset will need to be addressed in order to maximize the performance of any models that we build. There are several resampling options:\n",
    "\n",
    "1. Undersampling the non-onion headlines. This is the simplest method, but with all of this valid data, we are intentionally causing information loss which might lead to poorer model performance on unseen data.  \n",
    "1. Oversampling through replication. We can randomly duplicate onion entries. This can work when a dataset is only somewhat imbalanced, as the number of duplicates will not substantially outnumber the number of original observations. In this case, we would need to create 14 duplicate onion observations for every original. This puts us at great risk of overfitting the data, and subsequently lead to poorer model performance on unseen data.  \n",
    "1. Synthetic Minority Over-sampling Technique (SMOTE). Synthetic examples can be created that fit to line segments joining any/all of the k minority class nearest neighbors. This forced the decision region of the minority class to become more general. Unfortunately, text vectorization creates values that have a limited dimensional range.  \n",
    "1. Data augmentation through shuffling or synonymous word replacement. As I intend on primarily using bag-of-words and TF-IDF feature engineering to vectorize the text, shuffling the location of the word in the sentence will have no effect. Other vectorization methods (like doc2vec or Fasttext) could be affected by word shuffling. We can make use of synonymous word replacement or try converting the text to a different language and then converting it back to english. \n",
    "\n",
    "Furthermore, beyond resampling, there may be hyperparameters that we can work with that may give us results similar to oversampling. Logistic regression, as an example, can apply weights that can in effect increase the importance and significance of the minority group. \n",
    "\n",
    "For now, we will explore the data, and will investigate class imbalance during modeling."
   ]
  },
  {
   "cell_type": "markdown",
   "metadata": {},
   "source": [
    "### Splitting the Data"
   ]
  },
  {
   "cell_type": "code",
   "execution_count": 7,
   "metadata": {},
   "outputs": [],
   "source": [
    "train_validate, test = train_test_split(df, stratify = df['label'], test_size = .15, random_state = 123)\n",
    "train, validate = train_test_split(train_validate, stratify = train_validate['label'], test_size = .20, random_state = 123)"
   ]
  },
  {
   "cell_type": "code",
   "execution_count": 8,
   "metadata": {},
   "outputs": [
    {
     "data": {
      "text/plain": [
       "((176884, 8), (44221, 8), (39019, 8))"
      ]
     },
     "execution_count": 8,
     "metadata": {},
     "output_type": "execute_result"
    }
   ],
   "source": [
    "train.shape, validate.shape, test.shape"
   ]
  },
  {
   "cell_type": "markdown",
   "metadata": {},
   "source": [
    "# Exploratory Data Analysis"
   ]
  },
  {
   "cell_type": "code",
   "execution_count": 9,
   "metadata": {},
   "outputs": [
    {
     "data": {
      "text/html": [
       "<div>\n",
       "<style scoped>\n",
       "    .dataframe tbody tr th:only-of-type {\n",
       "        vertical-align: middle;\n",
       "    }\n",
       "\n",
       "    .dataframe tbody tr th {\n",
       "        vertical-align: top;\n",
       "    }\n",
       "\n",
       "    .dataframe thead th {\n",
       "        text-align: right;\n",
       "    }\n",
       "</style>\n",
       "<table border=\"1\" class=\"dataframe\">\n",
       "  <thead>\n",
       "    <tr style=\"text-align: right;\">\n",
       "      <th></th>\n",
       "      <th>label</th>\n",
       "      <th>headline</th>\n",
       "      <th>clean</th>\n",
       "      <th>stemmed</th>\n",
       "      <th>lemmatized</th>\n",
       "      <th>words</th>\n",
       "      <th>doc_length</th>\n",
       "      <th>stopwords_removed</th>\n",
       "    </tr>\n",
       "  </thead>\n",
       "  <tbody>\n",
       "    <tr>\n",
       "      <th>155599</th>\n",
       "      <td>0</td>\n",
       "      <td>Passenger Claiming Government Experimented On ...</td>\n",
       "      <td>passenger claiming government experimented try...</td>\n",
       "      <td>passeng claim govern experi on her tri to open...</td>\n",
       "      <td>passenger claiming government experimented on ...</td>\n",
       "      <td>['passenger', 'claiming', 'government', 'exper...</td>\n",
       "      <td>11</td>\n",
       "      <td>3</td>\n",
       "    </tr>\n",
       "    <tr>\n",
       "      <th>123843</th>\n",
       "      <td>0</td>\n",
       "      <td>Mumbai: 'Rat Ate My Ketamine', Say Sewri Police</td>\n",
       "      <td>mumbai rat ate ketamine say sewri police</td>\n",
       "      <td>mumbai rat ate my ketamin say sewri polic</td>\n",
       "      <td>mumbai rat ate my ketamine say sewri police</td>\n",
       "      <td>['mumbai', 'rat', 'ate', 'ketamine', 'say', 's...</td>\n",
       "      <td>7</td>\n",
       "      <td>1</td>\n",
       "    </tr>\n",
       "    <tr>\n",
       "      <th>136828</th>\n",
       "      <td>0</td>\n",
       "      <td>Novelist who wrote ‘How To Murder Your Husband...</td>\n",
       "      <td>novelist wrote murder husband charged murderin...</td>\n",
       "      <td>novelist who wrote how to murder your husband ...</td>\n",
       "      <td>novelist who wrote how to murder your husband ...</td>\n",
       "      <td>['novelist', 'wrote', 'murder', 'husband', 'ch...</td>\n",
       "      <td>7</td>\n",
       "      <td>5</td>\n",
       "    </tr>\n",
       "    <tr>\n",
       "      <th>203791</th>\n",
       "      <td>0</td>\n",
       "      <td>El Hadji Diouf: I am not a bad guy, says contr...</td>\n",
       "      <td>el hadji diouf bad guy say controversial seneg...</td>\n",
       "      <td>el hadji diouf i am not a bad guy say controve...</td>\n",
       "      <td>el hadji diouf i am not a bad guy say controve...</td>\n",
       "      <td>['el', 'hadji', 'diouf', 'bad', 'guy', 'say', ...</td>\n",
       "      <td>9</td>\n",
       "      <td>4</td>\n",
       "    </tr>\n",
       "    <tr>\n",
       "      <th>38167</th>\n",
       "      <td>0</td>\n",
       "      <td>American Robots Lose Jobs To Asian Robots as A...</td>\n",
       "      <td>american robot lose job asian robot adidas shi...</td>\n",
       "      <td>american robot lose job to asian robot as adid...</td>\n",
       "      <td>american robot lose job to asian robot a adida...</td>\n",
       "      <td>['american', 'robot', 'lose', 'job', 'asian', ...</td>\n",
       "      <td>9</td>\n",
       "      <td>2</td>\n",
       "    </tr>\n",
       "  </tbody>\n",
       "</table>\n",
       "</div>"
      ],
      "text/plain": [
       "        label                                           headline  \\\n",
       "155599      0  Passenger Claiming Government Experimented On ...   \n",
       "123843      0    Mumbai: 'Rat Ate My Ketamine', Say Sewri Police   \n",
       "136828      0  Novelist who wrote ‘How To Murder Your Husband...   \n",
       "203791      0  El Hadji Diouf: I am not a bad guy, says contr...   \n",
       "38167       0  American Robots Lose Jobs To Asian Robots as A...   \n",
       "\n",
       "                                                    clean  \\\n",
       "155599  passenger claiming government experimented try...   \n",
       "123843           mumbai rat ate ketamine say sewri police   \n",
       "136828  novelist wrote murder husband charged murderin...   \n",
       "203791  el hadji diouf bad guy say controversial seneg...   \n",
       "38167   american robot lose job asian robot adidas shi...   \n",
       "\n",
       "                                                  stemmed  \\\n",
       "155599  passeng claim govern experi on her tri to open...   \n",
       "123843          mumbai rat ate my ketamin say sewri polic   \n",
       "136828  novelist who wrote how to murder your husband ...   \n",
       "203791  el hadji diouf i am not a bad guy say controve...   \n",
       "38167   american robot lose job to asian robot as adid...   \n",
       "\n",
       "                                               lemmatized  \\\n",
       "155599  passenger claiming government experimented on ...   \n",
       "123843        mumbai rat ate my ketamine say sewri police   \n",
       "136828  novelist who wrote how to murder your husband ...   \n",
       "203791  el hadji diouf i am not a bad guy say controve...   \n",
       "38167   american robot lose job to asian robot a adida...   \n",
       "\n",
       "                                                    words  doc_length  \\\n",
       "155599  ['passenger', 'claiming', 'government', 'exper...          11   \n",
       "123843  ['mumbai', 'rat', 'ate', 'ketamine', 'say', 's...           7   \n",
       "136828  ['novelist', 'wrote', 'murder', 'husband', 'ch...           7   \n",
       "203791  ['el', 'hadji', 'diouf', 'bad', 'guy', 'say', ...           9   \n",
       "38167   ['american', 'robot', 'lose', 'job', 'asian', ...           9   \n",
       "\n",
       "        stopwords_removed  \n",
       "155599                  3  \n",
       "123843                  1  \n",
       "136828                  5  \n",
       "203791                  4  \n",
       "38167                   2  "
      ]
     },
     "execution_count": 9,
     "metadata": {},
     "output_type": "execute_result"
    }
   ],
   "source": [
    "train.head()"
   ]
  },
  {
   "cell_type": "markdown",
   "metadata": {},
   "source": [
    "### How is the data divided between \"Onion\"(1) and \"Not Onion\"(0) headlines? "
   ]
  },
  {
   "cell_type": "code",
   "execution_count": 10,
   "metadata": {
    "scrolled": true
   },
   "outputs": [
    {
     "data": {
      "text/html": [
       "<div>\n",
       "<style scoped>\n",
       "    .dataframe tbody tr th:only-of-type {\n",
       "        vertical-align: middle;\n",
       "    }\n",
       "\n",
       "    .dataframe tbody tr th {\n",
       "        vertical-align: top;\n",
       "    }\n",
       "\n",
       "    .dataframe thead th {\n",
       "        text-align: right;\n",
       "    }\n",
       "</style>\n",
       "<table border=\"1\" class=\"dataframe\">\n",
       "  <thead>\n",
       "    <tr style=\"text-align: right;\">\n",
       "      <th></th>\n",
       "      <th>n</th>\n",
       "      <th>percent</th>\n",
       "    </tr>\n",
       "  </thead>\n",
       "  <tbody>\n",
       "    <tr>\n",
       "      <th>0</th>\n",
       "      <td>165889</td>\n",
       "      <td>0.937841</td>\n",
       "    </tr>\n",
       "    <tr>\n",
       "      <th>1</th>\n",
       "      <td>10995</td>\n",
       "      <td>0.062159</td>\n",
       "    </tr>\n",
       "  </tbody>\n",
       "</table>\n",
       "</div>"
      ],
      "text/plain": [
       "        n   percent\n",
       "0  165889  0.937841\n",
       "1   10995  0.062159"
      ]
     },
     "execution_count": 10,
     "metadata": {},
     "output_type": "execute_result"
    }
   ],
   "source": [
    "labels = pd.concat([train.label.value_counts(),\n",
    "                    train.label.value_counts(normalize=True)], axis=1)\n",
    "labels.columns = ['n', 'percent']\n",
    "labels"
   ]
  },
  {
   "cell_type": "markdown",
   "metadata": {},
   "source": [
    "### What are the most common words in these headlines?"
   ]
  },
  {
   "cell_type": "code",
   "execution_count": 11,
   "metadata": {},
   "outputs": [
    {
     "data": {
      "text/plain": [
       "man       18609\n",
       "say       10712\n",
       "woman     10615\n",
       "police     8918\n",
       "trump      7491\n",
       "year       6452\n",
       "new        6285\n",
       "get        5171\n",
       "u          4555\n",
       "sex        3904\n",
       "dtype: int64"
      ]
     },
     "execution_count": 11,
     "metadata": {},
     "output_type": "execute_result"
    }
   ],
   "source": [
    "all_words = ' '.join(train.clean)\n",
    "all_words_df = pd.DataFrame(all_words.split())\n",
    "all_freq = all_words_df.value_counts()\n",
    "all_freq.head(10)"
   ]
  },
  {
   "cell_type": "code",
   "execution_count": 12,
   "metadata": {},
   "outputs": [
    {
     "data": {
      "text/plain": [
       "life     784\n",
       "man      668\n",
       "new      668\n",
       "trump    617\n",
       "say      548\n",
       "find     531\n",
       "news     528\n",
       "year     403\n",
       "said     395\n",
       "woman    390\n",
       "dtype: int64"
      ]
     },
     "execution_count": 12,
     "metadata": {},
     "output_type": "execute_result"
    }
   ],
   "source": [
    "onion_words = ' '.join(train[train.label == 1].clean)\n",
    "onion_words_df = pd.DataFrame(onion_words.split())\n",
    "onion_freq = onion_words_df.value_counts()\n",
    "onion_freq.head(10)"
   ]
  },
  {
   "cell_type": "code",
   "execution_count": 13,
   "metadata": {
    "scrolled": true
   },
   "outputs": [
    {
     "data": {
      "text/plain": [
       "man         17941\n",
       "woman       10225\n",
       "say         10164\n",
       "police       8849\n",
       "trump        6874\n",
       "year         6049\n",
       "new          5617\n",
       "get          4830\n",
       "u            4311\n",
       "arrested     3822\n",
       "dtype: int64"
      ]
     },
     "execution_count": 13,
     "metadata": {},
     "output_type": "execute_result"
    }
   ],
   "source": [
    "not_onion_words = ' '.join(train[train.label == 0].clean)\n",
    "not_onion_words_df = pd.DataFrame(not_onion_words.split())\n",
    "not_onion_freq = not_onion_words_df.value_counts()\n",
    "not_onion_freq.head(10)"
   ]
  },
  {
   "cell_type": "markdown",
   "metadata": {},
   "source": [
    "Notice that the not_onion_words are dominating the all_words frequency count simply because they are the most prominent."
   ]
  },
  {
   "cell_type": "code",
   "execution_count": 14,
   "metadata": {},
   "outputs": [],
   "source": [
    "word_counts = (pd.concat([all_freq, onion_freq, not_onion_freq], axis = 1, sort = True)\n",
    "                .set_axis(['all', 'onion', 'not_onion'], axis = 1, inplace=False)\n",
    "                .fillna(0)\n",
    "                .apply(lambda s: s.astype(int)))"
   ]
  },
  {
   "cell_type": "code",
   "execution_count": 15,
   "metadata": {},
   "outputs": [
    {
     "data": {
      "text/html": [
       "<div>\n",
       "<style scoped>\n",
       "    .dataframe tbody tr th:only-of-type {\n",
       "        vertical-align: middle;\n",
       "    }\n",
       "\n",
       "    .dataframe tbody tr th {\n",
       "        vertical-align: top;\n",
       "    }\n",
       "\n",
       "    .dataframe thead th {\n",
       "        text-align: right;\n",
       "    }\n",
       "</style>\n",
       "<table border=\"1\" class=\"dataframe\">\n",
       "  <thead>\n",
       "    <tr style=\"text-align: right;\">\n",
       "      <th></th>\n",
       "      <th>all</th>\n",
       "      <th>onion</th>\n",
       "      <th>not_onion</th>\n",
       "    </tr>\n",
       "    <tr>\n",
       "      <th>0</th>\n",
       "      <th></th>\n",
       "      <th></th>\n",
       "      <th></th>\n",
       "    </tr>\n",
       "  </thead>\n",
       "  <tbody>\n",
       "    <tr>\n",
       "      <th>man</th>\n",
       "      <td>18609</td>\n",
       "      <td>668</td>\n",
       "      <td>17941</td>\n",
       "    </tr>\n",
       "    <tr>\n",
       "      <th>say</th>\n",
       "      <td>10712</td>\n",
       "      <td>548</td>\n",
       "      <td>10164</td>\n",
       "    </tr>\n",
       "    <tr>\n",
       "      <th>woman</th>\n",
       "      <td>10615</td>\n",
       "      <td>390</td>\n",
       "      <td>10225</td>\n",
       "    </tr>\n",
       "    <tr>\n",
       "      <th>police</th>\n",
       "      <td>8918</td>\n",
       "      <td>69</td>\n",
       "      <td>8849</td>\n",
       "    </tr>\n",
       "    <tr>\n",
       "      <th>trump</th>\n",
       "      <td>7491</td>\n",
       "      <td>617</td>\n",
       "      <td>6874</td>\n",
       "    </tr>\n",
       "    <tr>\n",
       "      <th>year</th>\n",
       "      <td>6452</td>\n",
       "      <td>403</td>\n",
       "      <td>6049</td>\n",
       "    </tr>\n",
       "    <tr>\n",
       "      <th>new</th>\n",
       "      <td>6285</td>\n",
       "      <td>668</td>\n",
       "      <td>5617</td>\n",
       "    </tr>\n",
       "    <tr>\n",
       "      <th>get</th>\n",
       "      <td>5171</td>\n",
       "      <td>341</td>\n",
       "      <td>4830</td>\n",
       "    </tr>\n",
       "    <tr>\n",
       "      <th>u</th>\n",
       "      <td>4555</td>\n",
       "      <td>244</td>\n",
       "      <td>4311</td>\n",
       "    </tr>\n",
       "    <tr>\n",
       "      <th>sex</th>\n",
       "      <td>3904</td>\n",
       "      <td>93</td>\n",
       "      <td>3811</td>\n",
       "    </tr>\n",
       "    <tr>\n",
       "      <th>arrested</th>\n",
       "      <td>3831</td>\n",
       "      <td>9</td>\n",
       "      <td>3822</td>\n",
       "    </tr>\n",
       "    <tr>\n",
       "      <th>school</th>\n",
       "      <td>3820</td>\n",
       "      <td>156</td>\n",
       "      <td>3664</td>\n",
       "    </tr>\n",
       "    <tr>\n",
       "      <th>old</th>\n",
       "      <td>3801</td>\n",
       "      <td>214</td>\n",
       "      <td>3587</td>\n",
       "    </tr>\n",
       "    <tr>\n",
       "      <th>people</th>\n",
       "      <td>3784</td>\n",
       "      <td>238</td>\n",
       "      <td>3546</td>\n",
       "    </tr>\n",
       "    <tr>\n",
       "      <th>student</th>\n",
       "      <td>3010</td>\n",
       "      <td>84</td>\n",
       "      <td>2926</td>\n",
       "    </tr>\n",
       "    <tr>\n",
       "      <th>car</th>\n",
       "      <td>2991</td>\n",
       "      <td>107</td>\n",
       "      <td>2884</td>\n",
       "    </tr>\n",
       "    <tr>\n",
       "      <th>news</th>\n",
       "      <td>2798</td>\n",
       "      <td>528</td>\n",
       "      <td>2270</td>\n",
       "    </tr>\n",
       "    <tr>\n",
       "      <th>day</th>\n",
       "      <td>2791</td>\n",
       "      <td>330</td>\n",
       "      <td>2461</td>\n",
       "    </tr>\n",
       "    <tr>\n",
       "      <th>find</th>\n",
       "      <td>2718</td>\n",
       "      <td>531</td>\n",
       "      <td>2187</td>\n",
       "    </tr>\n",
       "    <tr>\n",
       "      <th>child</th>\n",
       "      <td>2682</td>\n",
       "      <td>202</td>\n",
       "      <td>2480</td>\n",
       "    </tr>\n",
       "  </tbody>\n",
       "</table>\n",
       "</div>"
      ],
      "text/plain": [
       "            all  onion  not_onion\n",
       "0                                \n",
       "man       18609    668      17941\n",
       "say       10712    548      10164\n",
       "woman     10615    390      10225\n",
       "police     8918     69       8849\n",
       "trump      7491    617       6874\n",
       "year       6452    403       6049\n",
       "new        6285    668       5617\n",
       "get        5171    341       4830\n",
       "u          4555    244       4311\n",
       "sex        3904     93       3811\n",
       "arrested   3831      9       3822\n",
       "school     3820    156       3664\n",
       "old        3801    214       3587\n",
       "people     3784    238       3546\n",
       "student    3010     84       2926\n",
       "car        2991    107       2884\n",
       "news       2798    528       2270\n",
       "day        2791    330       2461\n",
       "find       2718    531       2187\n",
       "child      2682    202       2480"
      ]
     },
     "execution_count": 15,
     "metadata": {},
     "output_type": "execute_result"
    }
   ],
   "source": [
    "word_counts.sort_values(by='all', ascending = False).head(20)"
   ]
  },
  {
   "cell_type": "markdown",
   "metadata": {},
   "source": [
    "The words \"u\" tends to come up frequently from the words \"us\", \"U.S.\", \"U.K.\" or other specific nouns (\"U-Haul\") for example. "
   ]
  },
  {
   "cell_type": "code",
   "execution_count": 16,
   "metadata": {
    "scrolled": false
   },
   "outputs": [
    {
     "data": {
      "image/png": "[encoded data removed]",
      "text/plain": [
       "<Figure size 864x576 with 1 Axes>"
      ]
     },
     "metadata": {
      "needs_background": "light"
     },
     "output_type": "display_data"
    }
   ],
   "source": [
    "h_bar_proportions(word_counts, onion_words_df, all_words_df)"
   ]
  },
  {
   "cell_type": "markdown",
   "metadata": {},
   "source": [
    "### Are there any words that uniquely identify an onion headline or a non-onion headline?"
   ]
  },
  {
   "cell_type": "code",
   "execution_count": 17,
   "metadata": {},
   "outputs": [
    {
     "data": {
      "text/html": [
       "<div>\n",
       "<style scoped>\n",
       "    .dataframe tbody tr th:only-of-type {\n",
       "        vertical-align: middle;\n",
       "    }\n",
       "\n",
       "    .dataframe tbody tr th {\n",
       "        vertical-align: top;\n",
       "    }\n",
       "\n",
       "    .dataframe thead th {\n",
       "        text-align: right;\n",
       "    }\n",
       "</style>\n",
       "<table border=\"1\" class=\"dataframe\">\n",
       "  <thead>\n",
       "    <tr style=\"text-align: right;\">\n",
       "      <th></th>\n",
       "      <th>all</th>\n",
       "      <th>onion</th>\n",
       "      <th>not_onion</th>\n",
       "    </tr>\n",
       "    <tr>\n",
       "      <th>0</th>\n",
       "      <th></th>\n",
       "      <th></th>\n",
       "      <th></th>\n",
       "    </tr>\n",
       "  </thead>\n",
       "  <tbody>\n",
       "    <tr>\n",
       "      <th>patriothole</th>\n",
       "      <td>29</td>\n",
       "      <td>29</td>\n",
       "      <td>0</td>\n",
       "    </tr>\n",
       "    <tr>\n",
       "      <th>clickventure</th>\n",
       "      <td>23</td>\n",
       "      <td>23</td>\n",
       "      <td>0</td>\n",
       "    </tr>\n",
       "    <tr>\n",
       "      <th>populace</th>\n",
       "      <td>6</td>\n",
       "      <td>6</td>\n",
       "      <td>0</td>\n",
       "    </tr>\n",
       "    <tr>\n",
       "      <th>dipshit</th>\n",
       "      <td>6</td>\n",
       "      <td>6</td>\n",
       "      <td>0</td>\n",
       "    </tr>\n",
       "    <tr>\n",
       "      <th>allocates</th>\n",
       "      <td>6</td>\n",
       "      <td>6</td>\n",
       "      <td>0</td>\n",
       "    </tr>\n",
       "    <tr>\n",
       "      <th>entirety</th>\n",
       "      <td>6</td>\n",
       "      <td>6</td>\n",
       "      <td>0</td>\n",
       "    </tr>\n",
       "    <tr>\n",
       "      <th>kotex</th>\n",
       "      <td>6</td>\n",
       "      <td>6</td>\n",
       "      <td>0</td>\n",
       "    </tr>\n",
       "    <tr>\n",
       "      <th>debase</th>\n",
       "      <td>5</td>\n",
       "      <td>5</td>\n",
       "      <td>0</td>\n",
       "    </tr>\n",
       "    <tr>\n",
       "      <th>giada</th>\n",
       "      <td>5</td>\n",
       "      <td>5</td>\n",
       "      <td>0</td>\n",
       "    </tr>\n",
       "    <tr>\n",
       "      <th>chronotaur</th>\n",
       "      <td>5</td>\n",
       "      <td>5</td>\n",
       "      <td>0</td>\n",
       "    </tr>\n",
       "  </tbody>\n",
       "</table>\n",
       "</div>"
      ],
      "text/plain": [
       "              all  onion  not_onion\n",
       "0                                  \n",
       "patriothole    29     29          0\n",
       "clickventure   23     23          0\n",
       "populace        6      6          0\n",
       "dipshit         6      6          0\n",
       "allocates       6      6          0\n",
       "entirety        6      6          0\n",
       "kotex           6      6          0\n",
       "debase          5      5          0\n",
       "giada           5      5          0\n",
       "chronotaur      5      5          0"
      ]
     },
     "execution_count": 17,
     "metadata": {},
     "output_type": "execute_result"
    }
   ],
   "source": [
    "# Words that are unique to onion\n",
    "word_counts[word_counts.not_onion == 0].sort_values(by='onion', ascending = False).head(10)"
   ]
  },
  {
   "cell_type": "code",
   "execution_count": 18,
   "metadata": {
    "scrolled": true
   },
   "outputs": [
    {
     "data": {
      "text/html": [
       "<div>\n",
       "<style scoped>\n",
       "    .dataframe tbody tr th:only-of-type {\n",
       "        vertical-align: middle;\n",
       "    }\n",
       "\n",
       "    .dataframe tbody tr th {\n",
       "        vertical-align: top;\n",
       "    }\n",
       "\n",
       "    .dataframe thead th {\n",
       "        text-align: right;\n",
       "    }\n",
       "</style>\n",
       "<table border=\"1\" class=\"dataframe\">\n",
       "  <thead>\n",
       "    <tr style=\"text-align: right;\">\n",
       "      <th></th>\n",
       "      <th>all</th>\n",
       "      <th>onion</th>\n",
       "      <th>not_onion</th>\n",
       "    </tr>\n",
       "    <tr>\n",
       "      <th>0</th>\n",
       "      <th></th>\n",
       "      <th></th>\n",
       "      <th></th>\n",
       "    </tr>\n",
       "  </thead>\n",
       "  <tbody>\n",
       "    <tr>\n",
       "      <th>jailed</th>\n",
       "      <td>569</td>\n",
       "      <td>0</td>\n",
       "      <td>569</td>\n",
       "    </tr>\n",
       "    <tr>\n",
       "      <th>utah</th>\n",
       "      <td>428</td>\n",
       "      <td>0</td>\n",
       "      <td>428</td>\n",
       "    </tr>\n",
       "    <tr>\n",
       "      <th>cannabis</th>\n",
       "      <td>312</td>\n",
       "      <td>0</td>\n",
       "      <td>312</td>\n",
       "    </tr>\n",
       "    <tr>\n",
       "      <th>stabbed</th>\n",
       "      <td>308</td>\n",
       "      <td>0</td>\n",
       "      <td>308</td>\n",
       "    </tr>\n",
       "    <tr>\n",
       "      <th>mp</th>\n",
       "      <td>304</td>\n",
       "      <td>0</td>\n",
       "      <td>304</td>\n",
       "    </tr>\n",
       "    <tr>\n",
       "      <th>stabbing</th>\n",
       "      <td>248</td>\n",
       "      <td>0</td>\n",
       "      <td>248</td>\n",
       "    </tr>\n",
       "    <tr>\n",
       "      <th>according</th>\n",
       "      <td>219</td>\n",
       "      <td>0</td>\n",
       "      <td>219</td>\n",
       "    </tr>\n",
       "    <tr>\n",
       "      <th>gov</th>\n",
       "      <td>217</td>\n",
       "      <td>0</td>\n",
       "      <td>217</td>\n",
       "    </tr>\n",
       "    <tr>\n",
       "      <th>brawl</th>\n",
       "      <td>216</td>\n",
       "      <td>0</td>\n",
       "      <td>216</td>\n",
       "    </tr>\n",
       "    <tr>\n",
       "      <th>apologises</th>\n",
       "      <td>209</td>\n",
       "      <td>0</td>\n",
       "      <td>209</td>\n",
       "    </tr>\n",
       "  </tbody>\n",
       "</table>\n",
       "</div>"
      ],
      "text/plain": [
       "            all  onion  not_onion\n",
       "0                                \n",
       "jailed      569      0        569\n",
       "utah        428      0        428\n",
       "cannabis    312      0        312\n",
       "stabbed     308      0        308\n",
       "mp          304      0        304\n",
       "stabbing    248      0        248\n",
       "according   219      0        219\n",
       "gov         217      0        217\n",
       "brawl       216      0        216\n",
       "apologises  209      0        209"
      ]
     },
     "execution_count": 18,
     "metadata": {},
     "output_type": "execute_result"
    }
   ],
   "source": [
    "# Words that are unique to non-onion articles\n",
    "word_counts[word_counts.onion == 0].sort_values(by='not_onion', ascending = False).head(10)"
   ]
  },
  {
   "cell_type": "code",
   "execution_count": 19,
   "metadata": {
    "scrolled": true
   },
   "outputs": [
    {
     "data": {
      "text/html": [
       "<div>\n",
       "<style scoped>\n",
       "    .dataframe tbody tr th:only-of-type {\n",
       "        vertical-align: middle;\n",
       "    }\n",
       "\n",
       "    .dataframe tbody tr th {\n",
       "        vertical-align: top;\n",
       "    }\n",
       "\n",
       "    .dataframe thead th {\n",
       "        text-align: right;\n",
       "    }\n",
       "</style>\n",
       "<table border=\"1\" class=\"dataframe\">\n",
       "  <thead>\n",
       "    <tr style=\"text-align: right;\">\n",
       "      <th></th>\n",
       "      <th>all</th>\n",
       "      <th>onion</th>\n",
       "      <th>not_onion</th>\n",
       "      <th>ratio</th>\n",
       "    </tr>\n",
       "    <tr>\n",
       "      <th>0</th>\n",
       "      <th></th>\n",
       "      <th></th>\n",
       "      <th></th>\n",
       "      <th></th>\n",
       "    </tr>\n",
       "  </thead>\n",
       "  <tbody>\n",
       "    <tr>\n",
       "      <th>police</th>\n",
       "      <td>8918</td>\n",
       "      <td>69</td>\n",
       "      <td>8849</td>\n",
       "      <td>0.007797</td>\n",
       "    </tr>\n",
       "    <tr>\n",
       "      <th>texas</th>\n",
       "      <td>1378</td>\n",
       "      <td>11</td>\n",
       "      <td>1367</td>\n",
       "      <td>0.008047</td>\n",
       "    </tr>\n",
       "    <tr>\n",
       "      <th>florida</th>\n",
       "      <td>2147</td>\n",
       "      <td>20</td>\n",
       "      <td>2127</td>\n",
       "      <td>0.009403</td>\n",
       "    </tr>\n",
       "    <tr>\n",
       "      <th>fucking</th>\n",
       "      <td>146</td>\n",
       "      <td>99</td>\n",
       "      <td>47</td>\n",
       "      <td>2.105935</td>\n",
       "    </tr>\n",
       "    <tr>\n",
       "      <th>quiz</th>\n",
       "      <td>153</td>\n",
       "      <td>119</td>\n",
       "      <td>34</td>\n",
       "      <td>3.498971</td>\n",
       "    </tr>\n",
       "    <tr>\n",
       "      <th>finest</th>\n",
       "      <td>83</td>\n",
       "      <td>71</td>\n",
       "      <td>12</td>\n",
       "      <td>5.911740</td>\n",
       "    </tr>\n",
       "  </tbody>\n",
       "</table>\n",
       "</div>"
      ],
      "text/plain": [
       "          all  onion  not_onion     ratio\n",
       "0                                        \n",
       "police   8918     69       8849  0.007797\n",
       "texas    1378     11       1367  0.008047\n",
       "florida  2147     20       2127  0.009403\n",
       "fucking   146     99         47  2.105935\n",
       "quiz      153    119         34  3.498971\n",
       "finest     83     71         12  5.911740"
      ]
     },
     "execution_count": 19,
     "metadata": {},
     "output_type": "execute_result"
    }
   ],
   "source": [
    "(word_counts\n",
    " [(word_counts.onion > 10) & (word_counts.not_onion > 10)]\n",
    " .assign(ratio=lambda df: df.onion / (df.not_onion + .01))\n",
    " .sort_values(by='ratio')\n",
    " .pipe(lambda df: pd.concat([df.head(3), df.tail(3)])))"
   ]
  },
  {
   "cell_type": "markdown",
   "metadata": {},
   "source": [
    "Based on some of the most distinctly represented words in onion/not-onion headlines, onion headlines more commonly use the word quiz, likely because, as a site that relies solely on digital media, interactive pages are more commonly linked to onion related headlines than non-onion related headlines. \n",
    "\n",
    "The non-onion headlines often refer to 'florida'. I suspect that this is because of the meme nature of the bigram 'florida man'. "
   ]
  },
  {
   "cell_type": "markdown",
   "metadata": {},
   "source": [
    "### What does the distribution of IDFs look like for the most common words?"
   ]
  },
  {
   "cell_type": "code",
   "execution_count": 20,
   "metadata": {},
   "outputs": [
    {
     "data": {
      "text/html": [
       "<div>\n",
       "<style scoped>\n",
       "    .dataframe tbody tr th:only-of-type {\n",
       "        vertical-align: middle;\n",
       "    }\n",
       "\n",
       "    .dataframe tbody tr th {\n",
       "        vertical-align: top;\n",
       "    }\n",
       "\n",
       "    .dataframe thead th {\n",
       "        text-align: right;\n",
       "    }\n",
       "</style>\n",
       "<table border=\"1\" class=\"dataframe\">\n",
       "  <thead>\n",
       "    <tr style=\"text-align: right;\">\n",
       "      <th></th>\n",
       "      <th>word</th>\n",
       "      <th>total_count</th>\n",
       "      <th>num_of_documents</th>\n",
       "      <th>idf_value</th>\n",
       "    </tr>\n",
       "  </thead>\n",
       "  <tbody>\n",
       "    <tr>\n",
       "      <th>0</th>\n",
       "      <td>man</td>\n",
       "      <td>18609</td>\n",
       "      <td>36001</td>\n",
       "      <td>1.591947</td>\n",
       "    </tr>\n",
       "    <tr>\n",
       "      <th>1</th>\n",
       "      <td>say</td>\n",
       "      <td>10712</td>\n",
       "      <td>11251</td>\n",
       "      <td>2.755037</td>\n",
       "    </tr>\n",
       "    <tr>\n",
       "      <th>2</th>\n",
       "      <td>woman</td>\n",
       "      <td>10615</td>\n",
       "      <td>10531</td>\n",
       "      <td>2.821171</td>\n",
       "    </tr>\n",
       "    <tr>\n",
       "      <th>3</th>\n",
       "      <td>police</td>\n",
       "      <td>8918</td>\n",
       "      <td>8835</td>\n",
       "      <td>2.996773</td>\n",
       "    </tr>\n",
       "    <tr>\n",
       "      <th>4</th>\n",
       "      <td>trump</td>\n",
       "      <td>7491</td>\n",
       "      <td>7333</td>\n",
       "      <td>3.183109</td>\n",
       "    </tr>\n",
       "    <tr>\n",
       "      <th>5</th>\n",
       "      <td>year</td>\n",
       "      <td>6452</td>\n",
       "      <td>6320</td>\n",
       "      <td>3.331775</td>\n",
       "    </tr>\n",
       "    <tr>\n",
       "      <th>6</th>\n",
       "      <td>new</td>\n",
       "      <td>6285</td>\n",
       "      <td>9803</td>\n",
       "      <td>2.892806</td>\n",
       "    </tr>\n",
       "    <tr>\n",
       "      <th>7</th>\n",
       "      <td>get</td>\n",
       "      <td>5171</td>\n",
       "      <td>7593</td>\n",
       "      <td>3.148267</td>\n",
       "    </tr>\n",
       "    <tr>\n",
       "      <th>8</th>\n",
       "      <td>u</td>\n",
       "      <td>4555</td>\n",
       "      <td>135226</td>\n",
       "      <td>0.268547</td>\n",
       "    </tr>\n",
       "    <tr>\n",
       "      <th>9</th>\n",
       "      <td>sex</td>\n",
       "      <td>3904</td>\n",
       "      <td>5621</td>\n",
       "      <td>3.448985</td>\n",
       "    </tr>\n",
       "  </tbody>\n",
       "</table>\n",
       "</div>"
      ],
      "text/plain": [
       "     word  total_count  num_of_documents  idf_value\n",
       "0     man        18609             36001   1.591947\n",
       "1     say        10712             11251   2.755037\n",
       "2   woman        10615             10531   2.821171\n",
       "3  police         8918              8835   2.996773\n",
       "4   trump         7491              7333   3.183109\n",
       "5    year         6452              6320   3.331775\n",
       "6     new         6285              9803   2.892806\n",
       "7     get         5171              7593   3.148267\n",
       "8       u         4555            135226   0.268547\n",
       "9     sex         3904              5621   3.448985"
      ]
     },
     "execution_count": 20,
     "metadata": {},
     "output_type": "execute_result"
    }
   ],
   "source": [
    "idf(all_words_df, train)"
   ]
  },
  {
   "cell_type": "markdown",
   "metadata": {},
   "source": [
    "Because of the nature of headlines, it is unlikely for the total_count to be substantially different from the num_of_documents, as generally a headline will be made of mostly unique words. The IDF values for the top words supports this idea. The high IDF values still represent that the presence of these words are useful however. There are 176,886 documents in the train dataset, and the most common word shows up in less than 11% of them. A model that utilizes IDF or perhaps TF-IDF will likely have a strong predictive ability. "
   ]
  },
  {
   "cell_type": "markdown",
   "metadata": {},
   "source": [
    "### Does the length of the headline vary by source?"
   ]
  },
  {
   "cell_type": "code",
   "execution_count": 21,
   "metadata": {},
   "outputs": [
    {
     "data": {
      "text/plain": [
       "count    10995.000000\n",
       "mean         9.149341\n",
       "std          3.680416\n",
       "min          1.000000\n",
       "25%          7.000000\n",
       "50%          9.000000\n",
       "75%         11.000000\n",
       "max         38.000000\n",
       "Name: doc_length, dtype: float64"
      ]
     },
     "execution_count": 21,
     "metadata": {},
     "output_type": "execute_result"
    }
   ],
   "source": [
    "# Descriptive statistics of Onion headline document lengths\n",
    "train[train.label == 1].doc_length.describe()"
   ]
  },
  {
   "cell_type": "code",
   "execution_count": 22,
   "metadata": {},
   "outputs": [
    {
     "data": {
      "text/plain": [
       "count    165889.000000\n",
       "mean          8.362887\n",
       "std           2.857322\n",
       "min           1.000000\n",
       "25%           7.000000\n",
       "50%           8.000000\n",
       "75%          10.000000\n",
       "max          42.000000\n",
       "Name: doc_length, dtype: float64"
      ]
     },
     "execution_count": 22,
     "metadata": {},
     "output_type": "execute_result"
    }
   ],
   "source": [
    "# Descriptive statistics of Non-onion headline document lengths\n",
    "train[train.label == 0].doc_length.describe()"
   ]
  },
  {
   "cell_type": "code",
   "execution_count": 23,
   "metadata": {},
   "outputs": [
    {
     "data": {
      "text/plain": [
       "label\n",
       "0    8.362887\n",
       "1    9.149341\n",
       "Name: doc_length, dtype: float64"
      ]
     },
     "execution_count": 23,
     "metadata": {},
     "output_type": "execute_result"
    }
   ],
   "source": [
    "train.groupby('label').doc_length.mean()"
   ]
  },
  {
   "cell_type": "markdown",
   "metadata": {},
   "source": [
    "Onion headlines do appear to be slightly longer than non-onion headlines. We can validate this with a t-test.\n",
    "\n",
    "$H_0$: There is no difference between the length of Onion and Non-onion headlines.  \n",
    "$H_a$: Onion headlines are longer than Non-onion headlines."
   ]
  },
  {
   "cell_type": "code",
   "execution_count": 24,
   "metadata": {},
   "outputs": [
    {
     "data": {
      "text/plain": [
       "(27.394130973839914, 3.569985460867351e-165)"
      ]
     },
     "execution_count": 24,
     "metadata": {},
     "output_type": "execute_result"
    }
   ],
   "source": [
    "alpha = 0.05\n",
    "stat, p = stats.ttest_ind(train[train.label == 1]['doc_length'], train[train.label == 0]['doc_length'])\n",
    "stat, p/2"
   ]
  },
  {
   "cell_type": "code",
   "execution_count": 25,
   "metadata": {},
   "outputs": [
    {
     "name": "stdout",
     "output_type": "stream",
     "text": [
      "We reject the null hypothesis. Based on the t-statistic, Onion headlines are longer than non-onion headlines.\n"
     ]
    }
   ],
   "source": [
    "if p/2 < alpha:\n",
    "    print('We reject the null hypothesis. Based on the t-statistic, Onion headlines are longer than non-onion headlines.')\n",
    "else:\n",
    "    print('We fail to reject the null hypothesis.')"
   ]
  },
  {
   "cell_type": "markdown",
   "metadata": {},
   "source": [
    "As we predicted, the length of Onion headlines are longer. Precisely why this is the case may be difficult to ascertain without extensive investigation of many journalists, but a simple possible explanation is that a number of Onion headlines are written in a conversational manner. As an example:\n",
    "\n",
    "        \"Wow: When Someone Graffitied Hateful Messages On This Mosque, A Group Of House Painters Came Together To Cover It Up For Free. But Then The Next Night The Hateful Guy Came Back And Wrote Even Worse Stuff, And The Painters Are Booked Through The End Of The Year. So Now Some Well-Intentioned [cont.]\"\n",
    "        \n",
    "Best practices in journalism suggest avoiding an extended headline like the example above."
   ]
  },
  {
   "cell_type": "markdown",
   "metadata": {},
   "source": [
    "### Is there a difference in the number of stopwords removed?"
   ]
  },
  {
   "cell_type": "code",
   "execution_count": 26,
   "metadata": {},
   "outputs": [
    {
     "data": {
      "text/plain": [
       "count    10995.000000\n",
       "mean         4.475307\n",
       "std          3.270282\n",
       "min          0.000000\n",
       "25%          2.000000\n",
       "50%          4.000000\n",
       "75%          6.000000\n",
       "max         28.000000\n",
       "Name: stopwords_removed, dtype: float64"
      ]
     },
     "execution_count": 26,
     "metadata": {},
     "output_type": "execute_result"
    }
   ],
   "source": [
    "# Descriptive statistics of Onion headline stopwords removed\n",
    "train[train.label == 1].stopwords_removed.describe()"
   ]
  },
  {
   "cell_type": "code",
   "execution_count": 27,
   "metadata": {},
   "outputs": [
    {
     "data": {
      "text/plain": [
       "count    165889.000000\n",
       "mean          3.283226\n",
       "std           2.405572\n",
       "min           0.000000\n",
       "25%           2.000000\n",
       "50%           3.000000\n",
       "75%           4.000000\n",
       "max          33.000000\n",
       "Name: stopwords_removed, dtype: float64"
      ]
     },
     "execution_count": 27,
     "metadata": {},
     "output_type": "execute_result"
    }
   ],
   "source": [
    "# Descriptive statistics of Not-Onion headlines stopwords removed\n",
    "train[train.label == 0].stopwords_removed.describe()"
   ]
  },
  {
   "cell_type": "markdown",
   "metadata": {},
   "source": [
    "Onion headlines appear to have more stopwords than non-onion headlines. We can validate this with a t-test.\n",
    "\n",
    "$H_0$: There is no difference between the number of stopwords in Onion and Non-onion headlines.  \n",
    "$H_a$: Onion headlines contain more stopwords than Non-onion headlines."
   ]
  },
  {
   "cell_type": "code",
   "execution_count": 28,
   "metadata": {},
   "outputs": [
    {
     "data": {
      "text/plain": [
       "(49.0449379728409, 0.0)"
      ]
     },
     "execution_count": 28,
     "metadata": {},
     "output_type": "execute_result"
    }
   ],
   "source": [
    "alpha = 0.05\n",
    "stat, p = stats.ttest_ind(train[train.label == 1]['stopwords_removed'], train[train.label == 0]['stopwords_removed'])\n",
    "stat, p"
   ]
  },
  {
   "cell_type": "code",
   "execution_count": 29,
   "metadata": {},
   "outputs": [
    {
     "name": "stdout",
     "output_type": "stream",
     "text": [
      "We reject the null hypothesis. Onion headlines have more stopwords than non-onion headlines.\n"
     ]
    }
   ],
   "source": [
    "if p < alpha:\n",
    "    print('We reject the null hypothesis. Onion headlines have more stopwords than non-onion headlines.')\n",
    "else:\n",
    "    print('We fail to reject the null hypothesis.')"
   ]
  },
  {
   "cell_type": "markdown",
   "metadata": {},
   "source": [
    "Not surprisingly, Onion headlines contain more stopwords. The conversational manner of many Onion headlines may be contributing to the increased use of stopwords. "
   ]
  },
  {
   "cell_type": "markdown",
   "metadata": {},
   "source": [
    "### How are the bigrams within the dataset distributed?"
   ]
  },
  {
   "cell_type": "code",
   "execution_count": 30,
   "metadata": {},
   "outputs": [
    {
     "data": {
      "text/plain": [
       "(said, find)          270\n",
       "(year, old)           134\n",
       "(white, house)        108\n",
       "(donald, trump)        76\n",
       "(study, find)          73\n",
       "(news, source)         73\n",
       "(america, finest)      71\n",
       "(finest, news)         71\n",
       "(onion, america)       70\n",
       "(need, know)           66\n",
       "(everything, need)     59\n",
       "(5, thing)             59\n",
       "(thing, know)          58\n",
       "(culture, shock)       55\n",
       "(must, see)            54\n",
       "(pope, francis)        46\n",
       "(area, man)            45\n",
       "(new, york)            44\n",
       "(high, school)         44\n",
       "(horoscope, week)      41\n",
       "dtype: int64"
      ]
     },
     "execution_count": 30,
     "metadata": {},
     "output_type": "execute_result"
    }
   ],
   "source": [
    "top_20_onion_bigrams = (pd.Series(nltk.ngrams(onion_words.split(), 2))\n",
    "                       .value_counts()\n",
    "                       .head(20))\n",
    "\n",
    "top_20_onion_bigrams"
   ]
  },
  {
   "cell_type": "code",
   "execution_count": 31,
   "metadata": {},
   "outputs": [
    {
     "data": {
      "image/png": "[encoded data removed]",
      "text/plain": [
       "<Figure size 720x432 with 1 Axes>"
      ]
     },
     "metadata": {
      "needs_background": "light"
     },
     "output_type": "display_data"
    }
   ],
   "source": [
    "top_20_onion_bigrams.sort_values().plot.barh(color='dodgerblue', width=.9, figsize=(10, 6))\n",
    "\n",
    "plt.title('20 Most frequently occuring Onion bigrams')\n",
    "plt.ylabel('Bigram')\n",
    "plt.xlabel('# Occurances')\n",
    "\n",
    "# make the labels pretty\n",
    "ticks, _ = plt.yticks()\n",
    "labels = top_20_onion_bigrams.reset_index()['index'].apply(lambda t: t[0] + ' ' + t[1])\n",
    "labels = list(labels.values)\n",
    "labels.reverse()\n",
    "_ = plt.yticks(ticks, labels)"
   ]
  },
  {
   "cell_type": "code",
   "execution_count": 32,
   "metadata": {},
   "outputs": [
    {
     "data": {
      "text/plain": [
       "(year, old)          3030\n",
       "(donald, trump)      1415\n",
       "(man, arrested)       933\n",
       "(police, say)         906\n",
       "(white, house)        759\n",
       "(north, korea)        750\n",
       "(covid, 19)           725\n",
       "(new, york)           683\n",
       "(high, school)        623\n",
       "(police, officer)     592\n",
       "(florida, man)        576\n",
       "(x, post)             544\n",
       "(post, r)             486\n",
       "(fox, news)           475\n",
       "(kim, jong)           463\n",
       "(man, accused)        453\n",
       "(jong, un)            450\n",
       "(kanye, west)         377\n",
       "(climate, change)     366\n",
       "(trump, say)          360\n",
       "dtype: int64"
      ]
     },
     "execution_count": 32,
     "metadata": {},
     "output_type": "execute_result"
    }
   ],
   "source": [
    "top_20_not_onion_bigrams = (pd.Series(nltk.ngrams(not_onion_words.split(), 2))\n",
    "                           .value_counts()\n",
    "                           .head(20))\n",
    "\n",
    "top_20_not_onion_bigrams"
   ]
  },
  {
   "cell_type": "code",
   "execution_count": 33,
   "metadata": {},
   "outputs": [
    {
     "data": {
      "image/png": "[encoded data removed]",
      "text/plain": [
       "<Figure size 720x432 with 1 Axes>"
      ]
     },
     "metadata": {
      "needs_background": "light"
     },
     "output_type": "display_data"
    }
   ],
   "source": [
    "top_20_not_onion_bigrams.sort_values().plot.barh(color='darkgray', width=.9, figsize=(10, 6))\n",
    "\n",
    "plt.title('20 Most frequently occuring Non-Onion bigrams')\n",
    "plt.ylabel('Bigram')\n",
    "plt.xlabel('# Occurances')\n",
    "\n",
    "# make the labels pretty\n",
    "ticks, _ = plt.yticks()\n",
    "labels = top_20_not_onion_bigrams.reset_index()['index'].apply(lambda t: t[0] + ' ' + t[1])\n",
    "labels = list(labels.values)\n",
    "labels.reverse()\n",
    "_ = plt.yticks(ticks, labels)"
   ]
  },
  {
   "cell_type": "markdown",
   "metadata": {},
   "source": [
    "### Visualizing Bigrams in a Word Cloud"
   ]
  },
  {
   "cell_type": "code",
   "execution_count": 34,
   "metadata": {},
   "outputs": [
    {
     "data": {
      "image/png": "[encoded data removed]",
      "text/plain": [
       "<Figure size 576x288 with 1 Axes>"
      ]
     },
     "metadata": {
      "needs_background": "light"
     },
     "output_type": "display_data"
    }
   ],
   "source": [
    "# Onion Bigram Word Cloud\n",
    "data = {k[0] + ' ' + k[1]: v for k, v in top_20_onion_bigrams.to_dict().items()}\n",
    "img = WordCloud(background_color='white', colormap='ocean', width=800, height=400).generate_from_frequencies(data)\n",
    "plt.figure(figsize=(8, 4))\n",
    "plt.imshow(img)\n",
    "plt.axis('off')\n",
    "plt.show()"
   ]
  },
  {
   "cell_type": "code",
   "execution_count": 35,
   "metadata": {},
   "outputs": [
    {
     "data": {
      "image/png": "[encoded data removed]",
      "text/plain": [
       "<Figure size 576x288 with 1 Axes>"
      ]
     },
     "metadata": {
      "needs_background": "light"
     },
     "output_type": "display_data"
    }
   ],
   "source": [
    "# Not-Onion Bigram Word Cloud\n",
    "data = {k[0] + ' ' + k[1]: v for k, v in top_20_not_onion_bigrams.to_dict().items()}\n",
    "img = WordCloud(background_color='white', colormap='twilight', width=800, height=400).generate_from_frequencies(data)\n",
    "plt.figure(figsize=(8, 4))\n",
    "plt.imshow(img)\n",
    "plt.axis('off')\n",
    "plt.show()"
   ]
  },
  {
   "cell_type": "markdown",
   "metadata": {},
   "source": [
    "### How are the trigrams within the dataset distributed?"
   ]
  },
  {
   "cell_type": "code",
   "execution_count": 36,
   "metadata": {},
   "outputs": [
    {
     "data": {
      "text/plain": [
       "(finest, news, source)          71\n",
       "(america, finest, news)         71\n",
       "(onion, america, finest)        70\n",
       "(everything, need, know)        59\n",
       "(5, thing, know)                56\n",
       "(week, picture, week)           38\n",
       "(culture, shock, everything)    31\n",
       "(shock, everything, need)       31\n",
       "(change, way, watch)            22\n",
       "(j, k, rowling)                 18\n",
       "(culture, shock, culture)       17\n",
       "(new, york, time)               17\n",
       "(shock, culture, shock)         17\n",
       "(onion, present, topical)       15\n",
       "(onion, look, back)             15\n",
       "(kim, jong, un)                 14\n",
       "(new, study, find)              13\n",
       "(plan, perfect, day)            13\n",
       "(new, york, city)               12\n",
       "(life, culture, shock)          12\n",
       "dtype: int64"
      ]
     },
     "execution_count": 36,
     "metadata": {},
     "output_type": "execute_result"
    }
   ],
   "source": [
    "top_20_onion_trigrams = (pd.Series(nltk.ngrams(onion_words.split(), 3))\n",
    "                        .value_counts()\n",
    "                        .head(20))\n",
    "\n",
    "top_20_onion_trigrams"
   ]
  },
  {
   "cell_type": "code",
   "execution_count": 37,
   "metadata": {},
   "outputs": [
    {
     "data": {
      "text/plain": [
       "(x, post, r)               474\n",
       "(kim, jong, un)            448\n",
       "(year, old, girl)          286\n",
       "(year, old, boy)           253\n",
       "(year, old, man)           157\n",
       "(12, year, old)            151\n",
       "(11, year, old)            138\n",
       "(year, old, woman)         138\n",
       "(13, year, old)            118\n",
       "(10, year, old)            115\n",
       "(new, york, city)          114\n",
       "(year, old, son)           112\n",
       "(14, year, old)            102\n",
       "(high, school, student)     98\n",
       "(black, life, matter)       96\n",
       "(read, http, www)           80\n",
       "(osama, bin, laden)         80\n",
       "(george, w, bush)           78\n",
       "(daily, flash, ad)          76\n",
       "(nobel, peace, prize)       76\n",
       "dtype: int64"
      ]
     },
     "execution_count": 37,
     "metadata": {},
     "output_type": "execute_result"
    }
   ],
   "source": [
    "top_20_not_onion_trigrams = (pd.Series(nltk.ngrams(not_onion_words.split(), 3))\n",
    "                        .value_counts()\n",
    "                        .head(20))\n",
    "\n",
    "top_20_not_onion_trigrams"
   ]
  },
  {
   "cell_type": "markdown",
   "metadata": {},
   "source": [
    "# Modeling\n",
    "\n",
    "## Resampling\n",
    "\n",
    "Given the class imbalance of the dataset, we can likely improve the recall of our models by achieving greater parity between the number of onion headlines and not-onion headlines. There are several methods to accomplish this:\n",
    "\n",
    "1. Random undersampling. We reduce the size of the train dataset by randomly eliminating rows that contain not-onion headlines until the number of onion headlines and not-onion headlines are equal. This is destructive, but we will evaluate it as an option for the purposes of this project. Generally, this technique should not be used in a production environment. \n",
    "\n",
    "1. Random oversampling. We take samples at random from the smaller class (onion headlines) and duplicate them until it reaches a size comparable with the majority class. This can also run into some overfitting issues, as we will be exaggerating small details within the onion headlines by a factor of 14-fold. \n",
    "\n",
    "1. SMOTE. We create synthetic samples along the line joining the current instance and some of its k nearest neighbors from the same class. This creates denser decision regions, and can help classifiers learn more from the dense regions of the minority class rather than defaulting to the large classes surrounding those regions. \n",
    "\n",
    "1. Shuffling or synonymous word replacement. A simple method is to create synthetic samples by shuffling the words around or by replacing the words with similar words. We will evaluate the use of translators to translate a word from english into another random language and then translate it back to english. This should create a slightly different headline, but one which has a context similar to the original headline. "
   ]
  },
  {
   "cell_type": "code",
   "execution_count": 38,
   "metadata": {},
   "outputs": [
    {
     "data": {
      "text/plain": [
       "(165889, 10995)"
      ]
     },
     "execution_count": 38,
     "metadata": {},
     "output_type": "execute_result"
    }
   ],
   "source": [
    "#Class count\n",
    "count_class_0, count_class_1 = train.label.value_counts()\n",
    "count_class_0, count_class_1"
   ]
  },
  {
   "cell_type": "code",
   "execution_count": 39,
   "metadata": {},
   "outputs": [],
   "source": [
    "# Divide train into two separate dataframes by label\n",
    "train_class_0 = train[train.label == 0]\n",
    "train_class_1 = train[train.label == 1]"
   ]
  },
  {
   "cell_type": "code",
   "execution_count": 40,
   "metadata": {},
   "outputs": [
    {
     "data": {
      "text/plain": [
       "((165889, 8), (10995, 8))"
      ]
     },
     "execution_count": 40,
     "metadata": {},
     "output_type": "execute_result"
    }
   ],
   "source": [
    "train_class_0.shape, train_class_1.shape"
   ]
  },
  {
   "cell_type": "code",
   "execution_count": 41,
   "metadata": {},
   "outputs": [
    {
     "name": "stdout",
     "output_type": "stream",
     "text": [
      "No Resampling Results\n",
      "0    165889\n",
      "1     10995\n",
      "Name: label, dtype: int64\n"
     ]
    }
   ],
   "source": [
    "print('No Resampling Results')\n",
    "print(train.label.value_counts())"
   ]
  },
  {
   "cell_type": "markdown",
   "metadata": {},
   "source": [
    "### Random Undersampling"
   ]
  },
  {
   "cell_type": "code",
   "execution_count": 42,
   "metadata": {},
   "outputs": [
    {
     "name": "stdout",
     "output_type": "stream",
     "text": [
      "Random Undersampling Results\n",
      "1    10995\n",
      "0    10995\n",
      "Name: label, dtype: int64\n"
     ]
    }
   ],
   "source": [
    "# Using the .sample method, we obtain a number of samples equal to the number of observations in the minority class\n",
    "train_class_0_undersampled = train_class_0.sample(count_class_1, random_state=123)\n",
    "\n",
    "# We concatenate this smaller sample of the majority class with our minority class dataframe\n",
    "train_undersampled = pd.concat([train_class_0_undersampled, train_class_1], axis = 0)\n",
    "\n",
    "print('Random Undersampling Results')\n",
    "print(train_undersampled.label.value_counts())"
   ]
  },
  {
   "cell_type": "markdown",
   "metadata": {},
   "source": [
    "### Random Oversampling"
   ]
  },
  {
   "cell_type": "code",
   "execution_count": 43,
   "metadata": {},
   "outputs": [
    {
     "name": "stdout",
     "output_type": "stream",
     "text": [
      "Random Oversampling Results\n",
      "1    165889\n",
      "0    165889\n",
      "Name: label, dtype: int64\n"
     ]
    }
   ],
   "source": [
    "# Using the .sample method again, we can create a dataframe made of duplicated entries until the minority class has as many observations as the majority class\n",
    "train_class_1_oversampled = train_class_1.sample(count_class_0, replace=True, random_state=123)\n",
    "\n",
    "# We concatenate this larger sample of the minority class with our majority class dataframe\n",
    "train_oversampled = pd.concat([train_class_0, train_class_1_oversampled], axis=0)\n",
    "\n",
    "print('Random Oversampling Results')\n",
    "print(train_oversampled.label.value_counts())"
   ]
  },
  {
   "cell_type": "markdown",
   "metadata": {},
   "source": [
    "### SMOTE\n",
    "\n",
    "SMOTE attempts to create synthetic entries based on an application of a K-Nearest Neighbors algorithm. As K-Nearest Neighbors requires numeric dimensionality, SMOTE can only create synthetic entries from vectorized text data. For this reason, we will need to wait until the data has been vectorized before applying SMOTE. "
   ]
  },
  {
   "cell_type": "code",
   "execution_count": 44,
   "metadata": {},
   "outputs": [],
   "source": [
    "sm = SMOTE(sampling_strategy = 'auto', random_state=123) # The sampling_strategy parameter sets the target ratio between the classes"
   ]
  },
  {
   "cell_type": "markdown",
   "metadata": {},
   "source": [
    "### Create Label Series (y)\n",
    "\n",
    "y_train is tagged with '_original' to indicate that it is composed of the labels without any resampling techniques\n",
    "\n",
    "Additional resampling techniques will create additional observations that will change the train derived labels. SMOTE will create a new y_train_smote array, but this cannot be created until the data has been vectorized.\n",
    "\n",
    "The labels for validate and test will not need to be adjusted, as they represent unseen data. "
   ]
  },
  {
   "cell_type": "code",
   "execution_count": 45,
   "metadata": {},
   "outputs": [],
   "source": [
    "y_train_original = train.label\n",
    "y_train_undersampled = train_undersampled.label\n",
    "y_train_oversampled = train_oversampled.label\n",
    "y_validate = validate.label\n",
    "y_test = test.label"
   ]
  },
  {
   "cell_type": "markdown",
   "metadata": {},
   "source": [
    "### Create Prediction Dataframes\n",
    "We we create a dataframe to store the predictions made by the various algorithms"
   ]
  },
  {
   "cell_type": "code",
   "execution_count": 46,
   "metadata": {},
   "outputs": [],
   "source": [
    "train_results_original = pd.DataFrame(dict(actual=y_train_original))"
   ]
  },
  {
   "cell_type": "code",
   "execution_count": 47,
   "metadata": {},
   "outputs": [
    {
     "data": {
      "text/plain": [
       "actual\n",
       "0         165889\n",
       "1          10995\n",
       "dtype: int64"
      ]
     },
     "execution_count": 47,
     "metadata": {},
     "output_type": "execute_result"
    }
   ],
   "source": [
    "train_results_original.value_counts()"
   ]
  },
  {
   "cell_type": "code",
   "execution_count": 48,
   "metadata": {},
   "outputs": [],
   "source": [
    "train_results_undersampled = pd.DataFrame(dict(actual=y_train_undersampled))"
   ]
  },
  {
   "cell_type": "code",
   "execution_count": 49,
   "metadata": {},
   "outputs": [
    {
     "data": {
      "text/plain": [
       "actual\n",
       "1         10995\n",
       "0         10995\n",
       "dtype: int64"
      ]
     },
     "execution_count": 49,
     "metadata": {},
     "output_type": "execute_result"
    }
   ],
   "source": [
    "train_results_undersampled.value_counts()"
   ]
  },
  {
   "cell_type": "code",
   "execution_count": 50,
   "metadata": {},
   "outputs": [],
   "source": [
    "train_results_oversampled = pd.DataFrame(dict(actual=y_train_oversampled))"
   ]
  },
  {
   "cell_type": "code",
   "execution_count": 51,
   "metadata": {},
   "outputs": [
    {
     "data": {
      "text/plain": [
       "actual\n",
       "1         165889\n",
       "0         165889\n",
       "dtype: int64"
      ]
     },
     "execution_count": 51,
     "metadata": {},
     "output_type": "execute_result"
    }
   ],
   "source": [
    "train_results_oversampled.value_counts()"
   ]
  },
  {
   "cell_type": "markdown",
   "metadata": {},
   "source": [
    "### Create Baseline Model\n",
    "\n",
    "The simplest baseline model will be developed using the majority class as 100% predicted."
   ]
  },
  {
   "cell_type": "code",
   "execution_count": 52,
   "metadata": {},
   "outputs": [
    {
     "data": {
      "text/html": [
       "<div>\n",
       "<style scoped>\n",
       "    .dataframe tbody tr th:only-of-type {\n",
       "        vertical-align: middle;\n",
       "    }\n",
       "\n",
       "    .dataframe tbody tr th {\n",
       "        vertical-align: top;\n",
       "    }\n",
       "\n",
       "    .dataframe thead th {\n",
       "        text-align: right;\n",
       "    }\n",
       "</style>\n",
       "<table border=\"1\" class=\"dataframe\">\n",
       "  <thead>\n",
       "    <tr style=\"text-align: right;\">\n",
       "      <th></th>\n",
       "      <th>actual</th>\n",
       "      <th>baseline</th>\n",
       "    </tr>\n",
       "  </thead>\n",
       "  <tbody>\n",
       "    <tr>\n",
       "      <th>155599</th>\n",
       "      <td>0</td>\n",
       "      <td>0</td>\n",
       "    </tr>\n",
       "    <tr>\n",
       "      <th>123843</th>\n",
       "      <td>0</td>\n",
       "      <td>0</td>\n",
       "    </tr>\n",
       "    <tr>\n",
       "      <th>136828</th>\n",
       "      <td>0</td>\n",
       "      <td>0</td>\n",
       "    </tr>\n",
       "    <tr>\n",
       "      <th>203791</th>\n",
       "      <td>0</td>\n",
       "      <td>0</td>\n",
       "    </tr>\n",
       "    <tr>\n",
       "      <th>38167</th>\n",
       "      <td>0</td>\n",
       "      <td>0</td>\n",
       "    </tr>\n",
       "    <tr>\n",
       "      <th>...</th>\n",
       "      <td>...</td>\n",
       "      <td>...</td>\n",
       "    </tr>\n",
       "    <tr>\n",
       "      <th>56602</th>\n",
       "      <td>0</td>\n",
       "      <td>0</td>\n",
       "    </tr>\n",
       "    <tr>\n",
       "      <th>145965</th>\n",
       "      <td>0</td>\n",
       "      <td>0</td>\n",
       "    </tr>\n",
       "    <tr>\n",
       "      <th>107537</th>\n",
       "      <td>0</td>\n",
       "      <td>0</td>\n",
       "    </tr>\n",
       "    <tr>\n",
       "      <th>159344</th>\n",
       "      <td>0</td>\n",
       "      <td>0</td>\n",
       "    </tr>\n",
       "    <tr>\n",
       "      <th>255267</th>\n",
       "      <td>0</td>\n",
       "      <td>0</td>\n",
       "    </tr>\n",
       "  </tbody>\n",
       "</table>\n",
       "<p>176884 rows × 2 columns</p>\n",
       "</div>"
      ],
      "text/plain": [
       "        actual  baseline\n",
       "155599       0         0\n",
       "123843       0         0\n",
       "136828       0         0\n",
       "203791       0         0\n",
       "38167        0         0\n",
       "...        ...       ...\n",
       "56602        0         0\n",
       "145965       0         0\n",
       "107537       0         0\n",
       "159344       0         0\n",
       "255267       0         0\n",
       "\n",
       "[176884 rows x 2 columns]"
      ]
     },
     "execution_count": 52,
     "metadata": {},
     "output_type": "execute_result"
    }
   ],
   "source": [
    "train_results_original['baseline'] = train.label.value_counts().idxmax()\n",
    "train_results_original"
   ]
  },
  {
   "cell_type": "code",
   "execution_count": 53,
   "metadata": {},
   "outputs": [
    {
     "data": {
      "text/plain": [
       "0    176884\n",
       "Name: baseline, dtype: int64"
      ]
     },
     "execution_count": 53,
     "metadata": {},
     "output_type": "execute_result"
    }
   ],
   "source": [
    "train_results_original.baseline.value_counts()"
   ]
  },
  {
   "cell_type": "code",
   "execution_count": 54,
   "metadata": {},
   "outputs": [],
   "source": [
    "baseline_f1_score_original = round(f1_score(train_results_original.actual, train_results_original.baseline), 3)\n",
    "baseline_accuracy_original = round(accuracy_score(train_results_original.actual, train_results_original.baseline), 3)"
   ]
  },
  {
   "cell_type": "code",
   "execution_count": 55,
   "metadata": {},
   "outputs": [
    {
     "name": "stdout",
     "output_type": "stream",
     "text": [
      "Baseline Model Confusion Matrix\n"
     ]
    },
    {
     "data": {
      "text/html": [
       "<div>\n",
       "<style scoped>\n",
       "    .dataframe tbody tr th:only-of-type {\n",
       "        vertical-align: middle;\n",
       "    }\n",
       "\n",
       "    .dataframe tbody tr th {\n",
       "        vertical-align: top;\n",
       "    }\n",
       "\n",
       "    .dataframe thead th {\n",
       "        text-align: right;\n",
       "    }\n",
       "</style>\n",
       "<table border=\"1\" class=\"dataframe\">\n",
       "  <thead>\n",
       "    <tr style=\"text-align: right;\">\n",
       "      <th>actual</th>\n",
       "      <th>0</th>\n",
       "      <th>1</th>\n",
       "    </tr>\n",
       "    <tr>\n",
       "      <th>baseline</th>\n",
       "      <th></th>\n",
       "      <th></th>\n",
       "    </tr>\n",
       "  </thead>\n",
       "  <tbody>\n",
       "    <tr>\n",
       "      <th>0</th>\n",
       "      <td>165889</td>\n",
       "      <td>10995</td>\n",
       "    </tr>\n",
       "  </tbody>\n",
       "</table>\n",
       "</div>"
      ],
      "text/plain": [
       "actual         0      1\n",
       "baseline               \n",
       "0         165889  10995"
      ]
     },
     "execution_count": 55,
     "metadata": {},
     "output_type": "execute_result"
    }
   ],
   "source": [
    "print('Baseline Model Confusion Matrix')\n",
    "pd.crosstab(train_results_original.baseline, train_results_original.actual)"
   ]
  },
  {
   "cell_type": "code",
   "execution_count": 56,
   "metadata": {},
   "outputs": [
    {
     "name": "stdout",
     "output_type": "stream",
     "text": [
      "Baseline Model: Majority Class Predicted\n",
      "Accuracy: 0.938\n",
      "f1_score: 0.0\n",
      "---\n",
      "              precision    recall  f1-score   support\n",
      "\n",
      "           0       0.94      1.00      0.97    165889\n",
      "           1       0.00      0.00      0.00     10995\n",
      "\n",
      "    accuracy                           0.94    176884\n",
      "   macro avg       0.47      0.50      0.48    176884\n",
      "weighted avg       0.88      0.94      0.91    176884\n",
      "\n"
     ]
    }
   ],
   "source": [
    "print('Baseline Model: Majority Class Predicted')\n",
    "print(f'Accuracy: {baseline_accuracy_original}')\n",
    "print(f'f1_score: {baseline_f1_score_original}')\n",
    "print('---')\n",
    "print(classification_report(train_results_original.actual, train_results_original.baseline))"
   ]
  },
  {
   "cell_type": "markdown",
   "metadata": {},
   "source": [
    "Naturally, accuracy is high because of the substantial proportion of not-onion headlines in the dataset, but recall on this model for onion articles is zero. Our goal will be to increase recall while still maintaining reasonable accuracy overall. The f1_score is a good measure for this. \n",
    "\n",
    "Given the amount of modification we are performing on our train with resampling, the current accuracy on the training data is not particularly important. The metrics on the validate data sample will be more telling. "
   ]
  },
  {
   "cell_type": "markdown",
   "metadata": {},
   "source": [
    "## Vectorization Methods\n",
    "\n",
    "### Vectorization\n",
    "To begin, we will need to generate numerical representations of the text data. There are a number of methods:\n",
    "\n",
    "1. Bag of Words - This generates a number of features equal to the total number of unique words in the corpus (all of our headlines combined). The features for each document (headline) are given values equal to the number of occurences for those words in the document. This relatively simple approach may be limited because:\n",
    "    - The headlines are relatively short (around 8 words long)\n",
    "    - The headlines tend to be composed of almost entirely unique words\n",
    "    \n",
    "    \n",
    "2. Term Frequency Inverse Document Frequency (TF-IDF) - This measures how important a word is to a document. We compute the term frequency (how often a word is used overall) and the inverse document frequency (how many documents that word is used in) and combine them to create a score that increases the relative value given to a rarer and more specific word. \n",
    "    - Looking at the IDF scores from earlier, it appears that many of the words have a high IDF score. \n",
    "    - This is likely to outperform a bag of words model\n",
    "    \n",
    "    \n",
    "3. Global Vectors for Word Representation (GloVe) - This is an unsupervised learning algorithm for obtaining vector representations for words. Each word in the corpus is transformed into a position in high dimensional space so that similar words are placed together. There are pretrained GloVe values available for download, and for the purposes of this project, the Wikipedia 2014 + Gigaword 5 vectors available from https://nlp.stanford.edu/projects/glove/ will be used.\n",
    "\n",
    "\n",
    "4. word2vec/doc2vec - This vectorizes words through use of a neural network to evaluate the context of a given word in a document by two methods: CBoW (continuous bag of words), which tries to predict the context of the word by looking at its surrounding words, and Skipgram, which tries to predict the context of the surrounding words by looking at the current word. There is also an extension of word2vec called doc2vec that adds another layer which corresponds to paragraph representation. In other words, with doc2vec, each document will be given an array of numeric values representing its unique nature. \n",
    "\n",
    "\n",
    "5. Fasttext - This is a library developed by the Facebook Research Team that utilizes word2vec methodology but introduces char n-grams that improve the ability to learn and adequately vectorize rare words. \n",
    "\n",
    "For now, we will focus on Bag of Words and Term Frequency Inverse Document Frequency for our text vectorization methods and will return to GloVe, word2vec, and Fasttext if there is time."
   ]
  },
  {
   "cell_type": "markdown",
   "metadata": {},
   "source": [
    "### --== Bag of Words ==--\n",
    "### Bag of Words Vectorization - No Resampling"
   ]
  },
  {
   "cell_type": "code",
   "execution_count": 57,
   "metadata": {},
   "outputs": [],
   "source": [
    "# Create the vectorizer object\n",
    "bow_vectorizer = CountVectorizer(analyzer = 'word', tokenizer = None, preprocessor = None, stop_words = None)"
   ]
  },
  {
   "cell_type": "code",
   "execution_count": 58,
   "metadata": {},
   "outputs": [
    {
     "data": {
      "text/plain": [
       "<176884x50989 sparse matrix of type '<class 'numpy.int64'>'\n",
       "\twith 1455679 stored elements in Compressed Sparse Row format>"
      ]
     },
     "execution_count": 58,
     "metadata": {},
     "output_type": "execute_result"
    }
   ],
   "source": [
    "# Pass the cleaned headlines into the .fit_transform method\n",
    "X_train_bow_original = bow_vectorizer.fit_transform(train.clean)\n",
    "X_train_bow_original"
   ]
  },
  {
   "cell_type": "code",
   "execution_count": 59,
   "metadata": {},
   "outputs": [
    {
     "data": {
      "text/plain": [
       "(176884, 8)"
      ]
     },
     "execution_count": 59,
     "metadata": {},
     "output_type": "execute_result"
    }
   ],
   "source": [
    "# Confirm that all headlines were vectorized\n",
    "train.shape"
   ]
  },
  {
   "cell_type": "markdown",
   "metadata": {},
   "source": [
    "There are 50989 columns in our bag of words array. This corresponds to 50989 unique words each given a value for being present or absent in a given headline"
   ]
  },
  {
   "cell_type": "code",
   "execution_count": 60,
   "metadata": {},
   "outputs": [
    {
     "data": {
      "text/plain": [
       "['grandstander',\n",
       " 'grandville',\n",
       " 'grange',\n",
       " 'granite',\n",
       " 'grannie',\n",
       " 'granny',\n",
       " 'granola',\n",
       " 'grant',\n",
       " 'granted',\n",
       " 'grantham']"
      ]
     },
     "execution_count": 60,
     "metadata": {},
     "output_type": "execute_result"
    }
   ],
   "source": [
    "# We can inspect a sample of the feature names to view some of the vocabulary used in the corpus\n",
    "vocab = bow_vectorizer.get_feature_names()\n",
    "vocab[20000:20010]"
   ]
  },
  {
   "cell_type": "markdown",
   "metadata": {},
   "source": [
    "### Bag of Words Vectorization - Random Undersampling"
   ]
  },
  {
   "cell_type": "code",
   "execution_count": 61,
   "metadata": {},
   "outputs": [],
   "source": [
    "# Create the vectorizer object\n",
    "bow_vectorizer_undersampled = CountVectorizer(analyzer = 'word', tokenizer = None, preprocessor = None, stop_words = None)"
   ]
  },
  {
   "cell_type": "code",
   "execution_count": 62,
   "metadata": {},
   "outputs": [
    {
     "data": {
      "text/plain": [
       "<21990x22179 sparse matrix of type '<class 'numpy.int64'>'\n",
       "\twith 188211 stored elements in Compressed Sparse Row format>"
      ]
     },
     "execution_count": 62,
     "metadata": {},
     "output_type": "execute_result"
    }
   ],
   "source": [
    "# Pass the cleaned headlines into the .fit_transform method\n",
    "X_train_bow_undersampled = bow_vectorizer_undersampled.fit_transform(train_undersampled.clean)\n",
    "X_train_bow_undersampled"
   ]
  },
  {
   "cell_type": "code",
   "execution_count": 63,
   "metadata": {},
   "outputs": [
    {
     "data": {
      "text/plain": [
       "(21990, 8)"
      ]
     },
     "execution_count": 63,
     "metadata": {},
     "output_type": "execute_result"
    }
   ],
   "source": [
    "# Confirm that all headlines were vectorized\n",
    "train_undersampled.shape"
   ]
  },
  {
   "cell_type": "markdown",
   "metadata": {},
   "source": [
    "There are 22179 columns in our undersampled bag of words array. The number of unique words has been reduced to about 40% of its original amount. This represents real loss in information, and may cause issues when we move to validation."
   ]
  },
  {
   "cell_type": "code",
   "execution_count": 64,
   "metadata": {},
   "outputs": [
    {
     "data": {
      "text/plain": [
       "['graffitied',\n",
       " 'graham',\n",
       " 'grail',\n",
       " 'grain',\n",
       " 'gram',\n",
       " 'grammar',\n",
       " 'grammer',\n",
       " 'grammy',\n",
       " 'grammys',\n",
       " 'grand']"
      ]
     },
     "execution_count": 64,
     "metadata": {},
     "output_type": "execute_result"
    }
   ],
   "source": [
    "# We can inspect a sample of the feature names to view some of the vocabulary used in the corpus\n",
    "vocab_undersampled = bow_vectorizer_undersampled.get_feature_names()\n",
    "vocab_undersampled[8692:8702]"
   ]
  },
  {
   "cell_type": "markdown",
   "metadata": {},
   "source": [
    "### Bag of Words Vectorization - Random Oversampling"
   ]
  },
  {
   "cell_type": "code",
   "execution_count": 65,
   "metadata": {},
   "outputs": [],
   "source": [
    "# Create the vectorizer object\n",
    "bow_vectorizer_oversampled = CountVectorizer(analyzer = 'word', tokenizer = None, preprocessor = None, stop_words = None)"
   ]
  },
  {
   "cell_type": "code",
   "execution_count": 66,
   "metadata": {},
   "outputs": [
    {
     "data": {
      "text/plain": [
       "<331778x50989 sparse matrix of type '<class 'numpy.int64'>'\n",
       "\twith 2843442 stored elements in Compressed Sparse Row format>"
      ]
     },
     "execution_count": 66,
     "metadata": {},
     "output_type": "execute_result"
    }
   ],
   "source": [
    "# Pass the cleaned headlines into the .fit_transform method\n",
    "X_train_bow_oversampled = bow_vectorizer_oversampled.fit_transform(train_oversampled.clean)\n",
    "X_train_bow_oversampled"
   ]
  },
  {
   "cell_type": "code",
   "execution_count": 67,
   "metadata": {},
   "outputs": [
    {
     "data": {
      "text/plain": [
       "(331778, 8)"
      ]
     },
     "execution_count": 67,
     "metadata": {},
     "output_type": "execute_result"
    }
   ],
   "source": [
    "# Confirm that all headlines were vectorized\n",
    "train_oversampled.shape"
   ]
  },
  {
   "cell_type": "markdown",
   "metadata": {},
   "source": [
    "Notice that while the total number of observations have increased, the number of features remained the same, as no new unique words were added in the process."
   ]
  },
  {
   "cell_type": "code",
   "execution_count": 68,
   "metadata": {
    "scrolled": true
   },
   "outputs": [
    {
     "data": {
      "text/plain": [
       "['grandstander',\n",
       " 'grandville',\n",
       " 'grange',\n",
       " 'granite',\n",
       " 'grannie',\n",
       " 'granny',\n",
       " 'granola',\n",
       " 'grant',\n",
       " 'granted',\n",
       " 'grantham']"
      ]
     },
     "execution_count": 68,
     "metadata": {},
     "output_type": "execute_result"
    }
   ],
   "source": [
    "# We can inspect a sample of the feature names to view some of the vocabulary used in the corpus\n",
    "vocab_oversampled = bow_vectorizer_oversampled.get_feature_names()\n",
    "vocab_oversampled[20000:20010]"
   ]
  },
  {
   "cell_type": "markdown",
   "metadata": {},
   "source": [
    "### Bag of Words Vectorization - SMOTE"
   ]
  },
  {
   "cell_type": "code",
   "execution_count": 69,
   "metadata": {},
   "outputs": [],
   "source": [
    "# Vectorize the training data\n",
    "bow_vectorizer_smote = CountVectorizer(analyzer = 'word', tokenizer = None, preprocessor = None, stop_words = None)"
   ]
  },
  {
   "cell_type": "code",
   "execution_count": 70,
   "metadata": {},
   "outputs": [
    {
     "data": {
      "text/plain": [
       "<176884x50989 sparse matrix of type '<class 'numpy.int64'>'\n",
       "\twith 1455679 stored elements in Compressed Sparse Row format>"
      ]
     },
     "execution_count": 70,
     "metadata": {},
     "output_type": "execute_result"
    }
   ],
   "source": [
    "# Pass the cleaned headlines into the .fit_transform method\n",
    "X_train_bow_smote = bow_vectorizer_smote.fit_transform(train.clean)\n",
    "X_train_bow_smote"
   ]
  },
  {
   "cell_type": "code",
   "execution_count": 71,
   "metadata": {},
   "outputs": [],
   "source": [
    "# Pass these arrays into the sm.fit_sample method to generate the oversampled arrays\n",
    "X_train_bow_smote, y_train_bow_smote = sm.fit_sample(X_train_bow_smote, y_train_original)"
   ]
  },
  {
   "cell_type": "code",
   "execution_count": 72,
   "metadata": {},
   "outputs": [
    {
     "data": {
      "text/plain": [
       "((331778, 50989), (331778,))"
      ]
     },
     "execution_count": 72,
     "metadata": {},
     "output_type": "execute_result"
    }
   ],
   "source": [
    "X_train_bow_smote.shape, y_train_bow_smote.shape"
   ]
  },
  {
   "cell_type": "code",
   "execution_count": 73,
   "metadata": {},
   "outputs": [
    {
     "data": {
      "text/plain": [
       "1    165889\n",
       "0    165889\n",
       "Name: label, dtype: int64"
      ]
     },
     "execution_count": 73,
     "metadata": {},
     "output_type": "execute_result"
    }
   ],
   "source": [
    "y_train_bow_smote.value_counts()"
   ]
  },
  {
   "cell_type": "markdown",
   "metadata": {},
   "source": [
    "### --==TF-IDF==--\n",
    "### TF-IDF Vectorization - No Resampling"
   ]
  },
  {
   "cell_type": "code",
   "execution_count": 74,
   "metadata": {},
   "outputs": [],
   "source": [
    "# Create the vectorizer object\n",
    "tfidf_vectorizer = TfidfVectorizer()"
   ]
  },
  {
   "cell_type": "code",
   "execution_count": 75,
   "metadata": {},
   "outputs": [
    {
     "data": {
      "text/plain": [
       "<176884x50989 sparse matrix of type '<class 'numpy.float64'>'\n",
       "\twith 1455679 stored elements in Compressed Sparse Row format>"
      ]
     },
     "execution_count": 75,
     "metadata": {},
     "output_type": "execute_result"
    }
   ],
   "source": [
    "# Pass the cleaned headlines into the .fit_transform method\n",
    "X_train_tfidf_original = tfidf_vectorizer.fit_transform(train.clean)\n",
    "X_train_tfidf_original"
   ]
  },
  {
   "cell_type": "code",
   "execution_count": 76,
   "metadata": {},
   "outputs": [
    {
     "data": {
      "text/plain": [
       "(176884, 8)"
      ]
     },
     "execution_count": 76,
     "metadata": {},
     "output_type": "execute_result"
    }
   ],
   "source": [
    "# Confirm all headlines were vectorized\n",
    "train.shape"
   ]
  },
  {
   "cell_type": "markdown",
   "metadata": {},
   "source": [
    "There are 50989 columns in our bag of words array. This corresponds to 50989 unique words each given a value for being present or absent in a given headline"
   ]
  },
  {
   "cell_type": "code",
   "execution_count": 77,
   "metadata": {
    "scrolled": true
   },
   "outputs": [
    {
     "data": {
      "text/plain": [
       "['grandstander',\n",
       " 'grandville',\n",
       " 'grange',\n",
       " 'granite',\n",
       " 'grannie',\n",
       " 'granny',\n",
       " 'granola',\n",
       " 'grant',\n",
       " 'granted',\n",
       " 'grantham']"
      ]
     },
     "execution_count": 77,
     "metadata": {},
     "output_type": "execute_result"
    }
   ],
   "source": [
    "# We can inspect a sample of the feature names to view some of the vocabulary used in the corpus\n",
    "vocab = tfidf_vectorizer.get_feature_names()\n",
    "vocab[20000:20010]"
   ]
  },
  {
   "cell_type": "markdown",
   "metadata": {},
   "source": [
    "### TF-IDF Vectorization - Random Undersampling "
   ]
  },
  {
   "cell_type": "code",
   "execution_count": 78,
   "metadata": {},
   "outputs": [],
   "source": [
    "# Create the vectorizer object\n",
    "tfidf_vectorizer_undersampled = TfidfVectorizer()"
   ]
  },
  {
   "cell_type": "code",
   "execution_count": 79,
   "metadata": {},
   "outputs": [
    {
     "data": {
      "text/plain": [
       "<21990x22179 sparse matrix of type '<class 'numpy.float64'>'\n",
       "\twith 188211 stored elements in Compressed Sparse Row format>"
      ]
     },
     "execution_count": 79,
     "metadata": {},
     "output_type": "execute_result"
    }
   ],
   "source": [
    "# Pass the cleaned headlines into the .fit_transform method\n",
    "X_train_tfidf_undersampled = tfidf_vectorizer_undersampled.fit_transform(train_undersampled.clean)\n",
    "X_train_tfidf_undersampled"
   ]
  },
  {
   "cell_type": "code",
   "execution_count": 80,
   "metadata": {},
   "outputs": [
    {
     "data": {
      "text/plain": [
       "(21990, 8)"
      ]
     },
     "execution_count": 80,
     "metadata": {},
     "output_type": "execute_result"
    }
   ],
   "source": [
    "# Confirm all headlines were vectorized\n",
    "train_undersampled.shape"
   ]
  },
  {
   "cell_type": "code",
   "execution_count": 81,
   "metadata": {
    "scrolled": true
   },
   "outputs": [
    {
     "data": {
      "text/plain": [
       "['graffitied',\n",
       " 'graham',\n",
       " 'grail',\n",
       " 'grain',\n",
       " 'gram',\n",
       " 'grammar',\n",
       " 'grammer',\n",
       " 'grammy',\n",
       " 'grammys',\n",
       " 'grand']"
      ]
     },
     "execution_count": 81,
     "metadata": {},
     "output_type": "execute_result"
    }
   ],
   "source": [
    "# We can inspect a sample of the feature names to view some of the vocabulary used in the corpus\n",
    "vocab_undersampled = tfidf_vectorizer_undersampled.get_feature_names()\n",
    "vocab_undersampled[8692:8702]"
   ]
  },
  {
   "cell_type": "markdown",
   "metadata": {},
   "source": [
    "### TF-IDF Vectorization - Random Oversampling"
   ]
  },
  {
   "cell_type": "code",
   "execution_count": 82,
   "metadata": {},
   "outputs": [],
   "source": [
    "# Create the vectorizer object\n",
    "tfidf_vectorizer_oversampled = TfidfVectorizer()"
   ]
  },
  {
   "cell_type": "code",
   "execution_count": 83,
   "metadata": {},
   "outputs": [
    {
     "data": {
      "text/plain": [
       "<331778x50989 sparse matrix of type '<class 'numpy.float64'>'\n",
       "\twith 2843442 stored elements in Compressed Sparse Row format>"
      ]
     },
     "execution_count": 83,
     "metadata": {},
     "output_type": "execute_result"
    }
   ],
   "source": [
    "# Pass the cleaned headlines into the .fit_transform method\n",
    "X_train_tfidf_oversampled = tfidf_vectorizer_oversampled.fit_transform(train_oversampled.clean)\n",
    "X_train_tfidf_oversampled"
   ]
  },
  {
   "cell_type": "code",
   "execution_count": 84,
   "metadata": {},
   "outputs": [
    {
     "data": {
      "text/plain": [
       "(331778, 8)"
      ]
     },
     "execution_count": 84,
     "metadata": {},
     "output_type": "execute_result"
    }
   ],
   "source": [
    "# Confirm all headlines were vectorized\n",
    "train_oversampled.shape"
   ]
  },
  {
   "cell_type": "code",
   "execution_count": 85,
   "metadata": {
    "scrolled": true
   },
   "outputs": [
    {
     "data": {
      "text/plain": [
       "['grandstander',\n",
       " 'grandville',\n",
       " 'grange',\n",
       " 'granite',\n",
       " 'grannie',\n",
       " 'granny',\n",
       " 'granola',\n",
       " 'grant',\n",
       " 'granted',\n",
       " 'grantham']"
      ]
     },
     "execution_count": 85,
     "metadata": {},
     "output_type": "execute_result"
    }
   ],
   "source": [
    "# We can inspect a sample of the feature names to view some of the vocabulary used in the corpus\n",
    "vocab_oversampled = tfidf_vectorizer_oversampled.get_feature_names()\n",
    "vocab_oversampled[20000:20010]"
   ]
  },
  {
   "cell_type": "markdown",
   "metadata": {},
   "source": [
    "### TF-IDF Vectorization - SMOTE"
   ]
  },
  {
   "cell_type": "code",
   "execution_count": 86,
   "metadata": {},
   "outputs": [],
   "source": [
    "# Create the vectorizer object\n",
    "tfidf_vectorizer_smote = TfidfVectorizer()"
   ]
  },
  {
   "cell_type": "code",
   "execution_count": 87,
   "metadata": {},
   "outputs": [
    {
     "data": {
      "text/plain": [
       "<176884x50989 sparse matrix of type '<class 'numpy.float64'>'\n",
       "\twith 1455679 stored elements in Compressed Sparse Row format>"
      ]
     },
     "execution_count": 87,
     "metadata": {},
     "output_type": "execute_result"
    }
   ],
   "source": [
    "# Pass the cleaned headlines into the .fit_transform method\n",
    "X_train_tfidf_smote = tfidf_vectorizer.fit_transform(train.clean)\n",
    "X_train_tfidf_smote"
   ]
  },
  {
   "cell_type": "code",
   "execution_count": 89,
   "metadata": {},
   "outputs": [],
   "source": [
    "# Pass these arrays into the sm.fit_sample method to generate the oversampled arrays\n",
    "X_train_tfidf_smote, y_train_tfidf_smote = sm.fit_sample(X_train_tfidf_smote, y_train_original)"
   ]
  },
  {
   "cell_type": "code",
   "execution_count": 90,
   "metadata": {},
   "outputs": [
    {
     "data": {
      "text/plain": [
       "((331778, 50989), (331778,))"
      ]
     },
     "execution_count": 90,
     "metadata": {},
     "output_type": "execute_result"
    }
   ],
   "source": [
    "X_train_tfidf_smote.shape, y_train_tfidf_smote.shape"
   ]
  },
  {
   "cell_type": "code",
   "execution_count": 91,
   "metadata": {},
   "outputs": [
    {
     "data": {
      "text/plain": [
       "1    165889\n",
       "0    165889\n",
       "Name: label, dtype: int64"
      ]
     },
     "execution_count": 91,
     "metadata": {},
     "output_type": "execute_result"
    }
   ],
   "source": [
    "y_train_tfidf_smote.value_counts()"
   ]
  },
  {
   "cell_type": "markdown",
   "metadata": {},
   "source": [
    "### --==doc2vec==--\n",
    "### doc2vec Vectorization - No Resampling"
   ]
  },
  {
   "cell_type": "code",
   "execution_count": 92,
   "metadata": {},
   "outputs": [],
   "source": [
    "#Tag the headline text\n",
    "headline_docs = [TaggedDocument(doc.split(' '), [i]) for i, doc in enumerate(train.clean)]"
   ]
  },
  {
   "cell_type": "code",
   "execution_count": 93,
   "metadata": {},
   "outputs": [
    {
     "data": {
      "text/plain": [
       "[TaggedDocument(words=['passenger', 'claiming', 'government', 'experimented', 'try', 'open', 'plane', 'door', 'mid', 'flight', 'witness'], tags=[0]),\n",
       " TaggedDocument(words=['mumbai', 'rat', 'ate', 'ketamine', 'say', 'sewri', 'police'], tags=[1]),\n",
       " TaggedDocument(words=['novelist', 'wrote', 'murder', 'husband', 'charged', 'murdering', 'husband'], tags=[2])]"
      ]
     },
     "execution_count": 93,
     "metadata": {},
     "output_type": "execute_result"
    }
   ],
   "source": [
    "headline_docs[:3]"
   ]
  },
  {
   "cell_type": "code",
   "execution_count": 94,
   "metadata": {},
   "outputs": [],
   "source": [
    "#instantiate model\n",
    "doc2vec_model = Doc2Vec(vector_size=64, window=2, min_count=1, workers=8, epochs=40)"
   ]
  },
  {
   "cell_type": "code",
   "execution_count": 95,
   "metadata": {},
   "outputs": [],
   "source": [
    "#build vocab\n",
    "doc2vec_model.build_vocab(headline_docs)"
   ]
  },
  {
   "cell_type": "code",
   "execution_count": 96,
   "metadata": {},
   "outputs": [],
   "source": [
    "# pass the cleaned text into the model to generate vectors for each document\n",
    "X_train_doc2vec_original = [doc2vec_model.infer_vector((train.clean[i].split(' '))) for i in train.clean.index]"
   ]
  },
  {
   "cell_type": "code",
   "execution_count": 97,
   "metadata": {},
   "outputs": [
    {
     "data": {
      "text/plain": [
       "array([-0.00103336,  0.00227679, -0.001187  ,  0.00713413,  0.00537081,\n",
       "       -0.0011144 ,  0.00742042,  0.00463284, -0.00490823,  0.0029966 ,\n",
       "        0.00090634, -0.00467451,  0.00773318,  0.00707931,  0.00159256,\n",
       "        0.00748524, -0.00587844,  0.00394597,  0.00419934,  0.00618122,\n",
       "       -0.00340885, -0.00317859, -0.00056137, -0.00582956, -0.00065371,\n",
       "        0.00757868,  0.00743215,  0.00683522, -0.00714844,  0.00113601,\n",
       "        0.00267251, -0.00721986,  0.00625074, -0.00065251, -0.00121361,\n",
       "       -0.00760927, -0.00303003,  0.00303397, -0.00395156,  0.00622036,\n",
       "        0.00060817,  0.00066674,  0.00270623,  0.00150767,  0.00529367,\n",
       "       -0.00530639,  0.0066759 ,  0.0027195 ,  0.00704535,  0.00539179,\n",
       "        0.00659184, -0.0032397 ,  0.0052194 ,  0.0076947 , -0.00127485,\n",
       "       -0.00251155,  0.000619  , -0.00753967, -0.00037371, -0.00239512,\n",
       "        0.0009052 ,  0.00089758, -0.00372419,  0.00668489], dtype=float32)"
      ]
     },
     "execution_count": 97,
     "metadata": {},
     "output_type": "execute_result"
    }
   ],
   "source": [
    "X_train_doc2vec_original[0]"
   ]
  },
  {
   "cell_type": "code",
   "execution_count": 98,
   "metadata": {},
   "outputs": [
    {
     "data": {
      "text/plain": [
       "(176884, (176884, 8))"
      ]
     },
     "execution_count": 98,
     "metadata": {},
     "output_type": "execute_result"
    }
   ],
   "source": [
    "# Confirm all observations were vectorized\n",
    "len(X_train_doc2vec_original), train.shape"
   ]
  },
  {
   "cell_type": "markdown",
   "metadata": {},
   "source": [
    "### doc2vec Vectorization - Random Undersampling"
   ]
  },
  {
   "cell_type": "code",
   "execution_count": 99,
   "metadata": {},
   "outputs": [],
   "source": [
    "#Tag the headline text\n",
    "headline_docs_undersampled = [TaggedDocument(doc.split(' '), [i]) for i, doc in enumerate(train_undersampled.clean)]"
   ]
  },
  {
   "cell_type": "code",
   "execution_count": 100,
   "metadata": {},
   "outputs": [
    {
     "data": {
      "text/plain": [
       "[TaggedDocument(words=['president', 'trump', 'cite', 'china', 'respect', 'large', 'brain'], tags=[0]),\n",
       " TaggedDocument(words=['proof', 'needed', 'lululemon', 'see', 'yoga', 'pant', 'refund'], tags=[1]),\n",
       " TaggedDocument(words=['17', 'year', 'old', 'girl', 'struck', 'lightning', 'masturbating'], tags=[2])]"
      ]
     },
     "execution_count": 100,
     "metadata": {},
     "output_type": "execute_result"
    }
   ],
   "source": [
    "headline_docs_undersampled[:3]"
   ]
  },
  {
   "cell_type": "code",
   "execution_count": 101,
   "metadata": {},
   "outputs": [],
   "source": [
    "#instantiate model\n",
    "doc2vec_model_undersampled = Doc2Vec(vector_size=64, window=2, min_count=1, workers=8, epochs=40)"
   ]
  },
  {
   "cell_type": "code",
   "execution_count": 102,
   "metadata": {},
   "outputs": [],
   "source": [
    "#build vocab\n",
    "doc2vec_model_undersampled.build_vocab(headline_docs_undersampled)"
   ]
  },
  {
   "cell_type": "code",
   "execution_count": 103,
   "metadata": {},
   "outputs": [],
   "source": [
    "# pass the cleaned text into the model to generate vectors for each document\n",
    "X_train_doc2vec_undersampled = [doc2vec_model_undersampled.infer_vector((train.clean[i].split(' '))) for i in train_undersampled.clean.index]"
   ]
  },
  {
   "cell_type": "code",
   "execution_count": 104,
   "metadata": {},
   "outputs": [
    {
     "data": {
      "text/plain": [
       "array([-0.00549923, -0.00353949, -0.00773278,  0.00467433,  0.00049466,\n",
       "       -0.00529536, -0.00336704, -0.00675539,  0.00219591, -0.00100822,\n",
       "       -0.00234537,  0.0060008 ,  0.00160288, -0.00321607, -0.00451153,\n",
       "        0.00313233,  0.00358062, -0.00420283,  0.00023164, -0.00491192,\n",
       "        0.00173997, -0.002545  ,  0.00465781, -0.00660363,  0.00277422,\n",
       "       -0.00476603,  0.00303362,  0.00602861,  0.00216112,  0.00741572,\n",
       "       -0.00158902, -0.00641708, -0.00275082, -0.00126511,  0.00178863,\n",
       "        0.00525426, -0.0048653 ,  0.00121415,  0.00408606,  0.00520969,\n",
       "       -0.0040598 ,  0.00141822, -0.00128083, -0.00020585,  0.00505756,\n",
       "       -0.0016013 ,  0.00189353, -0.00258478,  0.00015782, -0.00738885,\n",
       "       -0.00513327, -0.00327035, -0.00648422, -0.00069199,  0.0065493 ,\n",
       "       -0.00526044,  0.00473688, -0.00505982,  0.0010999 ,  0.00262027,\n",
       "       -0.00559721, -0.00563129, -0.00434823, -0.00378729], dtype=float32)"
      ]
     },
     "execution_count": 104,
     "metadata": {},
     "output_type": "execute_result"
    }
   ],
   "source": [
    "X_train_doc2vec_undersampled[0]"
   ]
  },
  {
   "cell_type": "code",
   "execution_count": 105,
   "metadata": {},
   "outputs": [
    {
     "data": {
      "text/plain": [
       "(21990, (21990, 8))"
      ]
     },
     "execution_count": 105,
     "metadata": {},
     "output_type": "execute_result"
    }
   ],
   "source": [
    "# Confirm all observations were vectorized\n",
    "len(X_train_doc2vec_undersampled), train_undersampled.shape"
   ]
  },
  {
   "cell_type": "markdown",
   "metadata": {},
   "source": [
    "### doc2vec Vectorization - Random Oversampling"
   ]
  },
  {
   "cell_type": "code",
   "execution_count": 106,
   "metadata": {},
   "outputs": [],
   "source": [
    "#Tag the headline text\n",
    "headline_docs_oversampled = [TaggedDocument(doc.split(' '), [i]) for i, doc in enumerate(train_oversampled.clean)]"
   ]
  },
  {
   "cell_type": "code",
   "execution_count": 107,
   "metadata": {},
   "outputs": [
    {
     "data": {
      "text/plain": [
       "[TaggedDocument(words=['passenger', 'claiming', 'government', 'experimented', 'try', 'open', 'plane', 'door', 'mid', 'flight', 'witness'], tags=[0]),\n",
       " TaggedDocument(words=['mumbai', 'rat', 'ate', 'ketamine', 'say', 'sewri', 'police'], tags=[1]),\n",
       " TaggedDocument(words=['novelist', 'wrote', 'murder', 'husband', 'charged', 'murdering', 'husband'], tags=[2])]"
      ]
     },
     "execution_count": 107,
     "metadata": {},
     "output_type": "execute_result"
    }
   ],
   "source": [
    "headline_docs_oversampled[:3]"
   ]
  },
  {
   "cell_type": "code",
   "execution_count": 108,
   "metadata": {},
   "outputs": [],
   "source": [
    "#instantiate model\n",
    "doc2vec_model_oversampled = Doc2Vec(vector_size=64, window=2, min_count=1, workers=8, epochs=40)"
   ]
  },
  {
   "cell_type": "code",
   "execution_count": 109,
   "metadata": {},
   "outputs": [],
   "source": [
    "#build vocab\n",
    "doc2vec_model_oversampled.build_vocab(headline_docs_oversampled)"
   ]
  },
  {
   "cell_type": "code",
   "execution_count": 110,
   "metadata": {},
   "outputs": [],
   "source": [
    "# pass the cleaned text into the model to generate vectors for each document\n",
    "X_train_doc2vec_oversampled = [doc2vec_model_oversampled.infer_vector((train.clean[i].split(' '))) for i in train_oversampled.clean.index]"
   ]
  },
  {
   "cell_type": "code",
   "execution_count": 111,
   "metadata": {},
   "outputs": [
    {
     "data": {
      "text/plain": [
       "array([-0.00103336,  0.00227679, -0.001187  ,  0.00713413,  0.00537081,\n",
       "       -0.0011144 ,  0.00742042,  0.00463284, -0.00490823,  0.0029966 ,\n",
       "        0.00090634, -0.00467451,  0.00773318,  0.00707931,  0.00159256,\n",
       "        0.00748524, -0.00587844,  0.00394597,  0.00419934,  0.00618122,\n",
       "       -0.00340885, -0.00317859, -0.00056137, -0.00582956, -0.00065371,\n",
       "        0.00757868,  0.00743215,  0.00683522, -0.00714844,  0.00113601,\n",
       "        0.00267251, -0.00721986,  0.00625074, -0.00065251, -0.00121361,\n",
       "       -0.00760927, -0.00303003,  0.00303397, -0.00395156,  0.00622036,\n",
       "        0.00060817,  0.00066674,  0.00270623,  0.00150767,  0.00529367,\n",
       "       -0.00530639,  0.0066759 ,  0.0027195 ,  0.00704535,  0.00539179,\n",
       "        0.00659184, -0.0032397 ,  0.0052194 ,  0.0076947 , -0.00127485,\n",
       "       -0.00251155,  0.000619  , -0.00753967, -0.00037371, -0.00239512,\n",
       "        0.0009052 ,  0.00089758, -0.00372419,  0.00668489], dtype=float32)"
      ]
     },
     "execution_count": 111,
     "metadata": {},
     "output_type": "execute_result"
    }
   ],
   "source": [
    "X_train_doc2vec_oversampled[0]"
   ]
  },
  {
   "cell_type": "code",
   "execution_count": 112,
   "metadata": {},
   "outputs": [
    {
     "data": {
      "text/plain": [
       "(331778, (331778, 8))"
      ]
     },
     "execution_count": 112,
     "metadata": {},
     "output_type": "execute_result"
    }
   ],
   "source": [
    "# Confirm all observations were vectorized\n",
    "len(X_train_doc2vec_oversampled), train_oversampled.shape"
   ]
  },
  {
   "cell_type": "markdown",
   "metadata": {},
   "source": [
    "### doc2vec - SMOTE"
   ]
  },
  {
   "cell_type": "code",
   "execution_count": 113,
   "metadata": {},
   "outputs": [],
   "source": [
    "#Tag the headline text\n",
    "headline_docs_smote = [TaggedDocument(doc.split(' '), [i]) for i, doc in enumerate(train.clean)]"
   ]
  },
  {
   "cell_type": "code",
   "execution_count": 114,
   "metadata": {},
   "outputs": [
    {
     "data": {
      "text/plain": [
       "[TaggedDocument(words=['passenger', 'claiming', 'government', 'experimented', 'try', 'open', 'plane', 'door', 'mid', 'flight', 'witness'], tags=[0]),\n",
       " TaggedDocument(words=['mumbai', 'rat', 'ate', 'ketamine', 'say', 'sewri', 'police'], tags=[1]),\n",
       " TaggedDocument(words=['novelist', 'wrote', 'murder', 'husband', 'charged', 'murdering', 'husband'], tags=[2])]"
      ]
     },
     "execution_count": 114,
     "metadata": {},
     "output_type": "execute_result"
    }
   ],
   "source": [
    "headline_docs[:3]"
   ]
  },
  {
   "cell_type": "code",
   "execution_count": 115,
   "metadata": {},
   "outputs": [],
   "source": [
    "#instantiate model\n",
    "doc2vec_model_smote = Doc2Vec(vector_size=64, window=2, min_count=1, workers=8, epochs=40)"
   ]
  },
  {
   "cell_type": "code",
   "execution_count": 116,
   "metadata": {},
   "outputs": [],
   "source": [
    "#build vocab\n",
    "doc2vec_model_smote.build_vocab(headline_docs_smote)"
   ]
  },
  {
   "cell_type": "code",
   "execution_count": 117,
   "metadata": {},
   "outputs": [],
   "source": [
    "# pass the cleaned text into the model to generate vectors for each document\n",
    "X_train_doc2vec_smote = [doc2vec_model_smote.infer_vector((train.clean[i].split(' '))) for i in train.clean.index]"
   ]
  },
  {
   "cell_type": "code",
   "execution_count": 118,
   "metadata": {},
   "outputs": [
    {
     "data": {
      "text/plain": [
       "array([-0.00103336,  0.00227679, -0.001187  ,  0.00713413,  0.00537081,\n",
       "       -0.0011144 ,  0.00742042,  0.00463284, -0.00490823,  0.0029966 ,\n",
       "        0.00090634, -0.00467451,  0.00773318,  0.00707931,  0.00159256,\n",
       "        0.00748524, -0.00587844,  0.00394597,  0.00419934,  0.00618122,\n",
       "       -0.00340885, -0.00317859, -0.00056137, -0.00582956, -0.00065371,\n",
       "        0.00757868,  0.00743215,  0.00683522, -0.00714844,  0.00113601,\n",
       "        0.00267251, -0.00721986,  0.00625074, -0.00065251, -0.00121361,\n",
       "       -0.00760927, -0.00303003,  0.00303397, -0.00395156,  0.00622036,\n",
       "        0.00060817,  0.00066674,  0.00270623,  0.00150767,  0.00529367,\n",
       "       -0.00530639,  0.0066759 ,  0.0027195 ,  0.00704535,  0.00539179,\n",
       "        0.00659184, -0.0032397 ,  0.0052194 ,  0.0076947 , -0.00127485,\n",
       "       -0.00251155,  0.000619  , -0.00753967, -0.00037371, -0.00239512,\n",
       "        0.0009052 ,  0.00089758, -0.00372419,  0.00668489], dtype=float32)"
      ]
     },
     "execution_count": 118,
     "metadata": {},
     "output_type": "execute_result"
    }
   ],
   "source": [
    "X_train_doc2vec_smote[0]"
   ]
  },
  {
   "cell_type": "code",
   "execution_count": 119,
   "metadata": {},
   "outputs": [
    {
     "data": {
      "text/plain": [
       "(176884, (176884, 8))"
      ]
     },
     "execution_count": 119,
     "metadata": {},
     "output_type": "execute_result"
    }
   ],
   "source": [
    "# Confirm all observations were vectorized\n",
    "len(X_train_doc2vec_smote), train.shape"
   ]
  },
  {
   "cell_type": "code",
   "execution_count": 120,
   "metadata": {},
   "outputs": [],
   "source": [
    "# Pass these arrays into the sm.fit_sample method to generate the oversampled arrays\n",
    "X_train_doc2vec_smote, y_train_doc2vec_smote = sm.fit_sample(X_train_doc2vec_smote, y_train_original)"
   ]
  },
  {
   "cell_type": "code",
   "execution_count": 122,
   "metadata": {},
   "outputs": [
    {
     "data": {
      "text/plain": [
       "(331778, (331778,))"
      ]
     },
     "execution_count": 122,
     "metadata": {},
     "output_type": "execute_result"
    }
   ],
   "source": [
    "len(X_train_doc2vec_smote), y_train_doc2vec_smote.shape"
   ]
  },
  {
   "cell_type": "code",
   "execution_count": 123,
   "metadata": {
    "scrolled": true
   },
   "outputs": [
    {
     "data": {
      "text/plain": [
       "1    165889\n",
       "0    165889\n",
       "Name: label, dtype: int64"
      ]
     },
     "execution_count": 123,
     "metadata": {},
     "output_type": "execute_result"
    }
   ],
   "source": [
    "y_train_doc2vec_smote.value_counts()"
   ]
  },
  {
   "cell_type": "markdown",
   "metadata": {},
   "source": [
    "#### Note: Investigate Whether doc2vec X_train array is being properly treated as an array of 30 features in logisitic regression or if it is being treated as a single feature in logistic regression (which would explain poor performance)."
   ]
  },
  {
   "cell_type": "markdown",
   "metadata": {},
   "source": [
    "## Algorithm Selection\n",
    "\n",
    "Now that we have multiple sets of train data based on our resampling methods, and multiple set of vectorized train data, we can develop models based on any number of classification algorithms. In this case, we will work with Logistic Regression."
   ]
  },
  {
   "cell_type": "markdown",
   "metadata": {},
   "source": [
    "### Logistic Regression with Bag of Words Vectorization (No Resampling)\n",
    "\n",
    "Logistic Regression will give each observation a probability of being from r/TheOnion or r/NotTheOnion. The highest probability will determine the predicted label."
   ]
  },
  {
   "cell_type": "code",
   "execution_count": 125,
   "metadata": {},
   "outputs": [],
   "source": [
    "logit_bow_original = LogisticRegression().fit(X_train_bow_original, y_train_original)"
   ]
  },
  {
   "cell_type": "code",
   "execution_count": 126,
   "metadata": {},
   "outputs": [
    {
     "data": {
      "text/html": [
       "<div>\n",
       "<style scoped>\n",
       "    .dataframe tbody tr th:only-of-type {\n",
       "        vertical-align: middle;\n",
       "    }\n",
       "\n",
       "    .dataframe tbody tr th {\n",
       "        vertical-align: top;\n",
       "    }\n",
       "\n",
       "    .dataframe thead th {\n",
       "        text-align: right;\n",
       "    }\n",
       "</style>\n",
       "<table border=\"1\" class=\"dataframe\">\n",
       "  <thead>\n",
       "    <tr style=\"text-align: right;\">\n",
       "      <th></th>\n",
       "      <th>actual</th>\n",
       "      <th>baseline</th>\n",
       "      <th>logit_bow</th>\n",
       "    </tr>\n",
       "  </thead>\n",
       "  <tbody>\n",
       "    <tr>\n",
       "      <th>155599</th>\n",
       "      <td>0</td>\n",
       "      <td>0</td>\n",
       "      <td>0</td>\n",
       "    </tr>\n",
       "    <tr>\n",
       "      <th>123843</th>\n",
       "      <td>0</td>\n",
       "      <td>0</td>\n",
       "      <td>0</td>\n",
       "    </tr>\n",
       "    <tr>\n",
       "      <th>136828</th>\n",
       "      <td>0</td>\n",
       "      <td>0</td>\n",
       "      <td>0</td>\n",
       "    </tr>\n",
       "    <tr>\n",
       "      <th>203791</th>\n",
       "      <td>0</td>\n",
       "      <td>0</td>\n",
       "      <td>0</td>\n",
       "    </tr>\n",
       "    <tr>\n",
       "      <th>38167</th>\n",
       "      <td>0</td>\n",
       "      <td>0</td>\n",
       "      <td>0</td>\n",
       "    </tr>\n",
       "    <tr>\n",
       "      <th>...</th>\n",
       "      <td>...</td>\n",
       "      <td>...</td>\n",
       "      <td>...</td>\n",
       "    </tr>\n",
       "    <tr>\n",
       "      <th>56602</th>\n",
       "      <td>0</td>\n",
       "      <td>0</td>\n",
       "      <td>0</td>\n",
       "    </tr>\n",
       "    <tr>\n",
       "      <th>145965</th>\n",
       "      <td>0</td>\n",
       "      <td>0</td>\n",
       "      <td>0</td>\n",
       "    </tr>\n",
       "    <tr>\n",
       "      <th>107537</th>\n",
       "      <td>0</td>\n",
       "      <td>0</td>\n",
       "      <td>0</td>\n",
       "    </tr>\n",
       "    <tr>\n",
       "      <th>159344</th>\n",
       "      <td>0</td>\n",
       "      <td>0</td>\n",
       "      <td>0</td>\n",
       "    </tr>\n",
       "    <tr>\n",
       "      <th>255267</th>\n",
       "      <td>0</td>\n",
       "      <td>0</td>\n",
       "      <td>0</td>\n",
       "    </tr>\n",
       "  </tbody>\n",
       "</table>\n",
       "<p>176884 rows × 3 columns</p>\n",
       "</div>"
      ],
      "text/plain": [
       "        actual  baseline  logit_bow\n",
       "155599       0         0          0\n",
       "123843       0         0          0\n",
       "136828       0         0          0\n",
       "203791       0         0          0\n",
       "38167        0         0          0\n",
       "...        ...       ...        ...\n",
       "56602        0         0          0\n",
       "145965       0         0          0\n",
       "107537       0         0          0\n",
       "159344       0         0          0\n",
       "255267       0         0          0\n",
       "\n",
       "[176884 rows x 3 columns]"
      ]
     },
     "execution_count": 126,
     "metadata": {},
     "output_type": "execute_result"
    }
   ],
   "source": [
    "train_results_original['logit_bow'] = logit_bow_original.predict(X_train_bow_original)\n",
    "train_results_original"
   ]
  },
  {
   "cell_type": "code",
   "execution_count": 127,
   "metadata": {},
   "outputs": [],
   "source": [
    "logit_bow_accuracy_original = round(accuracy_score(train_results_original.actual, train_results_original.logit_bow))\n",
    "logit_bow_f1_score_original = round(f1_score(train_results_original.actual, train_results_original.logit_bow))"
   ]
  },
  {
   "cell_type": "code",
   "execution_count": 128,
   "metadata": {},
   "outputs": [
    {
     "name": "stdout",
     "output_type": "stream",
     "text": [
      "Logistic Regression - Bag of Words (No Resampling) Model Confusion Matrix\n"
     ]
    },
    {
     "data": {
      "text/html": [
       "<div>\n",
       "<style scoped>\n",
       "    .dataframe tbody tr th:only-of-type {\n",
       "        vertical-align: middle;\n",
       "    }\n",
       "\n",
       "    .dataframe tbody tr th {\n",
       "        vertical-align: top;\n",
       "    }\n",
       "\n",
       "    .dataframe thead th {\n",
       "        text-align: right;\n",
       "    }\n",
       "</style>\n",
       "<table border=\"1\" class=\"dataframe\">\n",
       "  <thead>\n",
       "    <tr style=\"text-align: right;\">\n",
       "      <th>actual</th>\n",
       "      <th>0</th>\n",
       "      <th>1</th>\n",
       "    </tr>\n",
       "    <tr>\n",
       "      <th>logit_bow</th>\n",
       "      <th></th>\n",
       "      <th></th>\n",
       "    </tr>\n",
       "  </thead>\n",
       "  <tbody>\n",
       "    <tr>\n",
       "      <th>0</th>\n",
       "      <td>165382</td>\n",
       "      <td>5580</td>\n",
       "    </tr>\n",
       "    <tr>\n",
       "      <th>1</th>\n",
       "      <td>507</td>\n",
       "      <td>5415</td>\n",
       "    </tr>\n",
       "  </tbody>\n",
       "</table>\n",
       "</div>"
      ],
      "text/plain": [
       "actual          0     1\n",
       "logit_bow              \n",
       "0          165382  5580\n",
       "1             507  5415"
      ]
     },
     "execution_count": 128,
     "metadata": {},
     "output_type": "execute_result"
    }
   ],
   "source": [
    "print('Logistic Regression - Bag of Words (No Resampling) Model Confusion Matrix')\n",
    "pd.crosstab(train_results_original.logit_bow, train_results_original.actual)"
   ]
  },
  {
   "cell_type": "code",
   "execution_count": 129,
   "metadata": {},
   "outputs": [
    {
     "name": "stdout",
     "output_type": "stream",
     "text": [
      "Logistic Regression - Bag of Words (No Resampling) Model\n",
      "Accuracy: 1\n",
      "f1_score: 1\n",
      "---\n",
      "              precision    recall  f1-score   support\n",
      "\n",
      "           0       0.97      1.00      0.98    165889\n",
      "           1       0.91      0.49      0.64     10995\n",
      "\n",
      "    accuracy                           0.97    176884\n",
      "   macro avg       0.94      0.74      0.81    176884\n",
      "weighted avg       0.96      0.97      0.96    176884\n",
      "\n"
     ]
    }
   ],
   "source": [
    "print('Logistic Regression - Bag of Words (No Resampling) Model')\n",
    "print(f'Accuracy: {logit_bow_accuracy_original}')\n",
    "print(f'f1_score: {logit_bow_f1_score_original}')\n",
    "print('---')\n",
    "print(classification_report(train_results_original.actual, train_results_original.logit_bow))"
   ]
  },
  {
   "cell_type": "markdown",
   "metadata": {},
   "source": [
    "#### Takeaways: Logistic Regression - Bag of Words (No Resampling) Train Performance\n",
    "- Compared to baseline, our model was able to increase overall accuracy by 3%\n",
    "- More importantly, we were able to increase our recall of the minority class from 0 to 49%, leading to a subsequent increase in f1 score to 64%\n",
    "- This model is able to accurately predict Onion headlines about half of the time, and it only misrepresents a Not-onion headline 0.3% of the time. "
   ]
  },
  {
   "cell_type": "markdown",
   "metadata": {},
   "source": [
    "### Logistic Regression with Bag of Words (Random Undersampling)"
   ]
  },
  {
   "cell_type": "code",
   "execution_count": 130,
   "metadata": {},
   "outputs": [],
   "source": [
    "logit_bow_undersampled = LogisticRegression().fit(X_train_bow_undersampled, y_train_undersampled)"
   ]
  },
  {
   "cell_type": "code",
   "execution_count": 131,
   "metadata": {},
   "outputs": [
    {
     "data": {
      "text/html": [
       "<div>\n",
       "<style scoped>\n",
       "    .dataframe tbody tr th:only-of-type {\n",
       "        vertical-align: middle;\n",
       "    }\n",
       "\n",
       "    .dataframe tbody tr th {\n",
       "        vertical-align: top;\n",
       "    }\n",
       "\n",
       "    .dataframe thead th {\n",
       "        text-align: right;\n",
       "    }\n",
       "</style>\n",
       "<table border=\"1\" class=\"dataframe\">\n",
       "  <thead>\n",
       "    <tr style=\"text-align: right;\">\n",
       "      <th></th>\n",
       "      <th>actual</th>\n",
       "      <th>logit_bow</th>\n",
       "    </tr>\n",
       "  </thead>\n",
       "  <tbody>\n",
       "    <tr>\n",
       "      <th>254363</th>\n",
       "      <td>0</td>\n",
       "      <td>0</td>\n",
       "    </tr>\n",
       "    <tr>\n",
       "      <th>224243</th>\n",
       "      <td>0</td>\n",
       "      <td>0</td>\n",
       "    </tr>\n",
       "    <tr>\n",
       "      <th>138197</th>\n",
       "      <td>0</td>\n",
       "      <td>0</td>\n",
       "    </tr>\n",
       "    <tr>\n",
       "      <th>173522</th>\n",
       "      <td>0</td>\n",
       "      <td>0</td>\n",
       "    </tr>\n",
       "    <tr>\n",
       "      <th>63963</th>\n",
       "      <td>0</td>\n",
       "      <td>0</td>\n",
       "    </tr>\n",
       "    <tr>\n",
       "      <th>...</th>\n",
       "      <td>...</td>\n",
       "      <td>...</td>\n",
       "    </tr>\n",
       "    <tr>\n",
       "      <th>16089</th>\n",
       "      <td>1</td>\n",
       "      <td>1</td>\n",
       "    </tr>\n",
       "    <tr>\n",
       "      <th>9580</th>\n",
       "      <td>1</td>\n",
       "      <td>1</td>\n",
       "    </tr>\n",
       "    <tr>\n",
       "      <th>2267</th>\n",
       "      <td>1</td>\n",
       "      <td>1</td>\n",
       "    </tr>\n",
       "    <tr>\n",
       "      <th>1134</th>\n",
       "      <td>1</td>\n",
       "      <td>1</td>\n",
       "    </tr>\n",
       "    <tr>\n",
       "      <th>10976</th>\n",
       "      <td>1</td>\n",
       "      <td>1</td>\n",
       "    </tr>\n",
       "  </tbody>\n",
       "</table>\n",
       "<p>21990 rows × 2 columns</p>\n",
       "</div>"
      ],
      "text/plain": [
       "        actual  logit_bow\n",
       "254363       0          0\n",
       "224243       0          0\n",
       "138197       0          0\n",
       "173522       0          0\n",
       "63963        0          0\n",
       "...        ...        ...\n",
       "16089        1          1\n",
       "9580         1          1\n",
       "2267         1          1\n",
       "1134         1          1\n",
       "10976        1          1\n",
       "\n",
       "[21990 rows x 2 columns]"
      ]
     },
     "execution_count": 131,
     "metadata": {},
     "output_type": "execute_result"
    }
   ],
   "source": [
    "train_results_undersampled['logit_bow'] = logit_bow_undersampled.predict(X_train_bow_undersampled)\n",
    "train_results_undersampled"
   ]
  },
  {
   "cell_type": "code",
   "execution_count": 132,
   "metadata": {},
   "outputs": [],
   "source": [
    "logit_bow_accuracy_undersampled = round(accuracy_score(train_results_undersampled.actual, train_results_undersampled.logit_bow), 3)\n",
    "logit_bow_f1_score_undersampled = round(f1_score(train_results_undersampled.actual, train_results_undersampled.logit_bow), 3)"
   ]
  },
  {
   "cell_type": "code",
   "execution_count": 133,
   "metadata": {},
   "outputs": [
    {
     "name": "stdout",
     "output_type": "stream",
     "text": [
      "Logistic Regression - Bag of Words (Random Undersampling) Model Confusion Matrix\n"
     ]
    },
    {
     "data": {
      "text/html": [
       "<div>\n",
       "<style scoped>\n",
       "    .dataframe tbody tr th:only-of-type {\n",
       "        vertical-align: middle;\n",
       "    }\n",
       "\n",
       "    .dataframe tbody tr th {\n",
       "        vertical-align: top;\n",
       "    }\n",
       "\n",
       "    .dataframe thead th {\n",
       "        text-align: right;\n",
       "    }\n",
       "</style>\n",
       "<table border=\"1\" class=\"dataframe\">\n",
       "  <thead>\n",
       "    <tr style=\"text-align: right;\">\n",
       "      <th>actual</th>\n",
       "      <th>0</th>\n",
       "      <th>1</th>\n",
       "    </tr>\n",
       "    <tr>\n",
       "      <th>logit_bow</th>\n",
       "      <th></th>\n",
       "      <th></th>\n",
       "    </tr>\n",
       "  </thead>\n",
       "  <tbody>\n",
       "    <tr>\n",
       "      <th>0</th>\n",
       "      <td>10369</td>\n",
       "      <td>702</td>\n",
       "    </tr>\n",
       "    <tr>\n",
       "      <th>1</th>\n",
       "      <td>626</td>\n",
       "      <td>10293</td>\n",
       "    </tr>\n",
       "  </tbody>\n",
       "</table>\n",
       "</div>"
      ],
      "text/plain": [
       "actual         0      1\n",
       "logit_bow              \n",
       "0          10369    702\n",
       "1            626  10293"
      ]
     },
     "execution_count": 133,
     "metadata": {},
     "output_type": "execute_result"
    }
   ],
   "source": [
    "print('Logistic Regression - Bag of Words (Random Undersampling) Model Confusion Matrix')\n",
    "pd.crosstab(train_results_undersampled.logit_bow, train_results_undersampled.actual)"
   ]
  },
  {
   "cell_type": "code",
   "execution_count": 134,
   "metadata": {
    "scrolled": true
   },
   "outputs": [
    {
     "name": "stdout",
     "output_type": "stream",
     "text": [
      "Logistic Regression - Bag of Words (Random Undersampling) Model\n",
      "Accuracy: 0.94\n",
      "f1_score: 0.939\n",
      "---\n",
      "              precision    recall  f1-score   support\n",
      "\n",
      "           0       0.94      0.94      0.94     10995\n",
      "           1       0.94      0.94      0.94     10995\n",
      "\n",
      "    accuracy                           0.94     21990\n",
      "   macro avg       0.94      0.94      0.94     21990\n",
      "weighted avg       0.94      0.94      0.94     21990\n",
      "\n"
     ]
    }
   ],
   "source": [
    "print('Logistic Regression - Bag of Words (Random Undersampling) Model')\n",
    "print(f'Accuracy: {logit_bow_accuracy_undersampled}')\n",
    "print(f'f1_score: {logit_bow_f1_score_undersampled}')\n",
    "print('---')\n",
    "print(classification_report(train_results_undersampled.actual, train_results_undersampled.logit_bow))"
   ]
  },
  {
   "cell_type": "markdown",
   "metadata": {},
   "source": [
    "#### Takeways:\n",
    "- Although our accuracy has dropped, our recall and f1_score for Onion predictions have improved substantially. \n",
    "- Nevertheless, we lost almost 30,000 unique words when we reduced our data, and this may have real consequences when we validate this model against unseen data"
   ]
  },
  {
   "cell_type": "markdown",
   "metadata": {},
   "source": [
    "### Logistic Regression with Bag of Words Vectorization (Random Oversampling)"
   ]
  },
  {
   "cell_type": "code",
   "execution_count": 135,
   "metadata": {},
   "outputs": [],
   "source": [
    "logit_bow_oversampled = LogisticRegression().fit(X_train_bow_oversampled, y_train_oversampled)"
   ]
  },
  {
   "cell_type": "code",
   "execution_count": 136,
   "metadata": {},
   "outputs": [
    {
     "data": {
      "text/html": [
       "<div>\n",
       "<style scoped>\n",
       "    .dataframe tbody tr th:only-of-type {\n",
       "        vertical-align: middle;\n",
       "    }\n",
       "\n",
       "    .dataframe tbody tr th {\n",
       "        vertical-align: top;\n",
       "    }\n",
       "\n",
       "    .dataframe thead th {\n",
       "        text-align: right;\n",
       "    }\n",
       "</style>\n",
       "<table border=\"1\" class=\"dataframe\">\n",
       "  <thead>\n",
       "    <tr style=\"text-align: right;\">\n",
       "      <th></th>\n",
       "      <th>actual</th>\n",
       "      <th>logit_bow</th>\n",
       "    </tr>\n",
       "  </thead>\n",
       "  <tbody>\n",
       "    <tr>\n",
       "      <th>155599</th>\n",
       "      <td>0</td>\n",
       "      <td>0</td>\n",
       "    </tr>\n",
       "    <tr>\n",
       "      <th>123843</th>\n",
       "      <td>0</td>\n",
       "      <td>0</td>\n",
       "    </tr>\n",
       "    <tr>\n",
       "      <th>136828</th>\n",
       "      <td>0</td>\n",
       "      <td>0</td>\n",
       "    </tr>\n",
       "    <tr>\n",
       "      <th>203791</th>\n",
       "      <td>0</td>\n",
       "      <td>0</td>\n",
       "    </tr>\n",
       "    <tr>\n",
       "      <th>38167</th>\n",
       "      <td>0</td>\n",
       "      <td>0</td>\n",
       "    </tr>\n",
       "    <tr>\n",
       "      <th>...</th>\n",
       "      <td>...</td>\n",
       "      <td>...</td>\n",
       "    </tr>\n",
       "    <tr>\n",
       "      <th>1311</th>\n",
       "      <td>1</td>\n",
       "      <td>1</td>\n",
       "    </tr>\n",
       "    <tr>\n",
       "      <th>8625</th>\n",
       "      <td>1</td>\n",
       "      <td>1</td>\n",
       "    </tr>\n",
       "    <tr>\n",
       "      <th>7051</th>\n",
       "      <td>1</td>\n",
       "      <td>1</td>\n",
       "    </tr>\n",
       "    <tr>\n",
       "      <th>5342</th>\n",
       "      <td>1</td>\n",
       "      <td>1</td>\n",
       "    </tr>\n",
       "    <tr>\n",
       "      <th>12799</th>\n",
       "      <td>1</td>\n",
       "      <td>1</td>\n",
       "    </tr>\n",
       "  </tbody>\n",
       "</table>\n",
       "<p>331778 rows × 2 columns</p>\n",
       "</div>"
      ],
      "text/plain": [
       "        actual  logit_bow\n",
       "155599       0          0\n",
       "123843       0          0\n",
       "136828       0          0\n",
       "203791       0          0\n",
       "38167        0          0\n",
       "...        ...        ...\n",
       "1311         1          1\n",
       "8625         1          1\n",
       "7051         1          1\n",
       "5342         1          1\n",
       "12799        1          1\n",
       "\n",
       "[331778 rows x 2 columns]"
      ]
     },
     "execution_count": 136,
     "metadata": {},
     "output_type": "execute_result"
    }
   ],
   "source": [
    "train_results_oversampled['logit_bow'] = logit_bow_oversampled.predict(X_train_bow_oversampled)\n",
    "train_results_oversampled"
   ]
  },
  {
   "cell_type": "code",
   "execution_count": 137,
   "metadata": {},
   "outputs": [],
   "source": [
    "logit_bow_accuracy_oversampled = round(accuracy_score(train_results_oversampled.actual, train_results_oversampled.logit_bow), 3)\n",
    "logit_bow_f1_score_oversampled = round(f1_score(train_results_oversampled.actual, train_results_oversampled.logit_bow), 3)"
   ]
  },
  {
   "cell_type": "code",
   "execution_count": 138,
   "metadata": {},
   "outputs": [
    {
     "name": "stdout",
     "output_type": "stream",
     "text": [
      "Logistic Regression - Bag of Words (Random Oversampling) Model Confusion Matrix\n"
     ]
    },
    {
     "data": {
      "text/html": [
       "<div>\n",
       "<style scoped>\n",
       "    .dataframe tbody tr th:only-of-type {\n",
       "        vertical-align: middle;\n",
       "    }\n",
       "\n",
       "    .dataframe tbody tr th {\n",
       "        vertical-align: top;\n",
       "    }\n",
       "\n",
       "    .dataframe thead th {\n",
       "        text-align: right;\n",
       "    }\n",
       "</style>\n",
       "<table border=\"1\" class=\"dataframe\">\n",
       "  <thead>\n",
       "    <tr style=\"text-align: right;\">\n",
       "      <th>actual</th>\n",
       "      <th>0</th>\n",
       "      <th>1</th>\n",
       "    </tr>\n",
       "    <tr>\n",
       "      <th>logit_bow</th>\n",
       "      <th></th>\n",
       "      <th></th>\n",
       "    </tr>\n",
       "  </thead>\n",
       "  <tbody>\n",
       "    <tr>\n",
       "      <th>0</th>\n",
       "      <td>154616</td>\n",
       "      <td>5241</td>\n",
       "    </tr>\n",
       "    <tr>\n",
       "      <th>1</th>\n",
       "      <td>11273</td>\n",
       "      <td>160648</td>\n",
       "    </tr>\n",
       "  </tbody>\n",
       "</table>\n",
       "</div>"
      ],
      "text/plain": [
       "actual          0       1\n",
       "logit_bow                \n",
       "0          154616    5241\n",
       "1           11273  160648"
      ]
     },
     "execution_count": 138,
     "metadata": {},
     "output_type": "execute_result"
    }
   ],
   "source": [
    "print('Logistic Regression - Bag of Words (Random Oversampling) Model Confusion Matrix')\n",
    "pd.crosstab(train_results_oversampled.logit_bow, train_results_oversampled.actual)"
   ]
  },
  {
   "cell_type": "code",
   "execution_count": 139,
   "metadata": {},
   "outputs": [
    {
     "name": "stdout",
     "output_type": "stream",
     "text": [
      "Logistic Regression - Bag of Words (Random Oversampling) Model\n",
      "Accuracy: 0.95\n",
      "f1_score: 0.951\n",
      "---\n",
      "              precision    recall  f1-score   support\n",
      "\n",
      "           0       0.97      0.93      0.95    165889\n",
      "           1       0.93      0.97      0.95    165889\n",
      "\n",
      "    accuracy                           0.95    331778\n",
      "   macro avg       0.95      0.95      0.95    331778\n",
      "weighted avg       0.95      0.95      0.95    331778\n",
      "\n"
     ]
    }
   ],
   "source": [
    "print('Logistic Regression - Bag of Words (Random Oversampling) Model')\n",
    "print(f'Accuracy: {logit_bow_accuracy_oversampled}')\n",
    "print(f'f1_score: {logit_bow_f1_score_oversampled}')\n",
    "print('---')\n",
    "print(classification_report(train_results_oversampled.actual, train_results_oversampled.logit_bow))"
   ]
  },
  {
   "cell_type": "markdown",
   "metadata": {},
   "source": [
    "#### Takeaways:\n",
    "- Oversampling resulted in a marginal increase in both accuracy and f1 score compared to undersampling. \n",
    "- Recall on Onion headlines improved at the expense of Not-Onion headlines when compared to undersampling.\n",
    "- There is far less information loss compared to undersampling with comparable performance on train. \n",
    "- Validation step is still very important, as this may be overfit due to the magnification of the specific unique words used in the Onion headlines in this training data. "
   ]
  },
  {
   "cell_type": "markdown",
   "metadata": {},
   "source": [
    "### Logistic Regression with Bag of Words Vectorization (SMOTE)"
   ]
  },
  {
   "cell_type": "code",
   "execution_count": 124,
   "metadata": {},
   "outputs": [],
   "source": [
    "logit_bow_smote = LogisticRegression().fit(X_train_bow_smote, y_train_bow_smote)"
   ]
  },
  {
   "cell_type": "code",
   "execution_count": 141,
   "metadata": {},
   "outputs": [
    {
     "data": {
      "text/plain": [
       "True"
      ]
     },
     "execution_count": 141,
     "metadata": {},
     "output_type": "execute_result"
    }
   ],
   "source": [
    "all(y_train_bow_smote == y_train_tfidf_smote)"
   ]
  },
  {
   "cell_type": "code",
   "execution_count": 142,
   "metadata": {},
   "outputs": [],
   "source": [
    "train_results_smote = pd.DataFrame(dict(actual=y_train_bow_smote))"
   ]
  },
  {
   "cell_type": "code",
   "execution_count": 144,
   "metadata": {},
   "outputs": [
    {
     "data": {
      "text/html": [
       "<div>\n",
       "<style scoped>\n",
       "    .dataframe tbody tr th:only-of-type {\n",
       "        vertical-align: middle;\n",
       "    }\n",
       "\n",
       "    .dataframe tbody tr th {\n",
       "        vertical-align: top;\n",
       "    }\n",
       "\n",
       "    .dataframe thead th {\n",
       "        text-align: right;\n",
       "    }\n",
       "</style>\n",
       "<table border=\"1\" class=\"dataframe\">\n",
       "  <thead>\n",
       "    <tr style=\"text-align: right;\">\n",
       "      <th></th>\n",
       "      <th>actual</th>\n",
       "      <th>logit_bow_smote</th>\n",
       "    </tr>\n",
       "  </thead>\n",
       "  <tbody>\n",
       "    <tr>\n",
       "      <th>0</th>\n",
       "      <td>0</td>\n",
       "      <td>0</td>\n",
       "    </tr>\n",
       "    <tr>\n",
       "      <th>1</th>\n",
       "      <td>0</td>\n",
       "      <td>0</td>\n",
       "    </tr>\n",
       "    <tr>\n",
       "      <th>2</th>\n",
       "      <td>0</td>\n",
       "      <td>0</td>\n",
       "    </tr>\n",
       "    <tr>\n",
       "      <th>3</th>\n",
       "      <td>0</td>\n",
       "      <td>0</td>\n",
       "    </tr>\n",
       "    <tr>\n",
       "      <th>4</th>\n",
       "      <td>0</td>\n",
       "      <td>0</td>\n",
       "    </tr>\n",
       "    <tr>\n",
       "      <th>...</th>\n",
       "      <td>...</td>\n",
       "      <td>...</td>\n",
       "    </tr>\n",
       "    <tr>\n",
       "      <th>331773</th>\n",
       "      <td>1</td>\n",
       "      <td>1</td>\n",
       "    </tr>\n",
       "    <tr>\n",
       "      <th>331774</th>\n",
       "      <td>1</td>\n",
       "      <td>1</td>\n",
       "    </tr>\n",
       "    <tr>\n",
       "      <th>331775</th>\n",
       "      <td>1</td>\n",
       "      <td>1</td>\n",
       "    </tr>\n",
       "    <tr>\n",
       "      <th>331776</th>\n",
       "      <td>1</td>\n",
       "      <td>1</td>\n",
       "    </tr>\n",
       "    <tr>\n",
       "      <th>331777</th>\n",
       "      <td>1</td>\n",
       "      <td>1</td>\n",
       "    </tr>\n",
       "  </tbody>\n",
       "</table>\n",
       "<p>331778 rows × 2 columns</p>\n",
       "</div>"
      ],
      "text/plain": [
       "        actual  logit_bow_smote\n",
       "0            0                0\n",
       "1            0                0\n",
       "2            0                0\n",
       "3            0                0\n",
       "4            0                0\n",
       "...        ...              ...\n",
       "331773       1                1\n",
       "331774       1                1\n",
       "331775       1                1\n",
       "331776       1                1\n",
       "331777       1                1\n",
       "\n",
       "[331778 rows x 2 columns]"
      ]
     },
     "execution_count": 144,
     "metadata": {},
     "output_type": "execute_result"
    }
   ],
   "source": [
    "train_results_smote['logit_bow_smote'] = logit_bow_smote.predict(X_train_bow_smote)\n",
    "train_results_smote"
   ]
  },
  {
   "cell_type": "code",
   "execution_count": 145,
   "metadata": {},
   "outputs": [],
   "source": [
    "logit_bow_accuracy_smote = round(accuracy_score(train_results_smote.actual, train_results_smote.logit_bow_smote), 3)\n",
    "logit_bow_f1_score_smote = round(f1_score(train_results_smote.actual, train_results_smote.logit_bow_smote), 3)"
   ]
  },
  {
   "cell_type": "code",
   "execution_count": 146,
   "metadata": {},
   "outputs": [
    {
     "name": "stdout",
     "output_type": "stream",
     "text": [
      "Logistic Regression - Bag of Words (SMOTE) Model Confusion Matrix\n"
     ]
    },
    {
     "data": {
      "text/html": [
       "<div>\n",
       "<style scoped>\n",
       "    .dataframe tbody tr th:only-of-type {\n",
       "        vertical-align: middle;\n",
       "    }\n",
       "\n",
       "    .dataframe tbody tr th {\n",
       "        vertical-align: top;\n",
       "    }\n",
       "\n",
       "    .dataframe thead th {\n",
       "        text-align: right;\n",
       "    }\n",
       "</style>\n",
       "<table border=\"1\" class=\"dataframe\">\n",
       "  <thead>\n",
       "    <tr style=\"text-align: right;\">\n",
       "      <th>actual</th>\n",
       "      <th>0</th>\n",
       "      <th>1</th>\n",
       "    </tr>\n",
       "    <tr>\n",
       "      <th>logit_bow_smote</th>\n",
       "      <th></th>\n",
       "      <th></th>\n",
       "    </tr>\n",
       "  </thead>\n",
       "  <tbody>\n",
       "    <tr>\n",
       "      <th>0</th>\n",
       "      <td>159768</td>\n",
       "      <td>5030</td>\n",
       "    </tr>\n",
       "    <tr>\n",
       "      <th>1</th>\n",
       "      <td>6121</td>\n",
       "      <td>160859</td>\n",
       "    </tr>\n",
       "  </tbody>\n",
       "</table>\n",
       "</div>"
      ],
      "text/plain": [
       "actual                0       1\n",
       "logit_bow_smote                \n",
       "0                159768    5030\n",
       "1                  6121  160859"
      ]
     },
     "execution_count": 146,
     "metadata": {},
     "output_type": "execute_result"
    }
   ],
   "source": [
    "print('Logistic Regression - Bag of Words (SMOTE) Model Confusion Matrix')\n",
    "pd.crosstab(train_results_smote.logit_bow_smote, train_results_smote.actual)"
   ]
  },
  {
   "cell_type": "code",
   "execution_count": 147,
   "metadata": {},
   "outputs": [
    {
     "name": "stdout",
     "output_type": "stream",
     "text": [
      "Logistic Regression - Bag of Words (SMOTE) Model\n",
      "Accuracy: 0.966\n",
      "f1_score: 0.967\n",
      "---\n",
      "              precision    recall  f1-score   support\n",
      "\n",
      "           0       0.97      0.96      0.97    165889\n",
      "           1       0.96      0.97      0.97    165889\n",
      "\n",
      "    accuracy                           0.97    331778\n",
      "   macro avg       0.97      0.97      0.97    331778\n",
      "weighted avg       0.97      0.97      0.97    331778\n",
      "\n"
     ]
    }
   ],
   "source": [
    "print('Logistic Regression - Bag of Words (SMOTE) Model')\n",
    "print(f'Accuracy: {logit_bow_accuracy_smote}')\n",
    "print(f'f1_score: {logit_bow_f1_score_smote}')\n",
    "print('---')\n",
    "print(classification_report(train_results_smote.actual, train_results_smote.logit_bow_smote))"
   ]
  },
  {
   "cell_type": "markdown",
   "metadata": {},
   "source": [
    "#### Takeaways:\n",
    "- Logistic Regression with Bag of Words vectorization utilizing SMOTE resampling has resulted in the best performance thus far. \n",
    "- Both the accuracy and f1-score are fantastic (.97 for both) and recall of Onion articles is at .97"
   ]
  },
  {
   "cell_type": "markdown",
   "metadata": {},
   "source": [
    "### Logistic Regression with TF-IDF Vectorization (No Resampling)"
   ]
  },
  {
   "cell_type": "code",
   "execution_count": 148,
   "metadata": {},
   "outputs": [],
   "source": [
    "logit_tfidf_original = LogisticRegression().fit(X_train_tfidf_original, y_train_original)"
   ]
  },
  {
   "cell_type": "code",
   "execution_count": 149,
   "metadata": {},
   "outputs": [
    {
     "data": {
      "text/html": [
       "<div>\n",
       "<style scoped>\n",
       "    .dataframe tbody tr th:only-of-type {\n",
       "        vertical-align: middle;\n",
       "    }\n",
       "\n",
       "    .dataframe tbody tr th {\n",
       "        vertical-align: top;\n",
       "    }\n",
       "\n",
       "    .dataframe thead th {\n",
       "        text-align: right;\n",
       "    }\n",
       "</style>\n",
       "<table border=\"1\" class=\"dataframe\">\n",
       "  <thead>\n",
       "    <tr style=\"text-align: right;\">\n",
       "      <th></th>\n",
       "      <th>actual</th>\n",
       "      <th>baseline</th>\n",
       "      <th>logit_bow</th>\n",
       "      <th>logit_tfidf</th>\n",
       "    </tr>\n",
       "  </thead>\n",
       "  <tbody>\n",
       "    <tr>\n",
       "      <th>155599</th>\n",
       "      <td>0</td>\n",
       "      <td>0</td>\n",
       "      <td>0</td>\n",
       "      <td>0</td>\n",
       "    </tr>\n",
       "    <tr>\n",
       "      <th>123843</th>\n",
       "      <td>0</td>\n",
       "      <td>0</td>\n",
       "      <td>0</td>\n",
       "      <td>0</td>\n",
       "    </tr>\n",
       "    <tr>\n",
       "      <th>136828</th>\n",
       "      <td>0</td>\n",
       "      <td>0</td>\n",
       "      <td>0</td>\n",
       "      <td>0</td>\n",
       "    </tr>\n",
       "    <tr>\n",
       "      <th>203791</th>\n",
       "      <td>0</td>\n",
       "      <td>0</td>\n",
       "      <td>0</td>\n",
       "      <td>0</td>\n",
       "    </tr>\n",
       "    <tr>\n",
       "      <th>38167</th>\n",
       "      <td>0</td>\n",
       "      <td>0</td>\n",
       "      <td>0</td>\n",
       "      <td>0</td>\n",
       "    </tr>\n",
       "    <tr>\n",
       "      <th>...</th>\n",
       "      <td>...</td>\n",
       "      <td>...</td>\n",
       "      <td>...</td>\n",
       "      <td>...</td>\n",
       "    </tr>\n",
       "    <tr>\n",
       "      <th>56602</th>\n",
       "      <td>0</td>\n",
       "      <td>0</td>\n",
       "      <td>0</td>\n",
       "      <td>0</td>\n",
       "    </tr>\n",
       "    <tr>\n",
       "      <th>145965</th>\n",
       "      <td>0</td>\n",
       "      <td>0</td>\n",
       "      <td>0</td>\n",
       "      <td>0</td>\n",
       "    </tr>\n",
       "    <tr>\n",
       "      <th>107537</th>\n",
       "      <td>0</td>\n",
       "      <td>0</td>\n",
       "      <td>0</td>\n",
       "      <td>0</td>\n",
       "    </tr>\n",
       "    <tr>\n",
       "      <th>159344</th>\n",
       "      <td>0</td>\n",
       "      <td>0</td>\n",
       "      <td>0</td>\n",
       "      <td>0</td>\n",
       "    </tr>\n",
       "    <tr>\n",
       "      <th>255267</th>\n",
       "      <td>0</td>\n",
       "      <td>0</td>\n",
       "      <td>0</td>\n",
       "      <td>0</td>\n",
       "    </tr>\n",
       "  </tbody>\n",
       "</table>\n",
       "<p>176884 rows × 4 columns</p>\n",
       "</div>"
      ],
      "text/plain": [
       "        actual  baseline  logit_bow  logit_tfidf\n",
       "155599       0         0          0            0\n",
       "123843       0         0          0            0\n",
       "136828       0         0          0            0\n",
       "203791       0         0          0            0\n",
       "38167        0         0          0            0\n",
       "...        ...       ...        ...          ...\n",
       "56602        0         0          0            0\n",
       "145965       0         0          0            0\n",
       "107537       0         0          0            0\n",
       "159344       0         0          0            0\n",
       "255267       0         0          0            0\n",
       "\n",
       "[176884 rows x 4 columns]"
      ]
     },
     "execution_count": 149,
     "metadata": {},
     "output_type": "execute_result"
    }
   ],
   "source": [
    "train_results_original['logit_tfidf'] = logit_tfidf_original.predict(X_train_tfidf_original)\n",
    "train_results_original"
   ]
  },
  {
   "cell_type": "code",
   "execution_count": 153,
   "metadata": {},
   "outputs": [],
   "source": [
    "logit_tfidf_accuracy_original = round(accuracy_score(train_results_original.actual, train_results_original.logit_tfidf), 3)\n",
    "logit_tfidf_f1_score_original = round(f1_score(train_results_original.actual, train_results_original.logit_tfidf), 3)"
   ]
  },
  {
   "cell_type": "code",
   "execution_count": 154,
   "metadata": {},
   "outputs": [
    {
     "name": "stdout",
     "output_type": "stream",
     "text": [
      "Logistic Regression - TFIDF (No Resampling) Model Confusion Matrix\n"
     ]
    },
    {
     "data": {
      "text/html": [
       "<div>\n",
       "<style scoped>\n",
       "    .dataframe tbody tr th:only-of-type {\n",
       "        vertical-align: middle;\n",
       "    }\n",
       "\n",
       "    .dataframe tbody tr th {\n",
       "        vertical-align: top;\n",
       "    }\n",
       "\n",
       "    .dataframe thead th {\n",
       "        text-align: right;\n",
       "    }\n",
       "</style>\n",
       "<table border=\"1\" class=\"dataframe\">\n",
       "  <thead>\n",
       "    <tr style=\"text-align: right;\">\n",
       "      <th>actual</th>\n",
       "      <th>0</th>\n",
       "      <th>1</th>\n",
       "    </tr>\n",
       "    <tr>\n",
       "      <th>logit_tfidf</th>\n",
       "      <th></th>\n",
       "      <th></th>\n",
       "    </tr>\n",
       "  </thead>\n",
       "  <tbody>\n",
       "    <tr>\n",
       "      <th>0</th>\n",
       "      <td>165508</td>\n",
       "      <td>8489</td>\n",
       "    </tr>\n",
       "    <tr>\n",
       "      <th>1</th>\n",
       "      <td>381</td>\n",
       "      <td>2506</td>\n",
       "    </tr>\n",
       "  </tbody>\n",
       "</table>\n",
       "</div>"
      ],
      "text/plain": [
       "actual            0     1\n",
       "logit_tfidf              \n",
       "0            165508  8489\n",
       "1               381  2506"
      ]
     },
     "execution_count": 154,
     "metadata": {},
     "output_type": "execute_result"
    }
   ],
   "source": [
    "print('Logistic Regression - TFIDF (No Resampling) Model Confusion Matrix')\n",
    "pd.crosstab(train_results_original.logit_tfidf, train_results_original.actual)"
   ]
  },
  {
   "cell_type": "code",
   "execution_count": 155,
   "metadata": {},
   "outputs": [
    {
     "name": "stdout",
     "output_type": "stream",
     "text": [
      "Logistic Regression - TF-IDF (No Resampling) Model\n",
      "Accuracy: 0.95\n",
      "f1_score: 0.361\n",
      "---\n",
      "              precision    recall  f1-score   support\n",
      "\n",
      "           0       0.95      1.00      0.97    165889\n",
      "           1       0.87      0.23      0.36     10995\n",
      "\n",
      "    accuracy                           0.95    176884\n",
      "   macro avg       0.91      0.61      0.67    176884\n",
      "weighted avg       0.95      0.95      0.94    176884\n",
      "\n"
     ]
    }
   ],
   "source": [
    "print('Logistic Regression - TF-IDF (No Resampling) Model')\n",
    "print(f'Accuracy: {logit_tfidf_accuracy_original}')\n",
    "print(f'f1_score: {logit_tfidf_f1_score_original}')\n",
    "print('---')\n",
    "print(classification_report(train_results_original.actual, train_results_original.logit_tfidf))"
   ]
  },
  {
   "cell_type": "markdown",
   "metadata": {},
   "source": [
    "#### Takeaways:\n",
    "- The TF-IDF vectorization on the original train data produced inferior results to the bag of words vectorization on the original train data.\n",
    "- Both accuracy and recall were reduced with TF-IDF compared to BoW, with only 23% of Onion articles correctly classified."
   ]
  },
  {
   "cell_type": "markdown",
   "metadata": {},
   "source": [
    "### Logistic Regression with TF-IDF Vectorization (Random Undersampling)"
   ]
  },
  {
   "cell_type": "code",
   "execution_count": 156,
   "metadata": {},
   "outputs": [],
   "source": [
    "logit_tfidf_undersampled = LogisticRegression().fit(X_train_tfidf_undersampled, y_train_undersampled)"
   ]
  },
  {
   "cell_type": "code",
   "execution_count": 157,
   "metadata": {},
   "outputs": [
    {
     "data": {
      "text/html": [
       "<div>\n",
       "<style scoped>\n",
       "    .dataframe tbody tr th:only-of-type {\n",
       "        vertical-align: middle;\n",
       "    }\n",
       "\n",
       "    .dataframe tbody tr th {\n",
       "        vertical-align: top;\n",
       "    }\n",
       "\n",
       "    .dataframe thead th {\n",
       "        text-align: right;\n",
       "    }\n",
       "</style>\n",
       "<table border=\"1\" class=\"dataframe\">\n",
       "  <thead>\n",
       "    <tr style=\"text-align: right;\">\n",
       "      <th></th>\n",
       "      <th>actual</th>\n",
       "      <th>logit_bow</th>\n",
       "      <th>logit_tfidf</th>\n",
       "    </tr>\n",
       "  </thead>\n",
       "  <tbody>\n",
       "    <tr>\n",
       "      <th>254363</th>\n",
       "      <td>0</td>\n",
       "      <td>0</td>\n",
       "      <td>0</td>\n",
       "    </tr>\n",
       "    <tr>\n",
       "      <th>224243</th>\n",
       "      <td>0</td>\n",
       "      <td>0</td>\n",
       "      <td>0</td>\n",
       "    </tr>\n",
       "    <tr>\n",
       "      <th>138197</th>\n",
       "      <td>0</td>\n",
       "      <td>0</td>\n",
       "      <td>0</td>\n",
       "    </tr>\n",
       "    <tr>\n",
       "      <th>173522</th>\n",
       "      <td>0</td>\n",
       "      <td>0</td>\n",
       "      <td>0</td>\n",
       "    </tr>\n",
       "    <tr>\n",
       "      <th>63963</th>\n",
       "      <td>0</td>\n",
       "      <td>0</td>\n",
       "      <td>0</td>\n",
       "    </tr>\n",
       "    <tr>\n",
       "      <th>...</th>\n",
       "      <td>...</td>\n",
       "      <td>...</td>\n",
       "      <td>...</td>\n",
       "    </tr>\n",
       "    <tr>\n",
       "      <th>16089</th>\n",
       "      <td>1</td>\n",
       "      <td>1</td>\n",
       "      <td>1</td>\n",
       "    </tr>\n",
       "    <tr>\n",
       "      <th>9580</th>\n",
       "      <td>1</td>\n",
       "      <td>1</td>\n",
       "      <td>1</td>\n",
       "    </tr>\n",
       "    <tr>\n",
       "      <th>2267</th>\n",
       "      <td>1</td>\n",
       "      <td>1</td>\n",
       "      <td>1</td>\n",
       "    </tr>\n",
       "    <tr>\n",
       "      <th>1134</th>\n",
       "      <td>1</td>\n",
       "      <td>1</td>\n",
       "      <td>1</td>\n",
       "    </tr>\n",
       "    <tr>\n",
       "      <th>10976</th>\n",
       "      <td>1</td>\n",
       "      <td>1</td>\n",
       "      <td>1</td>\n",
       "    </tr>\n",
       "  </tbody>\n",
       "</table>\n",
       "<p>21990 rows × 3 columns</p>\n",
       "</div>"
      ],
      "text/plain": [
       "        actual  logit_bow  logit_tfidf\n",
       "254363       0          0            0\n",
       "224243       0          0            0\n",
       "138197       0          0            0\n",
       "173522       0          0            0\n",
       "63963        0          0            0\n",
       "...        ...        ...          ...\n",
       "16089        1          1            1\n",
       "9580         1          1            1\n",
       "2267         1          1            1\n",
       "1134         1          1            1\n",
       "10976        1          1            1\n",
       "\n",
       "[21990 rows x 3 columns]"
      ]
     },
     "execution_count": 157,
     "metadata": {},
     "output_type": "execute_result"
    }
   ],
   "source": [
    "train_results_undersampled['logit_tfidf'] = logit_tfidf_undersampled.predict(X_train_tfidf_undersampled)\n",
    "train_results_undersampled"
   ]
  },
  {
   "cell_type": "code",
   "execution_count": 158,
   "metadata": {},
   "outputs": [],
   "source": [
    "logit_tfidf_accuracy_undersampled = round(accuracy_score(train_results_undersampled.actual, train_results_undersampled.logit_tfidf), 3)\n",
    "logit_tfidf_f1_score_undersampled = round(f1_score(train_results_undersampled.actual, train_results_undersampled.logit_tfidf), 3)"
   ]
  },
  {
   "cell_type": "code",
   "execution_count": 159,
   "metadata": {},
   "outputs": [
    {
     "name": "stdout",
     "output_type": "stream",
     "text": [
      "Logistic Regression - TFIDF (Random Undersampling) Model Confusion Matrix\n"
     ]
    },
    {
     "data": {
      "text/html": [
       "<div>\n",
       "<style scoped>\n",
       "    .dataframe tbody tr th:only-of-type {\n",
       "        vertical-align: middle;\n",
       "    }\n",
       "\n",
       "    .dataframe tbody tr th {\n",
       "        vertical-align: top;\n",
       "    }\n",
       "\n",
       "    .dataframe thead th {\n",
       "        text-align: right;\n",
       "    }\n",
       "</style>\n",
       "<table border=\"1\" class=\"dataframe\">\n",
       "  <thead>\n",
       "    <tr style=\"text-align: right;\">\n",
       "      <th>actual</th>\n",
       "      <th>0</th>\n",
       "      <th>1</th>\n",
       "    </tr>\n",
       "    <tr>\n",
       "      <th>logit_tfidf</th>\n",
       "      <th></th>\n",
       "      <th></th>\n",
       "    </tr>\n",
       "  </thead>\n",
       "  <tbody>\n",
       "    <tr>\n",
       "      <th>0</th>\n",
       "      <td>9838</td>\n",
       "      <td>1252</td>\n",
       "    </tr>\n",
       "    <tr>\n",
       "      <th>1</th>\n",
       "      <td>1157</td>\n",
       "      <td>9743</td>\n",
       "    </tr>\n",
       "  </tbody>\n",
       "</table>\n",
       "</div>"
      ],
      "text/plain": [
       "actual          0     1\n",
       "logit_tfidf            \n",
       "0            9838  1252\n",
       "1            1157  9743"
      ]
     },
     "execution_count": 159,
     "metadata": {},
     "output_type": "execute_result"
    }
   ],
   "source": [
    "print('Logistic Regression - TFIDF (Random Undersampling) Model Confusion Matrix')\n",
    "pd.crosstab(train_results_undersampled.logit_tfidf, train_results_undersampled.actual)"
   ]
  },
  {
   "cell_type": "code",
   "execution_count": 160,
   "metadata": {},
   "outputs": [
    {
     "name": "stdout",
     "output_type": "stream",
     "text": [
      "Logistic Regression - TF-IDF (Random Undersampling) Model\n",
      "Accuracy: 0.89\n",
      "f1_score: 0.89\n",
      "---\n",
      "              precision    recall  f1-score   support\n",
      "\n",
      "           0       0.89      0.89      0.89     10995\n",
      "           1       0.89      0.89      0.89     10995\n",
      "\n",
      "    accuracy                           0.89     21990\n",
      "   macro avg       0.89      0.89      0.89     21990\n",
      "weighted avg       0.89      0.89      0.89     21990\n",
      "\n"
     ]
    }
   ],
   "source": [
    "print('Logistic Regression - TF-IDF (Random Undersampling) Model')\n",
    "print(f'Accuracy: {logit_tfidf_accuracy_undersampled}')\n",
    "print(f'f1_score: {logit_tfidf_f1_score_undersampled}')\n",
    "print('---')\n",
    "print(classification_report(train_results_undersampled.actual, train_results_undersampled.logit_tfidf))"
   ]
  },
  {
   "cell_type": "markdown",
   "metadata": {},
   "source": [
    "#### Takeaways:\n",
    "- Compared to TF-IDF with no resampling, undersampling the majority class drastically improved performance in predicting the minority class (at some expense to the majority). \n",
    "- While undersampling is generally not ideal, this much of an increase is still valuable, despite loss of data, if the overall accuracy is less important than the recall of predicting the minority class. "
   ]
  },
  {
   "cell_type": "markdown",
   "metadata": {},
   "source": [
    "### Logistic Regression with TF-IDF Vectorization (Random Oversampling)"
   ]
  },
  {
   "cell_type": "code",
   "execution_count": 161,
   "metadata": {},
   "outputs": [],
   "source": [
    "logit_tfidf_oversampled = LogisticRegression().fit(X_train_tfidf_oversampled, y_train_oversampled)"
   ]
  },
  {
   "cell_type": "code",
   "execution_count": 162,
   "metadata": {},
   "outputs": [
    {
     "data": {
      "text/html": [
       "<div>\n",
       "<style scoped>\n",
       "    .dataframe tbody tr th:only-of-type {\n",
       "        vertical-align: middle;\n",
       "    }\n",
       "\n",
       "    .dataframe tbody tr th {\n",
       "        vertical-align: top;\n",
       "    }\n",
       "\n",
       "    .dataframe thead th {\n",
       "        text-align: right;\n",
       "    }\n",
       "</style>\n",
       "<table border=\"1\" class=\"dataframe\">\n",
       "  <thead>\n",
       "    <tr style=\"text-align: right;\">\n",
       "      <th></th>\n",
       "      <th>actual</th>\n",
       "      <th>logit_bow</th>\n",
       "      <th>logit_tfidf</th>\n",
       "    </tr>\n",
       "  </thead>\n",
       "  <tbody>\n",
       "    <tr>\n",
       "      <th>155599</th>\n",
       "      <td>0</td>\n",
       "      <td>0</td>\n",
       "      <td>0</td>\n",
       "    </tr>\n",
       "    <tr>\n",
       "      <th>123843</th>\n",
       "      <td>0</td>\n",
       "      <td>0</td>\n",
       "      <td>0</td>\n",
       "    </tr>\n",
       "    <tr>\n",
       "      <th>136828</th>\n",
       "      <td>0</td>\n",
       "      <td>0</td>\n",
       "      <td>0</td>\n",
       "    </tr>\n",
       "    <tr>\n",
       "      <th>203791</th>\n",
       "      <td>0</td>\n",
       "      <td>0</td>\n",
       "      <td>0</td>\n",
       "    </tr>\n",
       "    <tr>\n",
       "      <th>38167</th>\n",
       "      <td>0</td>\n",
       "      <td>0</td>\n",
       "      <td>0</td>\n",
       "    </tr>\n",
       "    <tr>\n",
       "      <th>...</th>\n",
       "      <td>...</td>\n",
       "      <td>...</td>\n",
       "      <td>...</td>\n",
       "    </tr>\n",
       "    <tr>\n",
       "      <th>1311</th>\n",
       "      <td>1</td>\n",
       "      <td>1</td>\n",
       "      <td>1</td>\n",
       "    </tr>\n",
       "    <tr>\n",
       "      <th>8625</th>\n",
       "      <td>1</td>\n",
       "      <td>1</td>\n",
       "      <td>1</td>\n",
       "    </tr>\n",
       "    <tr>\n",
       "      <th>7051</th>\n",
       "      <td>1</td>\n",
       "      <td>1</td>\n",
       "      <td>1</td>\n",
       "    </tr>\n",
       "    <tr>\n",
       "      <th>5342</th>\n",
       "      <td>1</td>\n",
       "      <td>1</td>\n",
       "      <td>1</td>\n",
       "    </tr>\n",
       "    <tr>\n",
       "      <th>12799</th>\n",
       "      <td>1</td>\n",
       "      <td>1</td>\n",
       "      <td>1</td>\n",
       "    </tr>\n",
       "  </tbody>\n",
       "</table>\n",
       "<p>331778 rows × 3 columns</p>\n",
       "</div>"
      ],
      "text/plain": [
       "        actual  logit_bow  logit_tfidf\n",
       "155599       0          0            0\n",
       "123843       0          0            0\n",
       "136828       0          0            0\n",
       "203791       0          0            0\n",
       "38167        0          0            0\n",
       "...        ...        ...          ...\n",
       "1311         1          1            1\n",
       "8625         1          1            1\n",
       "7051         1          1            1\n",
       "5342         1          1            1\n",
       "12799        1          1            1\n",
       "\n",
       "[331778 rows x 3 columns]"
      ]
     },
     "execution_count": 162,
     "metadata": {},
     "output_type": "execute_result"
    }
   ],
   "source": [
    "train_results_oversampled['logit_tfidf'] = logit_tfidf_oversampled.predict(X_train_tfidf_oversampled)\n",
    "train_results_oversampled"
   ]
  },
  {
   "cell_type": "code",
   "execution_count": 163,
   "metadata": {},
   "outputs": [],
   "source": [
    "logit_tfidf_accuracy_oversampled = round(accuracy_score(train_results_oversampled.actual, train_results_oversampled.logit_tfidf), 3)\n",
    "logit_tfidf_f1_score_oversampled = round(f1_score(train_results_oversampled.actual, train_results_oversampled.logit_tfidf), 3)"
   ]
  },
  {
   "cell_type": "code",
   "execution_count": 164,
   "metadata": {},
   "outputs": [
    {
     "name": "stdout",
     "output_type": "stream",
     "text": [
      "Logistic Regression - TFIDF (Random Oversampling) Model Confusion Matrix\n"
     ]
    },
    {
     "data": {
      "text/html": [
       "<div>\n",
       "<style scoped>\n",
       "    .dataframe tbody tr th:only-of-type {\n",
       "        vertical-align: middle;\n",
       "    }\n",
       "\n",
       "    .dataframe tbody tr th {\n",
       "        vertical-align: top;\n",
       "    }\n",
       "\n",
       "    .dataframe thead th {\n",
       "        text-align: right;\n",
       "    }\n",
       "</style>\n",
       "<table border=\"1\" class=\"dataframe\">\n",
       "  <thead>\n",
       "    <tr style=\"text-align: right;\">\n",
       "      <th>actual</th>\n",
       "      <th>0</th>\n",
       "      <th>1</th>\n",
       "    </tr>\n",
       "    <tr>\n",
       "      <th>logit_tfidf</th>\n",
       "      <th></th>\n",
       "      <th></th>\n",
       "    </tr>\n",
       "  </thead>\n",
       "  <tbody>\n",
       "    <tr>\n",
       "      <th>0</th>\n",
       "      <td>150860</td>\n",
       "      <td>7518</td>\n",
       "    </tr>\n",
       "    <tr>\n",
       "      <th>1</th>\n",
       "      <td>15029</td>\n",
       "      <td>158371</td>\n",
       "    </tr>\n",
       "  </tbody>\n",
       "</table>\n",
       "</div>"
      ],
      "text/plain": [
       "actual            0       1\n",
       "logit_tfidf                \n",
       "0            150860    7518\n",
       "1             15029  158371"
      ]
     },
     "execution_count": 164,
     "metadata": {},
     "output_type": "execute_result"
    }
   ],
   "source": [
    "print('Logistic Regression - TFIDF (Random Oversampling) Model Confusion Matrix')\n",
    "pd.crosstab(train_results_oversampled.logit_tfidf, train_results_oversampled.actual)"
   ]
  },
  {
   "cell_type": "code",
   "execution_count": 165,
   "metadata": {},
   "outputs": [
    {
     "name": "stdout",
     "output_type": "stream",
     "text": [
      "Logistic Regression - TF-IDF (Random Oversampling) Model\n",
      "Accuracy: 0.932\n",
      "f1_score: 0.934\n",
      "---\n",
      "              precision    recall  f1-score   support\n",
      "\n",
      "           0       0.95      0.91      0.93    165889\n",
      "           1       0.91      0.95      0.93    165889\n",
      "\n",
      "    accuracy                           0.93    331778\n",
      "   macro avg       0.93      0.93      0.93    331778\n",
      "weighted avg       0.93      0.93      0.93    331778\n",
      "\n"
     ]
    }
   ],
   "source": [
    "print('Logistic Regression - TF-IDF (Random Oversampling) Model')\n",
    "print(f'Accuracy: {logit_tfidf_accuracy_oversampled}')\n",
    "print(f'f1_score: {logit_tfidf_f1_score_oversampled}')\n",
    "print('---')\n",
    "print(classification_report(train_results_oversampled.actual, train_results_oversampled.logit_tfidf))"
   ]
  },
  {
   "cell_type": "markdown",
   "metadata": {},
   "source": [
    "#### Takeaways:\n",
    "- At the cost of just two points of accuracy, oversampling shows the best f1-scores for the TF-IDF based logistic regression models. \n",
    "- While this model still has inferior performance to the Bag of Words based Logistic Regression models, these numbers are competitive with the best of those models. "
   ]
  },
  {
   "cell_type": "markdown",
   "metadata": {},
   "source": [
    "### Logistic Regression with TF-IDF Vectorization (SMOTE)"
   ]
  },
  {
   "cell_type": "code",
   "execution_count": 171,
   "metadata": {},
   "outputs": [],
   "source": [
    "logit_tfidf_smote = LogisticRegression().fit(X_train_tfidf_smote, y_train_tfidf_smote)"
   ]
  },
  {
   "cell_type": "code",
   "execution_count": 172,
   "metadata": {},
   "outputs": [
    {
     "data": {
      "text/html": [
       "<div>\n",
       "<style scoped>\n",
       "    .dataframe tbody tr th:only-of-type {\n",
       "        vertical-align: middle;\n",
       "    }\n",
       "\n",
       "    .dataframe tbody tr th {\n",
       "        vertical-align: top;\n",
       "    }\n",
       "\n",
       "    .dataframe thead th {\n",
       "        text-align: right;\n",
       "    }\n",
       "</style>\n",
       "<table border=\"1\" class=\"dataframe\">\n",
       "  <thead>\n",
       "    <tr style=\"text-align: right;\">\n",
       "      <th></th>\n",
       "      <th>actual</th>\n",
       "      <th>logit_bow_smote</th>\n",
       "      <th>logit_tfidf_smote</th>\n",
       "    </tr>\n",
       "  </thead>\n",
       "  <tbody>\n",
       "    <tr>\n",
       "      <th>0</th>\n",
       "      <td>0</td>\n",
       "      <td>0</td>\n",
       "      <td>0</td>\n",
       "    </tr>\n",
       "    <tr>\n",
       "      <th>1</th>\n",
       "      <td>0</td>\n",
       "      <td>0</td>\n",
       "      <td>0</td>\n",
       "    </tr>\n",
       "    <tr>\n",
       "      <th>2</th>\n",
       "      <td>0</td>\n",
       "      <td>0</td>\n",
       "      <td>0</td>\n",
       "    </tr>\n",
       "    <tr>\n",
       "      <th>3</th>\n",
       "      <td>0</td>\n",
       "      <td>0</td>\n",
       "      <td>0</td>\n",
       "    </tr>\n",
       "    <tr>\n",
       "      <th>4</th>\n",
       "      <td>0</td>\n",
       "      <td>0</td>\n",
       "      <td>0</td>\n",
       "    </tr>\n",
       "    <tr>\n",
       "      <th>...</th>\n",
       "      <td>...</td>\n",
       "      <td>...</td>\n",
       "      <td>...</td>\n",
       "    </tr>\n",
       "    <tr>\n",
       "      <th>331773</th>\n",
       "      <td>1</td>\n",
       "      <td>1</td>\n",
       "      <td>1</td>\n",
       "    </tr>\n",
       "    <tr>\n",
       "      <th>331774</th>\n",
       "      <td>1</td>\n",
       "      <td>1</td>\n",
       "      <td>1</td>\n",
       "    </tr>\n",
       "    <tr>\n",
       "      <th>331775</th>\n",
       "      <td>1</td>\n",
       "      <td>1</td>\n",
       "      <td>1</td>\n",
       "    </tr>\n",
       "    <tr>\n",
       "      <th>331776</th>\n",
       "      <td>1</td>\n",
       "      <td>1</td>\n",
       "      <td>1</td>\n",
       "    </tr>\n",
       "    <tr>\n",
       "      <th>331777</th>\n",
       "      <td>1</td>\n",
       "      <td>1</td>\n",
       "      <td>1</td>\n",
       "    </tr>\n",
       "  </tbody>\n",
       "</table>\n",
       "<p>331778 rows × 3 columns</p>\n",
       "</div>"
      ],
      "text/plain": [
       "        actual  logit_bow_smote  logit_tfidf_smote\n",
       "0            0                0                  0\n",
       "1            0                0                  0\n",
       "2            0                0                  0\n",
       "3            0                0                  0\n",
       "4            0                0                  0\n",
       "...        ...              ...                ...\n",
       "331773       1                1                  1\n",
       "331774       1                1                  1\n",
       "331775       1                1                  1\n",
       "331776       1                1                  1\n",
       "331777       1                1                  1\n",
       "\n",
       "[331778 rows x 3 columns]"
      ]
     },
     "execution_count": 172,
     "metadata": {},
     "output_type": "execute_result"
    }
   ],
   "source": [
    "train_results_smote['logit_tfidf_smote'] = logit_tfidf_smote.predict(X_train_tfidf_smote)\n",
    "train_results_smote"
   ]
  },
  {
   "cell_type": "code",
   "execution_count": 173,
   "metadata": {},
   "outputs": [],
   "source": [
    "logit_tfidf_accuracy_smote = round(accuracy_score(train_results_smote.actual, train_results_smote.logit_tfidf_smote), 3)\n",
    "logit_tfidf_f1_score_smote = round(f1_score(train_results_smote.actual, train_results_smote.logit_tfidf_smote), 3)"
   ]
  },
  {
   "cell_type": "code",
   "execution_count": 174,
   "metadata": {},
   "outputs": [
    {
     "name": "stdout",
     "output_type": "stream",
     "text": [
      "Logistic Regression - TF-IDF (SMOTE) Model Confusion Matrix\n"
     ]
    },
    {
     "data": {
      "text/html": [
       "<div>\n",
       "<style scoped>\n",
       "    .dataframe tbody tr th:only-of-type {\n",
       "        vertical-align: middle;\n",
       "    }\n",
       "\n",
       "    .dataframe tbody tr th {\n",
       "        vertical-align: top;\n",
       "    }\n",
       "\n",
       "    .dataframe thead th {\n",
       "        text-align: right;\n",
       "    }\n",
       "</style>\n",
       "<table border=\"1\" class=\"dataframe\">\n",
       "  <thead>\n",
       "    <tr style=\"text-align: right;\">\n",
       "      <th>actual</th>\n",
       "      <th>0</th>\n",
       "      <th>1</th>\n",
       "    </tr>\n",
       "    <tr>\n",
       "      <th>logit_tfidf_smote</th>\n",
       "      <th></th>\n",
       "      <th></th>\n",
       "    </tr>\n",
       "  </thead>\n",
       "  <tbody>\n",
       "    <tr>\n",
       "      <th>0</th>\n",
       "      <td>150391</td>\n",
       "      <td>7021</td>\n",
       "    </tr>\n",
       "    <tr>\n",
       "      <th>1</th>\n",
       "      <td>15498</td>\n",
       "      <td>158868</td>\n",
       "    </tr>\n",
       "  </tbody>\n",
       "</table>\n",
       "</div>"
      ],
      "text/plain": [
       "actual                  0       1\n",
       "logit_tfidf_smote                \n",
       "0                  150391    7021\n",
       "1                   15498  158868"
      ]
     },
     "execution_count": 174,
     "metadata": {},
     "output_type": "execute_result"
    }
   ],
   "source": [
    "print('Logistic Regression - TF-IDF (SMOTE) Model Confusion Matrix')\n",
    "pd.crosstab(train_results_smote.logit_tfidf_smote, train_results_smote.actual)"
   ]
  },
  {
   "cell_type": "code",
   "execution_count": 176,
   "metadata": {},
   "outputs": [
    {
     "name": "stdout",
     "output_type": "stream",
     "text": [
      "Logistic Regression - TF-IDF (SMOTE) Model\n",
      "Accuracy: 0.932\n",
      "f1_score: 0.934\n",
      "---\n",
      "              precision    recall  f1-score   support\n",
      "\n",
      "           0       0.96      0.91      0.93    165889\n",
      "           1       0.91      0.96      0.93    165889\n",
      "\n",
      "    accuracy                           0.93    331778\n",
      "   macro avg       0.93      0.93      0.93    331778\n",
      "weighted avg       0.93      0.93      0.93    331778\n",
      "\n"
     ]
    }
   ],
   "source": [
    "print('Logistic Regression - TF-IDF (SMOTE) Model')\n",
    "print(f'Accuracy: {logit_tfidf_accuracy_smote}')\n",
    "print(f'f1_score: {logit_tfidf_f1_score_smote}')\n",
    "print('---')\n",
    "print(classification_report(train_results_smote.actual, train_results_smote.logit_tfidf_smote))"
   ]
  },
  {
   "cell_type": "markdown",
   "metadata": {},
   "source": [
    "#### Takeaways:\n",
    "- Utilizing SMOTE with improved the performance of TF-IDF based vectorization over random oversampling slightly."
   ]
  },
  {
   "cell_type": "markdown",
   "metadata": {},
   "source": [
    "### Logistic Regression with doc2vec Vectorization (No Resampling)"
   ]
  },
  {
   "cell_type": "code",
   "execution_count": 166,
   "metadata": {},
   "outputs": [],
   "source": [
    "logit_doc2vec_original = LogisticRegression().fit(X_train_doc2vec_original, y_train_original)"
   ]
  },
  {
   "cell_type": "code",
   "execution_count": 167,
   "metadata": {},
   "outputs": [
    {
     "data": {
      "text/html": [
       "<div>\n",
       "<style scoped>\n",
       "    .dataframe tbody tr th:only-of-type {\n",
       "        vertical-align: middle;\n",
       "    }\n",
       "\n",
       "    .dataframe tbody tr th {\n",
       "        vertical-align: top;\n",
       "    }\n",
       "\n",
       "    .dataframe thead th {\n",
       "        text-align: right;\n",
       "    }\n",
       "</style>\n",
       "<table border=\"1\" class=\"dataframe\">\n",
       "  <thead>\n",
       "    <tr style=\"text-align: right;\">\n",
       "      <th></th>\n",
       "      <th>actual</th>\n",
       "      <th>baseline</th>\n",
       "      <th>logit_bow</th>\n",
       "      <th>logit_tfidf</th>\n",
       "      <th>logit_doc2vec</th>\n",
       "    </tr>\n",
       "  </thead>\n",
       "  <tbody>\n",
       "    <tr>\n",
       "      <th>155599</th>\n",
       "      <td>0</td>\n",
       "      <td>0</td>\n",
       "      <td>0</td>\n",
       "      <td>0</td>\n",
       "      <td>0</td>\n",
       "    </tr>\n",
       "    <tr>\n",
       "      <th>123843</th>\n",
       "      <td>0</td>\n",
       "      <td>0</td>\n",
       "      <td>0</td>\n",
       "      <td>0</td>\n",
       "      <td>0</td>\n",
       "    </tr>\n",
       "    <tr>\n",
       "      <th>136828</th>\n",
       "      <td>0</td>\n",
       "      <td>0</td>\n",
       "      <td>0</td>\n",
       "      <td>0</td>\n",
       "      <td>0</td>\n",
       "    </tr>\n",
       "    <tr>\n",
       "      <th>203791</th>\n",
       "      <td>0</td>\n",
       "      <td>0</td>\n",
       "      <td>0</td>\n",
       "      <td>0</td>\n",
       "      <td>0</td>\n",
       "    </tr>\n",
       "    <tr>\n",
       "      <th>38167</th>\n",
       "      <td>0</td>\n",
       "      <td>0</td>\n",
       "      <td>0</td>\n",
       "      <td>0</td>\n",
       "      <td>0</td>\n",
       "    </tr>\n",
       "    <tr>\n",
       "      <th>...</th>\n",
       "      <td>...</td>\n",
       "      <td>...</td>\n",
       "      <td>...</td>\n",
       "      <td>...</td>\n",
       "      <td>...</td>\n",
       "    </tr>\n",
       "    <tr>\n",
       "      <th>56602</th>\n",
       "      <td>0</td>\n",
       "      <td>0</td>\n",
       "      <td>0</td>\n",
       "      <td>0</td>\n",
       "      <td>0</td>\n",
       "    </tr>\n",
       "    <tr>\n",
       "      <th>145965</th>\n",
       "      <td>0</td>\n",
       "      <td>0</td>\n",
       "      <td>0</td>\n",
       "      <td>0</td>\n",
       "      <td>0</td>\n",
       "    </tr>\n",
       "    <tr>\n",
       "      <th>107537</th>\n",
       "      <td>0</td>\n",
       "      <td>0</td>\n",
       "      <td>0</td>\n",
       "      <td>0</td>\n",
       "      <td>0</td>\n",
       "    </tr>\n",
       "    <tr>\n",
       "      <th>159344</th>\n",
       "      <td>0</td>\n",
       "      <td>0</td>\n",
       "      <td>0</td>\n",
       "      <td>0</td>\n",
       "      <td>0</td>\n",
       "    </tr>\n",
       "    <tr>\n",
       "      <th>255267</th>\n",
       "      <td>0</td>\n",
       "      <td>0</td>\n",
       "      <td>0</td>\n",
       "      <td>0</td>\n",
       "      <td>0</td>\n",
       "    </tr>\n",
       "  </tbody>\n",
       "</table>\n",
       "<p>176884 rows × 5 columns</p>\n",
       "</div>"
      ],
      "text/plain": [
       "        actual  baseline  logit_bow  logit_tfidf  logit_doc2vec\n",
       "155599       0         0          0            0              0\n",
       "123843       0         0          0            0              0\n",
       "136828       0         0          0            0              0\n",
       "203791       0         0          0            0              0\n",
       "38167        0         0          0            0              0\n",
       "...        ...       ...        ...          ...            ...\n",
       "56602        0         0          0            0              0\n",
       "145965       0         0          0            0              0\n",
       "107537       0         0          0            0              0\n",
       "159344       0         0          0            0              0\n",
       "255267       0         0          0            0              0\n",
       "\n",
       "[176884 rows x 5 columns]"
      ]
     },
     "execution_count": 167,
     "metadata": {},
     "output_type": "execute_result"
    }
   ],
   "source": [
    "train_results_original['logit_doc2vec'] = logit_doc2vec_original.predict(X_train_doc2vec_original)\n",
    "train_results_original"
   ]
  },
  {
   "cell_type": "code",
   "execution_count": 168,
   "metadata": {},
   "outputs": [],
   "source": [
    "logit_doc2vec_accuracy_original = round(accuracy_score(train_results_original.actual, train_results_original.logit_doc2vec), 3)\n",
    "logit_doc2vec_f1_score_original = round(f1_score(train_results_original.actual, train_results_original.logit_doc2vec), 3)"
   ]
  },
  {
   "cell_type": "code",
   "execution_count": 169,
   "metadata": {},
   "outputs": [
    {
     "name": "stdout",
     "output_type": "stream",
     "text": [
      "Logistic Regression - doc2vec (No Resampling) Model Confusion Matrix\n"
     ]
    },
    {
     "data": {
      "text/html": [
       "<div>\n",
       "<style scoped>\n",
       "    .dataframe tbody tr th:only-of-type {\n",
       "        vertical-align: middle;\n",
       "    }\n",
       "\n",
       "    .dataframe tbody tr th {\n",
       "        vertical-align: top;\n",
       "    }\n",
       "\n",
       "    .dataframe thead th {\n",
       "        text-align: right;\n",
       "    }\n",
       "</style>\n",
       "<table border=\"1\" class=\"dataframe\">\n",
       "  <thead>\n",
       "    <tr style=\"text-align: right;\">\n",
       "      <th>actual</th>\n",
       "      <th>0</th>\n",
       "      <th>1</th>\n",
       "    </tr>\n",
       "    <tr>\n",
       "      <th>logit_doc2vec</th>\n",
       "      <th></th>\n",
       "      <th></th>\n",
       "    </tr>\n",
       "  </thead>\n",
       "  <tbody>\n",
       "    <tr>\n",
       "      <th>0</th>\n",
       "      <td>165889</td>\n",
       "      <td>10995</td>\n",
       "    </tr>\n",
       "  </tbody>\n",
       "</table>\n",
       "</div>"
      ],
      "text/plain": [
       "actual              0      1\n",
       "logit_doc2vec               \n",
       "0              165889  10995"
      ]
     },
     "execution_count": 169,
     "metadata": {},
     "output_type": "execute_result"
    }
   ],
   "source": [
    "print('Logistic Regression - doc2vec (No Resampling) Model Confusion Matrix')\n",
    "pd.crosstab(train_results_original.logit_doc2vec, train_results_original.actual)"
   ]
  },
  {
   "cell_type": "code",
   "execution_count": 170,
   "metadata": {},
   "outputs": [
    {
     "name": "stdout",
     "output_type": "stream",
     "text": [
      "Logistic Regression - doc2vec (No Resampling) Model\n",
      "Accuracy: 0.938\n",
      "f1_score: 0.0\n",
      "---\n",
      "              precision    recall  f1-score   support\n",
      "\n",
      "           0       0.94      1.00      0.97    165889\n",
      "           1       0.00      0.00      0.00     10995\n",
      "\n",
      "    accuracy                           0.94    176884\n",
      "   macro avg       0.47      0.50      0.48    176884\n",
      "weighted avg       0.88      0.94      0.91    176884\n",
      "\n"
     ]
    }
   ],
   "source": [
    "print('Logistic Regression - doc2vec (No Resampling) Model')\n",
    "print(f'Accuracy: {logit_doc2vec_accuracy_original}')\n",
    "print(f'f1_score: {logit_doc2vec_f1_score_original}')\n",
    "print('---')\n",
    "print(classification_report(train_results_original.actual, train_results_original.logit_doc2vec))"
   ]
  },
  {
   "cell_type": "markdown",
   "metadata": {},
   "source": [
    "#### Takeaways:\n",
    "- Unfortunately, the doc2vec model performed identical to baseline. It was unable to capture any Onion articles, and is therefore useless."
   ]
  },
  {
   "cell_type": "markdown",
   "metadata": {},
   "source": [
    "### Logistic Regression with doc2vec Vectorization (Random Undersampling)"
   ]
  },
  {
   "cell_type": "code",
   "execution_count": 177,
   "metadata": {},
   "outputs": [],
   "source": [
    "logit_doc2vec_undersampled = LogisticRegression().fit(X_train_doc2vec_undersampled, y_train_undersampled)"
   ]
  },
  {
   "cell_type": "code",
   "execution_count": 178,
   "metadata": {},
   "outputs": [
    {
     "data": {
      "text/html": [
       "<div>\n",
       "<style scoped>\n",
       "    .dataframe tbody tr th:only-of-type {\n",
       "        vertical-align: middle;\n",
       "    }\n",
       "\n",
       "    .dataframe tbody tr th {\n",
       "        vertical-align: top;\n",
       "    }\n",
       "\n",
       "    .dataframe thead th {\n",
       "        text-align: right;\n",
       "    }\n",
       "</style>\n",
       "<table border=\"1\" class=\"dataframe\">\n",
       "  <thead>\n",
       "    <tr style=\"text-align: right;\">\n",
       "      <th></th>\n",
       "      <th>actual</th>\n",
       "      <th>logit_bow</th>\n",
       "      <th>logit_tfidf</th>\n",
       "      <th>logit_doc2vec</th>\n",
       "    </tr>\n",
       "  </thead>\n",
       "  <tbody>\n",
       "    <tr>\n",
       "      <th>254363</th>\n",
       "      <td>0</td>\n",
       "      <td>0</td>\n",
       "      <td>0</td>\n",
       "      <td>0</td>\n",
       "    </tr>\n",
       "    <tr>\n",
       "      <th>224243</th>\n",
       "      <td>0</td>\n",
       "      <td>0</td>\n",
       "      <td>0</td>\n",
       "      <td>0</td>\n",
       "    </tr>\n",
       "    <tr>\n",
       "      <th>138197</th>\n",
       "      <td>0</td>\n",
       "      <td>0</td>\n",
       "      <td>0</td>\n",
       "      <td>0</td>\n",
       "    </tr>\n",
       "    <tr>\n",
       "      <th>173522</th>\n",
       "      <td>0</td>\n",
       "      <td>0</td>\n",
       "      <td>0</td>\n",
       "      <td>0</td>\n",
       "    </tr>\n",
       "    <tr>\n",
       "      <th>63963</th>\n",
       "      <td>0</td>\n",
       "      <td>0</td>\n",
       "      <td>0</td>\n",
       "      <td>1</td>\n",
       "    </tr>\n",
       "    <tr>\n",
       "      <th>...</th>\n",
       "      <td>...</td>\n",
       "      <td>...</td>\n",
       "      <td>...</td>\n",
       "      <td>...</td>\n",
       "    </tr>\n",
       "    <tr>\n",
       "      <th>16089</th>\n",
       "      <td>1</td>\n",
       "      <td>1</td>\n",
       "      <td>1</td>\n",
       "      <td>1</td>\n",
       "    </tr>\n",
       "    <tr>\n",
       "      <th>9580</th>\n",
       "      <td>1</td>\n",
       "      <td>1</td>\n",
       "      <td>1</td>\n",
       "      <td>1</td>\n",
       "    </tr>\n",
       "    <tr>\n",
       "      <th>2267</th>\n",
       "      <td>1</td>\n",
       "      <td>1</td>\n",
       "      <td>1</td>\n",
       "      <td>0</td>\n",
       "    </tr>\n",
       "    <tr>\n",
       "      <th>1134</th>\n",
       "      <td>1</td>\n",
       "      <td>1</td>\n",
       "      <td>1</td>\n",
       "      <td>1</td>\n",
       "    </tr>\n",
       "    <tr>\n",
       "      <th>10976</th>\n",
       "      <td>1</td>\n",
       "      <td>1</td>\n",
       "      <td>1</td>\n",
       "      <td>0</td>\n",
       "    </tr>\n",
       "  </tbody>\n",
       "</table>\n",
       "<p>21990 rows × 4 columns</p>\n",
       "</div>"
      ],
      "text/plain": [
       "        actual  logit_bow  logit_tfidf  logit_doc2vec\n",
       "254363       0          0            0              0\n",
       "224243       0          0            0              0\n",
       "138197       0          0            0              0\n",
       "173522       0          0            0              0\n",
       "63963        0          0            0              1\n",
       "...        ...        ...          ...            ...\n",
       "16089        1          1            1              1\n",
       "9580         1          1            1              1\n",
       "2267         1          1            1              0\n",
       "1134         1          1            1              1\n",
       "10976        1          1            1              0\n",
       "\n",
       "[21990 rows x 4 columns]"
      ]
     },
     "execution_count": 178,
     "metadata": {},
     "output_type": "execute_result"
    }
   ],
   "source": [
    "train_results_undersampled['logit_doc2vec'] = logit_doc2vec_undersampled.predict(X_train_doc2vec_undersampled)\n",
    "train_results_undersampled"
   ]
  },
  {
   "cell_type": "code",
   "execution_count": 179,
   "metadata": {},
   "outputs": [],
   "source": [
    "logit_doc2vec_accuracy_undersampled = round(accuracy_score(train_results_undersampled.actual, train_results_undersampled.logit_doc2vec), 3)\n",
    "logit_doc2vec_f1_score_undersampled = round(f1_score(train_results_undersampled.actual, train_results_undersampled.logit_doc2vec), 3)"
   ]
  },
  {
   "cell_type": "code",
   "execution_count": 180,
   "metadata": {},
   "outputs": [
    {
     "name": "stdout",
     "output_type": "stream",
     "text": [
      "Logistic Regression - doc2vec (Random Undersampling) Model Confusion Matrix\n"
     ]
    },
    {
     "data": {
      "text/html": [
       "<div>\n",
       "<style scoped>\n",
       "    .dataframe tbody tr th:only-of-type {\n",
       "        vertical-align: middle;\n",
       "    }\n",
       "\n",
       "    .dataframe tbody tr th {\n",
       "        vertical-align: top;\n",
       "    }\n",
       "\n",
       "    .dataframe thead th {\n",
       "        text-align: right;\n",
       "    }\n",
       "</style>\n",
       "<table border=\"1\" class=\"dataframe\">\n",
       "  <thead>\n",
       "    <tr style=\"text-align: right;\">\n",
       "      <th>actual</th>\n",
       "      <th>0</th>\n",
       "      <th>1</th>\n",
       "    </tr>\n",
       "    <tr>\n",
       "      <th>logit_doc2vec</th>\n",
       "      <th></th>\n",
       "      <th></th>\n",
       "    </tr>\n",
       "  </thead>\n",
       "  <tbody>\n",
       "    <tr>\n",
       "      <th>0</th>\n",
       "      <td>5739</td>\n",
       "      <td>5249</td>\n",
       "    </tr>\n",
       "    <tr>\n",
       "      <th>1</th>\n",
       "      <td>5256</td>\n",
       "      <td>5746</td>\n",
       "    </tr>\n",
       "  </tbody>\n",
       "</table>\n",
       "</div>"
      ],
      "text/plain": [
       "actual            0     1\n",
       "logit_doc2vec            \n",
       "0              5739  5249\n",
       "1              5256  5746"
      ]
     },
     "execution_count": 180,
     "metadata": {},
     "output_type": "execute_result"
    }
   ],
   "source": [
    "print('Logistic Regression - doc2vec (Random Undersampling) Model Confusion Matrix')\n",
    "pd.crosstab(train_results_undersampled.logit_doc2vec, train_results_undersampled.actual)"
   ]
  },
  {
   "cell_type": "code",
   "execution_count": 181,
   "metadata": {},
   "outputs": [
    {
     "name": "stdout",
     "output_type": "stream",
     "text": [
      "Logistic Regression - doc2vec (Random Undersampling) Model\n",
      "Accuracy: 0.522\n",
      "f1_score: 0.522\n",
      "---\n",
      "              precision    recall  f1-score   support\n",
      "\n",
      "           0       0.52      0.52      0.52     10995\n",
      "           1       0.52      0.52      0.52     10995\n",
      "\n",
      "    accuracy                           0.52     21990\n",
      "   macro avg       0.52      0.52      0.52     21990\n",
      "weighted avg       0.52      0.52      0.52     21990\n",
      "\n"
     ]
    }
   ],
   "source": [
    "print('Logistic Regression - doc2vec (Random Undersampling) Model')\n",
    "print(f'Accuracy: {logit_doc2vec_accuracy_undersampled}')\n",
    "print(f'f1_score: {logit_doc2vec_f1_score_undersampled}')\n",
    "print('---')\n",
    "print(classification_report(train_results_undersampled.actual, train_results_undersampled.logit_doc2vec))"
   ]
  },
  {
   "cell_type": "markdown",
   "metadata": {},
   "source": [
    "#### Takeaways:\n",
    "- Rather surprisingly, the doc2vec using undersampled data performed abysmally. Granted, a baseline model would only have a 50% accuracy, so doc2vec improved upon the baseline, but the overall f1-score for Onion headlines is very low. "
   ]
  },
  {
   "cell_type": "markdown",
   "metadata": {},
   "source": [
    "### Logistic Regression with doc2vec Vectorization (Random Oversampling)"
   ]
  },
  {
   "cell_type": "code",
   "execution_count": 182,
   "metadata": {},
   "outputs": [],
   "source": [
    "logit_doc2vec_oversampled = LogisticRegression().fit(X_train_doc2vec_oversampled, y_train_oversampled)"
   ]
  },
  {
   "cell_type": "code",
   "execution_count": 183,
   "metadata": {},
   "outputs": [
    {
     "data": {
      "text/html": [
       "<div>\n",
       "<style scoped>\n",
       "    .dataframe tbody tr th:only-of-type {\n",
       "        vertical-align: middle;\n",
       "    }\n",
       "\n",
       "    .dataframe tbody tr th {\n",
       "        vertical-align: top;\n",
       "    }\n",
       "\n",
       "    .dataframe thead th {\n",
       "        text-align: right;\n",
       "    }\n",
       "</style>\n",
       "<table border=\"1\" class=\"dataframe\">\n",
       "  <thead>\n",
       "    <tr style=\"text-align: right;\">\n",
       "      <th></th>\n",
       "      <th>actual</th>\n",
       "      <th>logit_bow</th>\n",
       "      <th>logit_tfidf</th>\n",
       "      <th>logit_doc2vec</th>\n",
       "    </tr>\n",
       "  </thead>\n",
       "  <tbody>\n",
       "    <tr>\n",
       "      <th>155599</th>\n",
       "      <td>0</td>\n",
       "      <td>0</td>\n",
       "      <td>0</td>\n",
       "      <td>0</td>\n",
       "    </tr>\n",
       "    <tr>\n",
       "      <th>123843</th>\n",
       "      <td>0</td>\n",
       "      <td>0</td>\n",
       "      <td>0</td>\n",
       "      <td>0</td>\n",
       "    </tr>\n",
       "    <tr>\n",
       "      <th>136828</th>\n",
       "      <td>0</td>\n",
       "      <td>0</td>\n",
       "      <td>0</td>\n",
       "      <td>0</td>\n",
       "    </tr>\n",
       "    <tr>\n",
       "      <th>203791</th>\n",
       "      <td>0</td>\n",
       "      <td>0</td>\n",
       "      <td>0</td>\n",
       "      <td>0</td>\n",
       "    </tr>\n",
       "    <tr>\n",
       "      <th>38167</th>\n",
       "      <td>0</td>\n",
       "      <td>0</td>\n",
       "      <td>0</td>\n",
       "      <td>1</td>\n",
       "    </tr>\n",
       "    <tr>\n",
       "      <th>...</th>\n",
       "      <td>...</td>\n",
       "      <td>...</td>\n",
       "      <td>...</td>\n",
       "      <td>...</td>\n",
       "    </tr>\n",
       "    <tr>\n",
       "      <th>1311</th>\n",
       "      <td>1</td>\n",
       "      <td>1</td>\n",
       "      <td>1</td>\n",
       "      <td>0</td>\n",
       "    </tr>\n",
       "    <tr>\n",
       "      <th>8625</th>\n",
       "      <td>1</td>\n",
       "      <td>1</td>\n",
       "      <td>1</td>\n",
       "      <td>1</td>\n",
       "    </tr>\n",
       "    <tr>\n",
       "      <th>7051</th>\n",
       "      <td>1</td>\n",
       "      <td>1</td>\n",
       "      <td>1</td>\n",
       "      <td>1</td>\n",
       "    </tr>\n",
       "    <tr>\n",
       "      <th>5342</th>\n",
       "      <td>1</td>\n",
       "      <td>1</td>\n",
       "      <td>1</td>\n",
       "      <td>1</td>\n",
       "    </tr>\n",
       "    <tr>\n",
       "      <th>12799</th>\n",
       "      <td>1</td>\n",
       "      <td>1</td>\n",
       "      <td>1</td>\n",
       "      <td>1</td>\n",
       "    </tr>\n",
       "  </tbody>\n",
       "</table>\n",
       "<p>331778 rows × 4 columns</p>\n",
       "</div>"
      ],
      "text/plain": [
       "        actual  logit_bow  logit_tfidf  logit_doc2vec\n",
       "155599       0          0            0              0\n",
       "123843       0          0            0              0\n",
       "136828       0          0            0              0\n",
       "203791       0          0            0              0\n",
       "38167        0          0            0              1\n",
       "...        ...        ...          ...            ...\n",
       "1311         1          1            1              0\n",
       "8625         1          1            1              1\n",
       "7051         1          1            1              1\n",
       "5342         1          1            1              1\n",
       "12799        1          1            1              1\n",
       "\n",
       "[331778 rows x 4 columns]"
      ]
     },
     "execution_count": 183,
     "metadata": {},
     "output_type": "execute_result"
    }
   ],
   "source": [
    "train_results_oversampled['logit_doc2vec'] = logit_doc2vec_oversampled.predict(X_train_doc2vec_oversampled)\n",
    "train_results_oversampled"
   ]
  },
  {
   "cell_type": "code",
   "execution_count": 184,
   "metadata": {},
   "outputs": [],
   "source": [
    "logit_doc2vec_accuracy_oversampled = round(accuracy_score(train_results_oversampled.actual, train_results_oversampled.logit_doc2vec), 3)\n",
    "logit_doc2vec_f1_score_oversampled = round(f1_score(train_results_oversampled.actual, train_results_oversampled.logit_doc2vec), 3)"
   ]
  },
  {
   "cell_type": "code",
   "execution_count": 185,
   "metadata": {},
   "outputs": [
    {
     "name": "stdout",
     "output_type": "stream",
     "text": [
      "Logistic Regression - doc2vec (Random Oversampling) Model Confusion Matrix\n"
     ]
    },
    {
     "data": {
      "text/html": [
       "<div>\n",
       "<style scoped>\n",
       "    .dataframe tbody tr th:only-of-type {\n",
       "        vertical-align: middle;\n",
       "    }\n",
       "\n",
       "    .dataframe tbody tr th {\n",
       "        vertical-align: top;\n",
       "    }\n",
       "\n",
       "    .dataframe thead th {\n",
       "        text-align: right;\n",
       "    }\n",
       "</style>\n",
       "<table border=\"1\" class=\"dataframe\">\n",
       "  <thead>\n",
       "    <tr style=\"text-align: right;\">\n",
       "      <th>actual</th>\n",
       "      <th>0</th>\n",
       "      <th>1</th>\n",
       "    </tr>\n",
       "    <tr>\n",
       "      <th>logit_doc2vec</th>\n",
       "      <th></th>\n",
       "      <th></th>\n",
       "    </tr>\n",
       "  </thead>\n",
       "  <tbody>\n",
       "    <tr>\n",
       "      <th>0</th>\n",
       "      <td>85499</td>\n",
       "      <td>80033</td>\n",
       "    </tr>\n",
       "    <tr>\n",
       "      <th>1</th>\n",
       "      <td>80390</td>\n",
       "      <td>85856</td>\n",
       "    </tr>\n",
       "  </tbody>\n",
       "</table>\n",
       "</div>"
      ],
      "text/plain": [
       "actual             0      1\n",
       "logit_doc2vec              \n",
       "0              85499  80033\n",
       "1              80390  85856"
      ]
     },
     "execution_count": 185,
     "metadata": {},
     "output_type": "execute_result"
    }
   ],
   "source": [
    "print('Logistic Regression - doc2vec (Random Oversampling) Model Confusion Matrix')\n",
    "pd.crosstab(train_results_oversampled.logit_doc2vec, train_results_oversampled.actual)"
   ]
  },
  {
   "cell_type": "code",
   "execution_count": 186,
   "metadata": {},
   "outputs": [
    {
     "name": "stdout",
     "output_type": "stream",
     "text": [
      "Logistic Regression - doc2vec (Random Oversampling) Model\n",
      "Accuracy: 0.516\n",
      "f1_score: 0.517\n",
      "---\n",
      "              precision    recall  f1-score   support\n",
      "\n",
      "           0       0.52      0.52      0.52    165889\n",
      "           1       0.52      0.52      0.52    165889\n",
      "\n",
      "    accuracy                           0.52    331778\n",
      "   macro avg       0.52      0.52      0.52    331778\n",
      "weighted avg       0.52      0.52      0.52    331778\n",
      "\n"
     ]
    }
   ],
   "source": [
    "print('Logistic Regression - doc2vec (Random Oversampling) Model')\n",
    "print(f'Accuracy: {logit_doc2vec_accuracy_oversampled}')\n",
    "print(f'f1_score: {logit_doc2vec_f1_score_oversampled}')\n",
    "print('---')\n",
    "print(classification_report(train_results_oversampled.actual, train_results_oversampled.logit_doc2vec))"
   ]
  },
  {
   "cell_type": "markdown",
   "metadata": {},
   "source": [
    "#### Takeaways:\n",
    "- Similar to the results with undersampling, the doc2vec vectorization resulted in extremely poor scores. \n",
    "- Although this too slightly outperformed baseline, the use of doc2vec in this dataset does not appear to be engendering good results regardless of the sampling technique used."
   ]
  },
  {
   "cell_type": "markdown",
   "metadata": {},
   "source": [
    "### Logistic Regression with doc2vec Vectorization (SMOTE)"
   ]
  },
  {
   "cell_type": "code",
   "execution_count": 187,
   "metadata": {},
   "outputs": [],
   "source": [
    "logit_doc2vec_smote = LogisticRegression().fit(X_train_doc2vec_smote, y_train_doc2vec_smote)"
   ]
  },
  {
   "cell_type": "code",
   "execution_count": 188,
   "metadata": {},
   "outputs": [
    {
     "data": {
      "text/html": [
       "<div>\n",
       "<style scoped>\n",
       "    .dataframe tbody tr th:only-of-type {\n",
       "        vertical-align: middle;\n",
       "    }\n",
       "\n",
       "    .dataframe tbody tr th {\n",
       "        vertical-align: top;\n",
       "    }\n",
       "\n",
       "    .dataframe thead th {\n",
       "        text-align: right;\n",
       "    }\n",
       "</style>\n",
       "<table border=\"1\" class=\"dataframe\">\n",
       "  <thead>\n",
       "    <tr style=\"text-align: right;\">\n",
       "      <th></th>\n",
       "      <th>actual</th>\n",
       "      <th>logit_bow_smote</th>\n",
       "      <th>logit_tfidf_smote</th>\n",
       "      <th>logit_doc2vec_smote</th>\n",
       "    </tr>\n",
       "  </thead>\n",
       "  <tbody>\n",
       "    <tr>\n",
       "      <th>0</th>\n",
       "      <td>0</td>\n",
       "      <td>0</td>\n",
       "      <td>0</td>\n",
       "      <td>0</td>\n",
       "    </tr>\n",
       "    <tr>\n",
       "      <th>1</th>\n",
       "      <td>0</td>\n",
       "      <td>0</td>\n",
       "      <td>0</td>\n",
       "      <td>0</td>\n",
       "    </tr>\n",
       "    <tr>\n",
       "      <th>2</th>\n",
       "      <td>0</td>\n",
       "      <td>0</td>\n",
       "      <td>0</td>\n",
       "      <td>0</td>\n",
       "    </tr>\n",
       "    <tr>\n",
       "      <th>3</th>\n",
       "      <td>0</td>\n",
       "      <td>0</td>\n",
       "      <td>0</td>\n",
       "      <td>0</td>\n",
       "    </tr>\n",
       "    <tr>\n",
       "      <th>4</th>\n",
       "      <td>0</td>\n",
       "      <td>0</td>\n",
       "      <td>0</td>\n",
       "      <td>1</td>\n",
       "    </tr>\n",
       "    <tr>\n",
       "      <th>...</th>\n",
       "      <td>...</td>\n",
       "      <td>...</td>\n",
       "      <td>...</td>\n",
       "      <td>...</td>\n",
       "    </tr>\n",
       "    <tr>\n",
       "      <th>331773</th>\n",
       "      <td>1</td>\n",
       "      <td>1</td>\n",
       "      <td>1</td>\n",
       "      <td>0</td>\n",
       "    </tr>\n",
       "    <tr>\n",
       "      <th>331774</th>\n",
       "      <td>1</td>\n",
       "      <td>1</td>\n",
       "      <td>1</td>\n",
       "      <td>1</td>\n",
       "    </tr>\n",
       "    <tr>\n",
       "      <th>331775</th>\n",
       "      <td>1</td>\n",
       "      <td>1</td>\n",
       "      <td>1</td>\n",
       "      <td>1</td>\n",
       "    </tr>\n",
       "    <tr>\n",
       "      <th>331776</th>\n",
       "      <td>1</td>\n",
       "      <td>1</td>\n",
       "      <td>1</td>\n",
       "      <td>1</td>\n",
       "    </tr>\n",
       "    <tr>\n",
       "      <th>331777</th>\n",
       "      <td>1</td>\n",
       "      <td>1</td>\n",
       "      <td>1</td>\n",
       "      <td>1</td>\n",
       "    </tr>\n",
       "  </tbody>\n",
       "</table>\n",
       "<p>331778 rows × 4 columns</p>\n",
       "</div>"
      ],
      "text/plain": [
       "        actual  logit_bow_smote  logit_tfidf_smote  logit_doc2vec_smote\n",
       "0            0                0                  0                    0\n",
       "1            0                0                  0                    0\n",
       "2            0                0                  0                    0\n",
       "3            0                0                  0                    0\n",
       "4            0                0                  0                    1\n",
       "...        ...              ...                ...                  ...\n",
       "331773       1                1                  1                    0\n",
       "331774       1                1                  1                    1\n",
       "331775       1                1                  1                    1\n",
       "331776       1                1                  1                    1\n",
       "331777       1                1                  1                    1\n",
       "\n",
       "[331778 rows x 4 columns]"
      ]
     },
     "execution_count": 188,
     "metadata": {},
     "output_type": "execute_result"
    }
   ],
   "source": [
    "train_results_smote['logit_doc2vec_smote'] = logit_doc2vec_smote.predict(X_train_doc2vec_smote)\n",
    "train_results_smote"
   ]
  },
  {
   "cell_type": "code",
   "execution_count": 189,
   "metadata": {},
   "outputs": [],
   "source": [
    "logit_doc2vec_accuracy_smote = round(accuracy_score(train_results_smote.actual, train_results_smote.logit_doc2vec_smote), 3)\n",
    "logit_doc2vec_f1_score_smote = round(f1_score(train_results_smote.actual, train_results_smote.logit_doc2vec_smote), 3)"
   ]
  },
  {
   "cell_type": "code",
   "execution_count": 190,
   "metadata": {},
   "outputs": [
    {
     "name": "stdout",
     "output_type": "stream",
     "text": [
      "Logistic Regression - doc2vec (SMOTE) Model Confusion Matrix\n"
     ]
    },
    {
     "data": {
      "text/html": [
       "<div>\n",
       "<style scoped>\n",
       "    .dataframe tbody tr th:only-of-type {\n",
       "        vertical-align: middle;\n",
       "    }\n",
       "\n",
       "    .dataframe tbody tr th {\n",
       "        vertical-align: top;\n",
       "    }\n",
       "\n",
       "    .dataframe thead th {\n",
       "        text-align: right;\n",
       "    }\n",
       "</style>\n",
       "<table border=\"1\" class=\"dataframe\">\n",
       "  <thead>\n",
       "    <tr style=\"text-align: right;\">\n",
       "      <th>actual</th>\n",
       "      <th>0</th>\n",
       "      <th>1</th>\n",
       "    </tr>\n",
       "    <tr>\n",
       "      <th>logit_doc2vec_smote</th>\n",
       "      <th></th>\n",
       "      <th></th>\n",
       "    </tr>\n",
       "  </thead>\n",
       "  <tbody>\n",
       "    <tr>\n",
       "      <th>0</th>\n",
       "      <td>85678</td>\n",
       "      <td>79657</td>\n",
       "    </tr>\n",
       "    <tr>\n",
       "      <th>1</th>\n",
       "      <td>80211</td>\n",
       "      <td>86232</td>\n",
       "    </tr>\n",
       "  </tbody>\n",
       "</table>\n",
       "</div>"
      ],
      "text/plain": [
       "actual                   0      1\n",
       "logit_doc2vec_smote              \n",
       "0                    85678  79657\n",
       "1                    80211  86232"
      ]
     },
     "execution_count": 190,
     "metadata": {},
     "output_type": "execute_result"
    }
   ],
   "source": [
    "print('Logistic Regression - doc2vec (SMOTE) Model Confusion Matrix')\n",
    "pd.crosstab(train_results_smote.logit_doc2vec_smote, train_results_smote.actual)"
   ]
  },
  {
   "cell_type": "code",
   "execution_count": 191,
   "metadata": {},
   "outputs": [
    {
     "name": "stdout",
     "output_type": "stream",
     "text": [
      "Logistic Regression - doc2vec (SMOTE) Model\n",
      "Accuracy: 0.518\n",
      "f1_score: 0.519\n",
      "---\n",
      "              precision    recall  f1-score   support\n",
      "\n",
      "           0       0.52      0.52      0.52    165889\n",
      "           1       0.52      0.52      0.52    165889\n",
      "\n",
      "    accuracy                           0.52    331778\n",
      "   macro avg       0.52      0.52      0.52    331778\n",
      "weighted avg       0.52      0.52      0.52    331778\n",
      "\n"
     ]
    }
   ],
   "source": [
    "print('Logistic Regression - doc2vec (SMOTE) Model')\n",
    "print(f'Accuracy: {logit_doc2vec_accuracy_smote}')\n",
    "print(f'f1_score: {logit_doc2vec_f1_score_smote}')\n",
    "print('---')\n",
    "print(classification_report(train_results_smote.actual, train_results_smote.logit_doc2vec_smote))"
   ]
  },
  {
   "cell_type": "markdown",
   "metadata": {},
   "source": [
    "#### Takeaways:\n",
    "- SMOTE resampling of doc2vec features performed similarly to random under/oversampling.\n",
    "\n",
    "## Train Summary"
   ]
  },
  {
   "cell_type": "code",
   "execution_count": null,
   "metadata": {},
   "outputs": [],
   "source": []
  }
 ],
 "metadata": {
  "kernelspec": {
   "display_name": "Python 3",
   "language": "python",
   "name": "python3"
  },
  "language_info": {
   "codemirror_mode": {
    "name": "ipython",
    "version": 3
   },
   "file_extension": ".py",
   "mimetype": "text/x-python",
   "name": "python",
   "nbconvert_exporter": "python",
   "pygments_lexer": "ipython3",
   "version": "3.7.9"
  }
 },
 "nbformat": 4,
 "nbformat_minor": 4
}
